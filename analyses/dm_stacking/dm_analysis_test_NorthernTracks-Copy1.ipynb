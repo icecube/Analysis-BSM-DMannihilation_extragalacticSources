{
 "cells": [
  {
   "cell_type": "markdown",
   "id": "06323e87",
   "metadata": {},
   "source": [
    "# Time-integrated point source search analysis example"
   ]
  },
  {
   "cell_type": "code",
   "execution_count": 1,
   "id": "9918333b",
   "metadata": {},
   "outputs": [
    {
     "data": {
      "text/plain": [
       "'/data/user/liruohan/prepare_Analysis-BSM-DMannihilation_extragalacticSources/analyses/dm_stacking'"
      ]
     },
     "execution_count": 1,
     "metadata": {},
     "output_type": "execute_result"
    }
   ],
   "source": [
    "import os\n",
    "os.getcwd()"
   ]
  },
  {
   "cell_type": "markdown",
   "id": "6619a6d7",
   "metadata": {},
   "source": [
    "## Software setup"
   ]
  },
  {
   "cell_type": "code",
   "execution_count": 2,
   "id": "cffb8bf2",
   "metadata": {},
   "outputs": [],
   "source": [
    "import sys\n",
    "\n",
    "# Add skyllh and i3skyllh projects to the PYTHONPATH\n",
    "sys.path.insert(0, '/data/user/liruohan/software/skyllh')\n",
    "sys.path.insert(0, '/data/user/liruohan/software/i3skyllh')\n",
    "#sys.path.insert(0, '/home/liruohan/.local/lib/python3.7/site-packages')\n",
    "#sys.path.insert(0, '/home/cbellenghi/.pyenv/versions/3.8.1/lib/python3.8/site-packages')\n",
    "\n",
    "# Add missing python packages from cvmfs\n",
    "#sys.path.insert(0, '/cvmfs/icecube.opensciencegrid.org/py3-v4.1.1/RHEL_7_x86_64/lib/python3.7/site-packages')\n",
    "extra_path = \"/cvmfs/icecube.opensciencegrid.org/users/tkontrimas/software/pip/python3.11/site-packages\" # whatever individual directory it is\n",
    "if extra_path not in sys.path:\n",
    "    sys.path.append(extra_path)"
   ]
  },
  {
   "cell_type": "markdown",
   "id": "2a191ec4",
   "metadata": {},
   "source": [
    "## Create `datasets` object"
   ]
  },
  {
   "cell_type": "code",
   "execution_count": 3,
   "id": "73c9638f",
   "metadata": {},
   "outputs": [],
   "source": [
    "import numpy as np\n",
    "import matplotlib.pyplot as plt\n",
    "import pandas as pd\n",
    "from tqdm import tqdm\n",
    "\n",
    "from skyllh.core.config import Config\n",
    "from skyllh.core.random import RandomStateService\n",
    "from skyllh.core.timing import TimeLord\n",
    "from skyllh.core.source_model import PointLikeSource\n",
    "\n",
    "# Pre-defined datasets\n",
    "from i3skyllh.datasets import data_samples\n",
    "\n",
    "#Pre-defined analysis\n",
    "# from i3skyllh.analyses.trad_single_ps import analysis as trad_single_analysis\n",
    "# from i3skyllh.analyses.trad_stacked_ps import analysis as trad_stacking_analysis\n",
    "# from i3skyllh.analyses.trad_single_ps import analysis_dm as trad_single_analysis_dm\n",
    "from i3skyllh.analyses.trad_stacked_ps import analysis_dm as trad_stacking_analysis_dm\n",
    "\n",
    "# import matplotlib as mpl\n",
    "\n",
    "# mpl.rcParams['figure.figsize'] = (6,4)\n",
    "# mpl.rcParams['figure.dpi'] = 300"
   ]
  },
  {
   "cell_type": "code",
   "execution_count": 4,
   "id": "51c051c9",
   "metadata": {},
   "outputs": [],
   "source": [
    "# Update global settings to use 2 cpu cores\n",
    "#Config['multiproc']['ncpu'] = 2\n",
    "cfg=Config()\n",
    "cfg.set_ncpu(2)\n",
    "\n",
    "from skyllh.core.datafields import (\n",
    "    DataFieldStages as DFS,\n",
    ")\n",
    "# use no MC\n",
    "# cfg['datafields']['astro'] = DFS.ANALYSIS_MC\n",
    "# cfg['datafields']['conv'] = DFS.ANALYSIS_MC"
   ]
  },
  {
   "cell_type": "code",
   "execution_count": 5,
   "id": "cf712a3f",
   "metadata": {},
   "outputs": [],
   "source": [
    "# Specify base path for datasets\n",
    "data_base_path = '/data/ana/analyses'\n",
    "\n",
    "# Load specific dataset collection\n",
    "dsc = data_samples['OscNext_v002p04'].create_dataset_collection(\n",
    "            base_path=data_base_path,cfg=cfg) #or NorthernTracks_v005p01\n",
    "\n",
    "# Pick a dataset or create a list of datasets from the dataset collection\n",
    "datasets = dsc.get_datasets('IC86_2011_2021')"
   ]
  },
  {
   "cell_type": "code",
   "execution_count": 6,
   "id": "01a8a2e3",
   "metadata": {},
   "outputs": [],
   "source": [
    "from skyllh.core.minimizers.iminuit import IMinuitMinimizerImpl"
   ]
  },
  {
   "cell_type": "code",
   "execution_count": 7,
   "id": "96e8e0f0",
   "metadata": {},
   "outputs": [],
   "source": [
    "# Define some common analysis parameters\n",
    "refplflux_gamma = 0.5\n",
    "minimizer_impl = IMinuitMinimizerImpl(cfg=cfg)\n",
    "#minimizer_impl = None\n",
    "optimize_delta_angle = 10.0\n",
    "rss_seed = 1\n",
    "rss = RandomStateService(rss_seed)"
   ]
  },
  {
   "cell_type": "code",
   "execution_count": 8,
   "id": "452f23d3",
   "metadata": {},
   "outputs": [],
   "source": [
    "ra_arr=np.array([224.755625  , 154.802375  ,   2.02341667, 278.76416667,\n",
    "        280.5375    , 351.8415    , 299.9994    , 205.2964    ,\n",
    "        120.68079167, 232.82541667, 104.90875   , 141.321     ,\n",
    "        234.15958333, 218.71854167, 210.07675   , 141.162     ,\n",
    "        169.74041667, 141.30375   , 352.6552    , 198.8155    ,\n",
    "        126.292625  , 118.85541667, 286.35791667,  90.54042   ,\n",
    "        174.80791667, 174.80791667, 184.47916667, 233.96791667,\n",
    "        239.79      , 208.26416667, 184.02954167, 219.09208333,\n",
    "         68.29625   , 195.9975    , 166.1138    ,  73.01958   ,\n",
    "         34.11292   ,   1.58125   , 139.60833333, 226.005     ,\n",
    "        171.40083333, 144.55108333, 253.4676    , 196.587375  ,\n",
    "        323.9766    , 121.41108333, 197.2733    , 259.81041667,\n",
    "        194.9531    ,  88.72333333,  77.68958333,  70.94537   ,\n",
    "        115.63666667, 321.164     , 224.27833333, 345.815     ,\n",
    "         49.95067   ,  37.06079   ,  38.575     , 214.49791667,\n",
    "        184.61041667, 103.05083333,  12.19642   ,  42.67417   ,\n",
    "        321.9373    , 304.6606    ,  93.90129   , 307.1462    ,\n",
    "          6.38092   , 176.31666667, 166.69791667, 186.4455    ,\n",
    "        183.2627    , 155.8775    , 205.53458333, 180.79      ,\n",
    "        182.63583333, 182.3745    , 198.365     , 186.45333333,\n",
    "        184.7397    ])\n",
    "dec_arr=np.array([61.23152778, 63.96741667, 14.83983333, 32.69638889, 79.77138889,\n",
    "        15.41036111, 65.14851   , 30.37811   , 31.06758333,  7.45777778,\n",
    "        54.19666667, 69.488     , 54.55916667, 48.66186111,  5.04505556,\n",
    "        56.12969444, 58.05666667, 52.28638889, 71.37911   , 44.4075    ,\n",
    "        37.98880556, 39.18611111, 42.46111111, 28.47139   , 33.93083333,\n",
    "        33.93083333, 58.65972222, 57.9025    , 35.02972222, 69.30833333,\n",
    "        50.825     , 58.79416667,  5.35444444, 53.79172   , 38.20883   ,\n",
    "        49.54583   , 51.42375   , 20.20277778, 16.30527778, 10.43782   ,\n",
    "        54.3825    ,  7.72777778, 39.76017   , 53.30641667, 47.47453   ,\n",
    "        26.16816667, 11.63414   , 48.98027778, 27.9807    , 46.43944444,\n",
    "        16.49888889, 28.97194   , 49.80972222, 50.97329   , 49.669     ,\n",
    "         8.87388889, 41.5117    , 31.31094   , 32.48333   , 25.13666667,\n",
    "        29.81277778, 74.42694444, 31.95697   , 54.70419   , 56.94436   ,\n",
    "        40.68344   , 71.03748   , 25.73361   , 68.36147   , 79.68138889,\n",
    "        72.56861111, 12.66203   ,  7.03881   , 19.865     , 35.65416667,\n",
    "        44.53138889, 39.40583333, 43.685     , 36.59358   , 33.54694444,\n",
    "        47.30397   ])\n",
    "weight_arr=np.array([0.00040521, 0.00040846, 0.00040989, 0.00041909, 0.00044537,\n",
    "       0.00045612, 0.00046153, 0.00046779, 0.00047393, 0.00048039,\n",
    "       0.00048195, 0.00048958, 0.00049103, 0.00049265, 0.00049313,\n",
    "       0.00051222, 0.00052136, 0.00052444, 0.0005435 , 0.00055509,\n",
    "       0.0006125 , 0.00065439, 0.00065587, 0.00068172, 0.00069196,\n",
    "       0.00069196, 0.00069241, 0.00073913, 0.00075588, 0.00076813,\n",
    "       0.0007818 , 0.00079068, 0.00079232, 0.00081294, 0.00082382,\n",
    "       0.0008812 , 0.00089339, 0.00092314, 0.00094126, 0.0009752 ,\n",
    "       0.00097793, 0.00098586, 0.00114846, 0.00116211, 0.00116522,\n",
    "       0.00117926, 0.00118397, 0.00126644, 0.00138562, 0.00154348,\n",
    "       0.00155108, 0.00156935, 0.0016089 , 0.00184623, 0.00189567,\n",
    "       0.00195989, 0.00238219, 0.00264506, 0.00281039, 0.00281405,\n",
    "       0.00285993, 0.00299   , 0.00323358, 0.00327643, 0.00355436,\n",
    "       0.00355478, 0.00404473, 0.00435971, 0.00511612, 0.00598944,\n",
    "       0.00884075, 0.01042823, 0.01501309, 0.02927102, 0.03276768,\n",
    "       0.04740906, 0.06161564, 0.08164006, 0.08736569, 0.17287162,\n",
    "       0.34521955])\n",
    "\n",
    "# most_significant_src={'NGC4258':[184.739700,47.303970,1],'NGC4395':[186.453333,33.546944,1],'NGC5033':[198.365000,36.593580,1],\n",
    "#                   'NGC4138':[182.374500,43.685000,1],'NGC4151':[182.635833,39.4058331,1],'NGC4051':[180.790000,44.531389,1]}"
   ]
  },
  {
   "cell_type": "code",
   "execution_count": 9,
   "id": "13b5eb14",
   "metadata": {},
   "outputs": [],
   "source": [
    "#Define initial source object\n",
    "sources = [PointLikeSource(ra=src_ra, dec=src_dec, weight=src_weight)\n",
    "           for (src_ra, src_dec, src_weight) in zip(np.deg2rad(ra_arr), np.deg2rad(dec_arr), weight_arr)]"
   ]
  },
  {
   "cell_type": "code",
   "execution_count": 10,
   "id": "d2b5195e",
   "metadata": {},
   "outputs": [],
   "source": [
    "# # #source\n",
    "# single_src=most_significant_src['NGC4258']\n",
    "#source = PointLikeSource(ra=np.deg2rad(40.75),dec=np.deg2rad(-0.05))\n",
    "\n",
    "#source_fluxes = DMFlux(channel='W',dm_mass=1000)"
   ]
  },
  {
   "cell_type": "code",
   "execution_count": 11,
   "id": "9357410b",
   "metadata": {},
   "outputs": [],
   "source": [
    "# mass_test_list = (200,300,400,500,600,700,800,1000,1200,1500,2000,3000)\n",
    "# for mass in tqdm(mass_test_list):\n",
    "#     ana_trad = trad_single_analysis.create_analysis(\n",
    "#     cfg=cfg,\n",
    "#     datasets=datasets,\n",
    "#     source=source,\n",
    "#     channel='\\[Nu]\\[Mu]',\n",
    "#     mass=mass,\n",
    "#     ns_seed=100.0,\n",
    "#     compress_data=True,\n",
    "#     optimize_delta_angle_deg=10,\n",
    "#     #energy_range=(1e4,2e4),\n",
    "#     minimizer_impl=minimizer_impl)\n",
    "    \n",
    "#     events_list = [ data.mc for data in ana_trad.data_list ]\n",
    "#     ana_trad.initialize_trial(events_list)\n",
    "    \n",
    "#     ns_grid=np.linspace(0,200,201)\n",
    "#     plt.plot(ns_grid, [ana_trad.llhratio.evaluate([ns, 2.5])[0] for ns in ns_grid],\n",
    "#              label='mass={}'.format(str(mass)))\n",
    "#     plt.xlabel(r'$(E[GeV]$')\n",
    "#     plt.ylabel(r'$-LLHratio$')"
   ]
  },
  {
   "cell_type": "code",
   "execution_count": 12,
   "id": "71f58cb1",
   "metadata": {},
   "outputs": [],
   "source": [
    "# #%%scalene\n",
    "# ana_trad_powerlaw = trad_single_analysis_powerlaw.create_analysis(\n",
    "#     cfg=cfg,\n",
    "#     datasets=datasets,\n",
    "#     source=source,\n",
    "# #    bkg_event_rate_field_names=['astro', 'conv'],\n",
    "#     compress_data=True,\n",
    "#     optimize_delta_angle_deg=10,\n",
    "# #    energy_range=(1e4,2e5),\n",
    "#     ns_seed=100,\n",
    "#     ns_max=1e4,\n",
    "#     minimizer_impl=minimizer_impl\n",
    "# )"
   ]
  },
  {
   "cell_type": "code",
   "execution_count": 13,
   "id": "42c373e9",
   "metadata": {},
   "outputs": [],
   "source": [
    "# #%%scalene\n",
    "# ana_single_dm = trad_single_analysis_spline.create_analysis(\n",
    "#     cfg=cfg,\n",
    "#     datasets=datasets,\n",
    "#     source=source,\n",
    "#     channel='WW',\n",
    "#     mass=1000,\n",
    "# #    bkg_event_rate_field_names=['astro', 'conv'],\n",
    "#     compress_data=True,\n",
    "#     optimize_delta_angle_deg=10,\n",
    "#     #energy_range=(1e4,2e4),\n",
    "#     ns_seed=100,\n",
    "#     ns_max=1e4,\n",
    "#     minimizer_impl=minimizer_impl\n",
    "# )"
   ]
  },
  {
   "cell_type": "code",
   "execution_count": 15,
   "id": "652629fa",
   "metadata": {},
   "outputs": [
    {
     "name": "stdout",
     "output_type": "stream",
     "text": [
      "/data/user/liruohan/model_spline/photospline_tables/splinefit_WW_earth_1000_ann.fits\n"
     ]
    },
    {
     "name": "stderr",
     "output_type": "stream",
     "text": [
      " 80%|████████  | 4/5 [00:17<00:00,  1.57it/s]"
     ]
    },
    {
     "name": "stdout",
     "output_type": "stream",
     "text": [
      "\n"
     ]
    },
    {
     "name": "stderr",
     "output_type": "stream",
     "text": [
      "100%|██████████| 9/9 [00:17<00:00,  1.95s/it]\n",
      "100%|██████████| 5/5 [00:02<00:00,  2.28it/s]\n"
     ]
    }
   ],
   "source": [
    "#%%scalene\n",
    "ana_stacking_dm = trad_stacking_analysis_dm.create_analysis(\n",
    "    cfg=cfg,\n",
    "    datasets=datasets,\n",
    "    sources=sources,\n",
    "    channel='WW',\n",
    "    mass=1000,\n",
    "#    bkg_event_rate_field_names=['astro', 'conv'],\n",
    "    compress_data=True,\n",
    "    optimize_delta_angle_deg=10,\n",
    "    #energy_range=(1e4,2e4),\n",
    "    ns_seed=100,\n",
    "    ns_max=1e4,\n",
    "    minimizer_impl=minimizer_impl\n",
    ")"
   ]
  },
  {
   "cell_type": "code",
   "execution_count": null,
   "id": "da465c3b",
   "metadata": {},
   "outputs": [],
   "source": [
    "break"
   ]
  },
  {
   "cell_type": "code",
   "execution_count": null,
   "id": "1c89ce88",
   "metadata": {},
   "outputs": [],
   "source": [
    "(ana_stacking_dm.sig_generator.mu2flux(10.6)) * 9.31257e-06 *1e5"
   ]
  },
  {
   "cell_type": "code",
   "execution_count": null,
   "id": "6e0f2953",
   "metadata": {},
   "outputs": [],
   "source": [
    "rss_seed_gen=1\n",
    "rss_seed_fit=10\n",
    "rss_gen = RandomStateService(rss_seed_gen)\n",
    "rss_fit = RandomStateService(rss_seed_fit)"
   ]
  },
  {
   "cell_type": "code",
   "execution_count": null,
   "id": "acecdd30",
   "metadata": {},
   "outputs": [],
   "source": [
    "n_trials=10\n",
    "for k in range(n_trials):\n",
    "    # draw random dataset from MC\n",
    "    (n_sig, n_events_list, events_list) = ana_trad_powerlaw.generate_pseudo_data(rss=rss_gen, mean_n_sig=0)\n",
    "\n",
    "    # perform analysis on random dataset\n",
    "#     r_pl = ana_trad_powerlaw.do_trial_with_given_pseudo_data(seed=rss_seed_gen,\n",
    "#                                                     mean_n_sig=0,\n",
    "#                                                     n_sig=n_sig,\n",
    "#                                                     n_events_list=n_events_list,\n",
    "#                                                     events_list=events_list,\n",
    "#                                                     minimizer_rss=rss_gen)\n",
    "    r_sf = ana_trad_dm.do_trial_with_given_pseudo_data(seed=rss_seed_fit,\n",
    "                                                  mean_n_sig=0,\n",
    "                                                  n_sig=n_sig,\n",
    "                                                  n_events_list=n_events_list,\n",
    "                                                  events_list=events_list,\n",
    "                                                  minimizer_rss=rss_fit)\n",
    "    # combine results\n",
    "#     names = [f'{nn}_sf' for nn in r_sf.dtype.names]\n",
    "#     vals = [r_sf[nn] for nn in r_sf.dtype.names]\n",
    "#     r = np.lib.recfunctions.append_fields(r_pl, names, vals, usemask=False, asrecarray=False)\n",
    "#     results.append(r)"
   ]
  },
  {
   "cell_type": "code",
   "execution_count": null,
   "id": "9ab131e1",
   "metadata": {},
   "outputs": [],
   "source": [
    "res = np.lib.recfunctions.stack_arrays(results, asrecarray=False, usemask=False)\n",
    "print(res)\n",
    "trials_outfile = os.path.join(args.outdir, args.outfile)\n",
    "np.save(trials_outfile, res)"
   ]
  },
  {
   "cell_type": "markdown",
   "id": "d39999f3",
   "metadata": {},
   "source": [
    "### Test signal injection ###"
   ]
  },
  {
   "cell_type": "code",
   "execution_count": null,
   "id": "63ce698a",
   "metadata": {},
   "outputs": [],
   "source": [
    "# mc_pstracks=np.load('/data/ana/analyses/ps_tracks/version-004-p01/IC86_2019_exp.npy')\n",
    "# mc_pstracks"
   ]
  },
  {
   "cell_type": "code",
   "execution_count": null,
   "id": "8191ec0c",
   "metadata": {},
   "outputs": [],
   "source": [
    "background_events = ana_stacking_dm.generate_background_events(rss)\n",
    "signal_events = ana_stacking_dm.generate_signal_events(rss, 100000)"
   ]
  },
  {
   "cell_type": "code",
   "execution_count": null,
   "id": "735735bb",
   "metadata": {},
   "outputs": [],
   "source": [
    "print(background_events[1][0])"
   ]
  },
  {
   "cell_type": "code",
   "execution_count": null,
   "id": "cc4882de",
   "metadata": {},
   "outputs": [],
   "source": [
    "print(signal_events[2][0])"
   ]
  },
  {
   "cell_type": "code",
   "execution_count": null,
   "id": "0a6f30e9",
   "metadata": {},
   "outputs": [],
   "source": [
    "dm_mass=10000\n",
    "bins=np.linspace(0,dm_mass,100)\n",
    "bkg_hist=plt.hist(10**(background_events[1][0]['log_energy']),bins=bins,histtype=\"step\",density=True,label='bkg pdf')\n",
    "sig_hist=plt.hist(10**(signal_events[2][0]['log_energy']),bins=bins,histtype=\"step\",density=True,label='sig pdf')\n",
    "plt.xlim([0,dm_mass])\n",
    "plt.legend()"
   ]
  },
  {
   "cell_type": "code",
   "execution_count": null,
   "id": "2a2036df",
   "metadata": {},
   "outputs": [],
   "source": [
    "DM_model = ana_single_dm.shg_mgr.shg_list[0].fluxmodel\n",
    "DM_model(dm_mass)"
   ]
  },
  {
   "cell_type": "code",
   "execution_count": null,
   "id": "3382f6f6",
   "metadata": {},
   "outputs": [],
   "source": [
    "DM_model.mass"
   ]
  },
  {
   "cell_type": "code",
   "execution_count": null,
   "id": "91338cb6",
   "metadata": {},
   "outputs": [],
   "source": [
    "E=np.linspace(0,dm_mass,1000)\n",
    "plt.plot(E,E**2*DM_model(E),label=\"spectrum from model\")"
   ]
  },
  {
   "cell_type": "code",
   "execution_count": null,
   "id": "f9e8a1bc",
   "metadata": {},
   "outputs": [],
   "source": [
    "plt.figure()\n",
    "bins = np.linspace(0,dm_mass,100)\n",
    "plt.hist(bins, weights=DM_model(bins),bins=bins,density=True,alpha=0.2,label=\"spectrum form model\")\n",
    "bkg_hist=plt.hist(10**(background_events[1][0]['log_energy']),bins=bins,alpha=0.2,density=True,label='bkg pdf')\n",
    "\n",
    "\n",
    "plt.hist(signal_events[2][0]['true_energy'], bins=bins,histtype=\"step\", label=\"mc sig true engy\", density=True)\n",
    "plt.hist(ana_single_dm.data_list[0].mc['true_energy'], bins=bins, weights=ana_single_dm.data_list[0].mc['mcweight']*DM_model(ana_single_dm.data_list[0].mc['true_energy']), histtype='step', label='mc sig true engy(re-weighted)', density=True)\n",
    "\n",
    "plt.hist(10**(signal_events[2][0]['log_energy']), bins=bins,histtype=\"step\", label=\"mc sig reco engy\", density=True)\n",
    "plt.hist(10**ana_single_dm.data_list[0].mc['log_energy'],bins=bins, weights=ana_single_dm.data_list[0].mc['mcweight']*DM_model(ana_single_dm.data_list[0].mc['true_energy']), histtype='step', label='mc sig reco engy(re-weighted)', density=True)\n",
    "plt.xlim([0,dm_mass])\n",
    "plt.legend()"
   ]
  },
  {
   "cell_type": "code",
   "execution_count": null,
   "id": "b9056f90",
   "metadata": {},
   "outputs": [],
   "source": [
    "break"
   ]
  },
  {
   "cell_type": "markdown",
   "id": "63955250",
   "metadata": {},
   "source": [
    "### play with fit and trials ###"
   ]
  },
  {
   "cell_type": "code",
   "execution_count": 18,
   "id": "4dbfe590",
   "metadata": {
    "scrolled": true
   },
   "outputs": [
    {
     "name": "stderr",
     "output_type": "stream",
     "text": [
      "  0%|          | 0/1 [00:00<?, ?it/s]"
     ]
    },
    {
     "name": "stdout",
     "output_type": "stream",
     "text": [
      "signal_generator.py : ds_idxs [0]\n",
      "i3/pdfratio gridparams: {'gamma': 0.9}\n",
      "i3/pdfratio gridparams_hash: -910794440889698088\n",
      "i3/pdfratio gridparams_hash_log_ratio_spline_dict: {-910794440889698088: <scipy.interpolate._rgi.RegularGridInterpolator object at 0x7fd7db6a1810>, 8308373913968590013: <scipy.interpolate._rgi.RegularGridInterpolator object at 0x7fd7db6b0890>, -723780827370130334: <scipy.interpolate._rgi.RegularGridInterpolator object at 0x7fd7d9fd8ed0>, -1795699540631995886: <scipy.interpolate._rgi.RegularGridInterpolator object at 0x7fd7d9ff6d50>}\n",
      "i3/pdfratio gridparams: {'gamma': 1.0}\n",
      "i3/pdfratio gridparams_hash: 8308373913968590013\n",
      "i3/pdfratio gridparams_hash_log_ratio_spline_dict: {-910794440889698088: <scipy.interpolate._rgi.RegularGridInterpolator object at 0x7fd7db6a1810>, 8308373913968590013: <scipy.interpolate._rgi.RegularGridInterpolator object at 0x7fd7db6b0890>, -723780827370130334: <scipy.interpolate._rgi.RegularGridInterpolator object at 0x7fd7d9fd8ed0>, -1795699540631995886: <scipy.interpolate._rgi.RegularGridInterpolator object at 0x7fd7d9ff6d50>}\n",
      "i3/pdfratio gridparams: {'gamma': 1.1}\n",
      "i3/pdfratio gridparams_hash: -723780827370130334\n",
      "i3/pdfratio gridparams_hash_log_ratio_spline_dict: {-910794440889698088: <scipy.interpolate._rgi.RegularGridInterpolator object at 0x7fd7db6a1810>, 8308373913968590013: <scipy.interpolate._rgi.RegularGridInterpolator object at 0x7fd7db6b0890>, -723780827370130334: <scipy.interpolate._rgi.RegularGridInterpolator object at 0x7fd7d9fd8ed0>, -1795699540631995886: <scipy.interpolate._rgi.RegularGridInterpolator object at 0x7fd7d9ff6d50>}\n",
      "In llhratio.py log_lambda nan grads [nan nan]\n",
      "In llhratio.py log_lambda nan grads [nan nan]\n",
      "In llhratio.py log_lambda nan grads [nan nan]\n",
      "In llhratio.py log_lambda nan grads [nan nan]\n",
      "In llhratio.py log_lambda nan grads [nan nan]\n",
      "In llhratio.py log_lambda nan grads [nan nan]\n",
      "In llhratio.py log_lambda nan grads [nan nan]\n",
      "In llhratio.py log_lambda nan grads [nan nan]\n",
      "In llhratio.py log_lambda nan grads [nan nan]\n",
      "In llhratio.py log_lambda nan grads [nan nan]\n",
      "In llhratio.py log_lambda nan grads [nan nan]\n",
      "In llhratio.py log_lambda nan grads [nan nan]\n",
      "In llhratio.py log_lambda nan grads [nan nan]\n",
      "In llhratio.py log_lambda nan grads [nan nan]\n",
      "In llhratio.py log_lambda nan grads [nan nan]\n",
      "In llhratio.py log_lambda nan grads [nan nan]\n",
      "In llhratio.py log_lambda nan grads [nan nan]\n",
      "In llhratio.py log_lambda nan grads [nan nan]\n",
      "In llhratio.py log_lambda nan grads [nan nan]\n",
      "In llhratio.py log_lambda nan grads [nan nan]\n",
      "In llhratio.py log_lambda nan grads [nan nan]\n",
      "In llhratio.py log_lambda nan grads [nan nan]\n",
      "In llhratio.py log_lambda nan grads [nan nan]\n",
      "In llhratio.py log_lambda nan grads [nan nan]\n",
      "In llhratio.py log_lambda nan grads [nan nan]\n",
      "In llhratio.py log_lambda nan grads [nan nan]\n",
      "In llhratio.py log_lambda nan grads [nan nan]\n",
      "In llhratio.py log_lambda nan grads [nan nan]\n",
      "In llhratio.py log_lambda nan grads [nan nan]\n",
      "In llhratio.py log_lambda nan grads [nan nan]\n",
      "In llhratio.py log_lambda nan grads [nan nan]\n",
      "In llhratio.py log_lambda nan grads [nan nan]\n",
      "In llhratio.py log_lambda nan grads [nan nan]\n",
      "In llhratio.py log_lambda nan grads [nan nan]\n",
      "In llhratio.py log_lambda nan grads [nan nan]\n",
      "In llhratio.py log_lambda nan grads [nan nan]\n",
      "In llhratio.py log_lambda nan grads [nan nan]\n",
      "In llhratio.py log_lambda nan grads [nan nan]\n",
      "In llhratio.py log_lambda nan grads [nan nan]\n",
      "In llhratio.py log_lambda nan grads [nan nan]\n",
      "In llhratio.py log_lambda nan grads [nan nan]\n",
      "In llhratio.py log_lambda nan grads [nan nan]\n",
      "In llhratio.py log_lambda nan grads [nan nan]\n",
      "In llhratio.py log_lambda nan grads [nan nan]\n",
      "In llhratio.py log_lambda nan grads [nan nan]\n",
      "In llhratio.py log_lambda nan grads [nan nan]\n",
      "In llhratio.py log_lambda nan grads [nan nan]\n",
      "In llhratio.py log_lambda nan grads [nan nan]\n",
      "In llhratio.py log_lambda nan grads [nan nan]\n",
      "In llhratio.py log_lambda nan grads [nan nan]\n",
      "In llhratio.py log_lambda nan grads [nan nan]\n",
      "In llhratio.py log_lambda nan grads [nan nan]\n",
      "In llhratio.py log_lambda nan grads [nan nan]\n",
      "In llhratio.py log_lambda nan grads [nan nan]\n",
      "In llhratio.py log_lambda nan grads [nan nan]\n",
      "In llhratio.py log_lambda nan grads [nan nan]\n",
      "In llhratio.py log_lambda nan grads [nan nan]\n",
      "In llhratio.py log_lambda nan grads [nan nan]\n",
      "In llhratio.py log_lambda nan grads [nan nan]\n",
      "In llhratio.py log_lambda nan grads [nan nan]\n",
      "In llhratio.py log_lambda nan grads [nan nan]\n",
      "In llhratio.py log_lambda nan grads [nan nan]\n",
      "In llhratio.py log_lambda nan grads [nan nan]\n",
      "In llhratio.py log_lambda nan grads [nan nan]\n",
      "In llhratio.py log_lambda nan grads [nan nan]\n",
      "In llhratio.py log_lambda nan grads [nan nan]\n",
      "In llhratio.py log_lambda nan grads [nan nan]\n",
      "In llhratio.py log_lambda nan grads [nan nan]\n",
      "In llhratio.py log_lambda nan grads [nan nan]\n",
      "In llhratio.py log_lambda nan grads [nan nan]\n",
      "In llhratio.py log_lambda nan grads [nan nan]\n",
      "In llhratio.py log_lambda nan grads [nan nan]\n",
      "In llhratio.py log_lambda nan grads [nan nan]\n",
      "In llhratio.py log_lambda nan grads [nan nan]\n",
      "In llhratio.py log_lambda nan grads [nan nan]\n",
      "In llhratio.py log_lambda nan grads [nan nan]\n",
      "In llhratio.py log_lambda nan grads [nan nan]\n",
      "In llhratio.py log_lambda nan grads [nan nan]\n",
      "In llhratio.py log_lambda nan grads [nan nan]\n"
     ]
    },
    {
     "ename": "KeyboardInterrupt",
     "evalue": "",
     "output_type": "error",
     "traceback": [
      "\u001b[0;31m---------------------------------------------------------------------------\u001b[0m",
      "\u001b[0;31mKeyboardInterrupt\u001b[0m                         Traceback (most recent call last)",
      "Cell \u001b[0;32mIn[18], line 3\u001b[0m\n\u001b[1;32m      1\u001b[0m \u001b[38;5;66;03m# Generate signal trials\u001b[39;00m\n\u001b[1;32m      2\u001b[0m rss \u001b[38;5;241m=\u001b[39m RandomStateService(rss_seed)\n\u001b[0;32m----> 3\u001b[0m res_trad_sig \u001b[38;5;241m=\u001b[39m \u001b[43mana_stacking_dm\u001b[49m\u001b[38;5;241;43m.\u001b[39;49m\u001b[43mdo_trials\u001b[49m\u001b[43m(\u001b[49m\u001b[43mrss\u001b[49m\u001b[43m,\u001b[49m\u001b[43m \u001b[49m\u001b[43mn\u001b[49m\u001b[38;5;241;43m=\u001b[39;49m\u001b[38;5;241;43m1\u001b[39;49m\u001b[43m,\u001b[49m\u001b[43m \u001b[49m\u001b[43mmean_n_sig\u001b[49m\u001b[38;5;241;43m=\u001b[39;49m\u001b[38;5;241;43m2\u001b[39;49m\u001b[43m)\u001b[49m\n\u001b[1;32m      4\u001b[0m res_trad_sig\n",
      "File \u001b[0;32m/data/user/liruohan/software/skyllh/skyllh/core/analysis.py:1212\u001b[0m, in \u001b[0;36mAnalysis.do_trials\u001b[0;34m(self, rss, n, ncpu, tl, ppbar, **kwargs)\u001b[0m\n\u001b[1;32m   1207\u001b[0m ncpu \u001b[38;5;241m=\u001b[39m get_ncpu(\n\u001b[1;32m   1208\u001b[0m     cfg\u001b[38;5;241m=\u001b[39m\u001b[38;5;28mself\u001b[39m\u001b[38;5;241m.\u001b[39m_cfg,\n\u001b[1;32m   1209\u001b[0m     local_ncpu\u001b[38;5;241m=\u001b[39mncpu)\n\u001b[1;32m   1211\u001b[0m args_list \u001b[38;5;241m=\u001b[39m [((), kwargs) \u001b[38;5;28;01mfor\u001b[39;00m i \u001b[38;5;129;01min\u001b[39;00m \u001b[38;5;28mrange\u001b[39m(n)]\n\u001b[0;32m-> 1212\u001b[0m result_list \u001b[38;5;241m=\u001b[39m \u001b[43mparallelize\u001b[49m\u001b[43m(\u001b[49m\n\u001b[1;32m   1213\u001b[0m \u001b[43m    \u001b[49m\u001b[43mfunc\u001b[49m\u001b[38;5;241;43m=\u001b[39;49m\u001b[38;5;28;43mself\u001b[39;49m\u001b[38;5;241;43m.\u001b[39;49m\u001b[43mdo_trial\u001b[49m\u001b[43m,\u001b[49m\n\u001b[1;32m   1214\u001b[0m \u001b[43m    \u001b[49m\u001b[43margs_list\u001b[49m\u001b[38;5;241;43m=\u001b[39;49m\u001b[43margs_list\u001b[49m\u001b[43m,\u001b[49m\n\u001b[1;32m   1215\u001b[0m \u001b[43m    \u001b[49m\u001b[43mncpu\u001b[49m\u001b[38;5;241;43m=\u001b[39;49m\u001b[43mncpu\u001b[49m\u001b[43m,\u001b[49m\n\u001b[1;32m   1216\u001b[0m \u001b[43m    \u001b[49m\u001b[43mrss\u001b[49m\u001b[38;5;241;43m=\u001b[39;49m\u001b[43mrss\u001b[49m\u001b[43m,\u001b[49m\n\u001b[1;32m   1217\u001b[0m \u001b[43m    \u001b[49m\u001b[43mtl\u001b[49m\u001b[38;5;241;43m=\u001b[39;49m\u001b[43mtl\u001b[49m\u001b[43m,\u001b[49m\n\u001b[1;32m   1218\u001b[0m \u001b[43m    \u001b[49m\u001b[43mppbar\u001b[49m\u001b[38;5;241;43m=\u001b[39;49m\u001b[43mppbar\u001b[49m\u001b[43m)\u001b[49m\n\u001b[1;32m   1220\u001b[0m recarray_dtype \u001b[38;5;241m=\u001b[39m result_list[\u001b[38;5;241m0\u001b[39m]\u001b[38;5;241m.\u001b[39mdtype\n\u001b[1;32m   1221\u001b[0m recarray \u001b[38;5;241m=\u001b[39m np\u001b[38;5;241m.\u001b[39mempty(n, dtype\u001b[38;5;241m=\u001b[39mrecarray_dtype)\n",
      "File \u001b[0;32m/data/user/liruohan/software/skyllh/skyllh/core/multiproc.py:330\u001b[0m, in \u001b[0;36mparallelize\u001b[0;34m(func, args_list, ncpu, rss, tl, ppbar)\u001b[0m\n\u001b[1;32m    328\u001b[0m \u001b[38;5;66;03m# Compute the first chunk in the main process.\u001b[39;00m\n\u001b[1;32m    329\u001b[0m sarr \u001b[38;5;241m=\u001b[39m np\u001b[38;5;241m.\u001b[39mzeros((\u001b[38;5;28mlen\u001b[39m(processes)\u001b[38;5;241m+\u001b[39m\u001b[38;5;241m1\u001b[39m,), dtype\u001b[38;5;241m=\u001b[39m[(\u001b[38;5;124m'\u001b[39m\u001b[38;5;124mn_finished_tasks\u001b[39m\u001b[38;5;124m'\u001b[39m, np\u001b[38;5;241m.\u001b[39mint64)])\n\u001b[0;32m--> 330\u001b[0m result_list_0 \u001b[38;5;241m=\u001b[39m \u001b[43mmaster_wrapper\u001b[49m\u001b[43m(\u001b[49m\n\u001b[1;32m    331\u001b[0m \u001b[43m    \u001b[49m\u001b[43mpbar\u001b[49m\u001b[43m,\u001b[49m\u001b[43m \u001b[49m\u001b[43msarr\u001b[49m\u001b[43m,\u001b[49m\u001b[43m \u001b[49m\u001b[43mfunc\u001b[49m\u001b[43m,\u001b[49m\u001b[43m \u001b[49m\u001b[43msub_args_list_list\u001b[49m\u001b[43m[\u001b[49m\u001b[38;5;241;43m0\u001b[39;49m\u001b[43m]\u001b[49m\u001b[43m,\u001b[49m\u001b[43m \u001b[49m\u001b[43msqueue\u001b[49m\u001b[38;5;241;43m=\u001b[39;49m\u001b[43msqueue\u001b[49m\u001b[43m,\u001b[49m\u001b[43m \u001b[49m\u001b[43mrss\u001b[49m\u001b[38;5;241;43m=\u001b[39;49m\u001b[43mrss_list\u001b[49m\u001b[43m[\u001b[49m\u001b[38;5;241;43m0\u001b[39;49m\u001b[43m]\u001b[49m\u001b[43m,\u001b[49m\n\u001b[1;32m    332\u001b[0m \u001b[43m    \u001b[49m\u001b[43mtl\u001b[49m\u001b[38;5;241;43m=\u001b[39;49m\u001b[43mtl_list\u001b[49m\u001b[43m[\u001b[49m\u001b[38;5;241;43m0\u001b[39;49m\u001b[43m]\u001b[49m\u001b[43m)\u001b[49m\n\u001b[1;32m    334\u001b[0m \u001b[38;5;66;03m# Initialize logger.\u001b[39;00m\n\u001b[1;32m    335\u001b[0m logger \u001b[38;5;241m=\u001b[39m logging\u001b[38;5;241m.\u001b[39mgetLogger(\u001b[38;5;18m__name__\u001b[39m)\n",
      "File \u001b[0;32m/data/user/liruohan/software/skyllh/skyllh/core/multiproc.py:227\u001b[0m, in \u001b[0;36mparallelize.<locals>.master_wrapper\u001b[0;34m(pbar, sarr, func, sub_args_list, squeue, rss, tl)\u001b[0m\n\u001b[1;32m    225\u001b[0m \u001b[38;5;28;01mif\u001b[39;00m tl \u001b[38;5;129;01mis\u001b[39;00m \u001b[38;5;129;01mnot\u001b[39;00m \u001b[38;5;28;01mNone\u001b[39;00m:\n\u001b[1;32m    226\u001b[0m     kwargs[\u001b[38;5;124m'\u001b[39m\u001b[38;5;124mtl\u001b[39m\u001b[38;5;124m'\u001b[39m] \u001b[38;5;241m=\u001b[39m tl\n\u001b[0;32m--> 227\u001b[0m result_list\u001b[38;5;241m.\u001b[39mappend(\u001b[43mfunc\u001b[49m\u001b[43m(\u001b[49m\u001b[38;5;241;43m*\u001b[39;49m\u001b[43margs\u001b[49m\u001b[43m,\u001b[49m\u001b[43m \u001b[49m\u001b[38;5;241;43m*\u001b[39;49m\u001b[38;5;241;43m*\u001b[39;49m\u001b[43mkwargs\u001b[49m\u001b[43m)\u001b[49m)\n\u001b[1;32m    229\u001b[0m \u001b[38;5;66;03m# Skip the rest, if we are not in an interactive session, hence\u001b[39;00m\n\u001b[1;32m    230\u001b[0m \u001b[38;5;66;03m# there is not progress bar.\u001b[39;00m\n\u001b[1;32m    231\u001b[0m \u001b[38;5;28;01mif\u001b[39;00m \u001b[38;5;129;01mnot\u001b[39;00m pbar\u001b[38;5;241m.\u001b[39mis_shown:\n",
      "File \u001b[0;32m/data/user/liruohan/software/skyllh/skyllh/core/analysis.py:1155\u001b[0m, in \u001b[0;36mAnalysis.do_trial\u001b[0;34m(self, rss, mean_n_bkg_list, mean_n_sig, bkg_kwargs, sig_kwargs, minimizer_rss, minimizer_status_dict, tl, **kwargs)\u001b[0m\n\u001b[1;32m   1146\u001b[0m \u001b[38;5;28;01mwith\u001b[39;00m TaskTimer(tl, \u001b[38;5;124m'\u001b[39m\u001b[38;5;124mGenerating pseudo data.\u001b[39m\u001b[38;5;124m'\u001b[39m):\n\u001b[1;32m   1147\u001b[0m     (n_sig, n_events_list, events_list) \u001b[38;5;241m=\u001b[39m \u001b[38;5;28mself\u001b[39m\u001b[38;5;241m.\u001b[39mgenerate_pseudo_data(\n\u001b[1;32m   1148\u001b[0m         rss\u001b[38;5;241m=\u001b[39mrss,\n\u001b[1;32m   1149\u001b[0m         mean_n_bkg_list\u001b[38;5;241m=\u001b[39mmean_n_bkg_list,\n\u001b[0;32m   (...)\u001b[0m\n\u001b[1;32m   1152\u001b[0m         sig_kwargs\u001b[38;5;241m=\u001b[39msig_kwargs,\n\u001b[1;32m   1153\u001b[0m         tl\u001b[38;5;241m=\u001b[39mtl)\n\u001b[0;32m-> 1155\u001b[0m recarray \u001b[38;5;241m=\u001b[39m \u001b[38;5;28;43mself\u001b[39;49m\u001b[38;5;241;43m.\u001b[39;49m\u001b[43mdo_trial_with_given_pseudo_data\u001b[49m\u001b[43m(\u001b[49m\n\u001b[1;32m   1156\u001b[0m \u001b[43m    \u001b[49m\u001b[43mseed\u001b[49m\u001b[38;5;241;43m=\u001b[39;49m\u001b[43mrss\u001b[49m\u001b[38;5;241;43m.\u001b[39;49m\u001b[43mseed\u001b[49m\u001b[43m,\u001b[49m\n\u001b[1;32m   1157\u001b[0m \u001b[43m    \u001b[49m\u001b[43mmean_n_sig\u001b[49m\u001b[38;5;241;43m=\u001b[39;49m\u001b[43mmean_n_sig\u001b[49m\u001b[43m,\u001b[49m\n\u001b[1;32m   1158\u001b[0m \u001b[43m    \u001b[49m\u001b[43mn_sig\u001b[49m\u001b[38;5;241;43m=\u001b[39;49m\u001b[43mn_sig\u001b[49m\u001b[43m,\u001b[49m\n\u001b[1;32m   1159\u001b[0m \u001b[43m    \u001b[49m\u001b[43mn_events_list\u001b[49m\u001b[38;5;241;43m=\u001b[39;49m\u001b[43mn_events_list\u001b[49m\u001b[43m,\u001b[49m\n\u001b[1;32m   1160\u001b[0m \u001b[43m    \u001b[49m\u001b[43mevents_list\u001b[49m\u001b[38;5;241;43m=\u001b[39;49m\u001b[43mevents_list\u001b[49m\u001b[43m,\u001b[49m\n\u001b[1;32m   1161\u001b[0m \u001b[43m    \u001b[49m\u001b[43mminimizer_rss\u001b[49m\u001b[38;5;241;43m=\u001b[39;49m\u001b[43mminimizer_rss\u001b[49m\u001b[43m,\u001b[49m\n\u001b[1;32m   1162\u001b[0m \u001b[43m    \u001b[49m\u001b[43mminimizer_status_dict\u001b[49m\u001b[38;5;241;43m=\u001b[39;49m\u001b[43mminimizer_status_dict\u001b[49m\u001b[43m,\u001b[49m\n\u001b[1;32m   1163\u001b[0m \u001b[43m    \u001b[49m\u001b[43mtl\u001b[49m\u001b[38;5;241;43m=\u001b[39;49m\u001b[43mtl\u001b[49m\u001b[43m,\u001b[49m\n\u001b[1;32m   1164\u001b[0m \u001b[43m    \u001b[49m\u001b[38;5;241;43m*\u001b[39;49m\u001b[38;5;241;43m*\u001b[39;49m\u001b[43mkwargs\u001b[49m\u001b[43m)\u001b[49m\n\u001b[1;32m   1166\u001b[0m \u001b[38;5;28;01mreturn\u001b[39;00m recarray\n",
      "File \u001b[0;32m/data/user/liruohan/software/skyllh/skyllh/core/analysis.py:1576\u001b[0m, in \u001b[0;36mLLHRatioAnalysis.do_trial_with_given_pseudo_data\u001b[0;34m(self, seed, mean_n_sig, n_sig, n_events_list, events_list, minimizer_rss, minimizer_status_dict, tl, mean_n_sig_0)\u001b[0m\n\u001b[1;32m   1573\u001b[0m     \u001b[38;5;28mself\u001b[39m\u001b[38;5;241m.\u001b[39minitialize_trial(events_list, n_events_list)\n\u001b[1;32m   1575\u001b[0m \u001b[38;5;28;01mwith\u001b[39;00m TaskTimer(tl, \u001b[38;5;124m'\u001b[39m\u001b[38;5;124mMaximizing LLH ratio function.\u001b[39m\u001b[38;5;124m'\u001b[39m):\n\u001b[0;32m-> 1576\u001b[0m     (log_lambda, fitparam_values, status) \u001b[38;5;241m=\u001b[39m \u001b[38;5;28;43mself\u001b[39;49m\u001b[38;5;241;43m.\u001b[39;49m\u001b[43m_llhratio\u001b[49m\u001b[38;5;241;43m.\u001b[39;49m\u001b[43mmaximize\u001b[49m\u001b[43m(\u001b[49m\n\u001b[1;32m   1577\u001b[0m \u001b[43m        \u001b[49m\u001b[43mrss\u001b[49m\u001b[38;5;241;43m=\u001b[39;49m\u001b[43mminimizer_rss\u001b[49m\u001b[43m,\u001b[49m\n\u001b[1;32m   1578\u001b[0m \u001b[43m        \u001b[49m\u001b[43mtl\u001b[49m\u001b[38;5;241;43m=\u001b[39;49m\u001b[43mtl\u001b[49m\u001b[43m)\u001b[49m\n\u001b[1;32m   1579\u001b[0m \u001b[38;5;28;01mif\u001b[39;00m \u001b[38;5;28misinstance\u001b[39m(minimizer_status_dict, \u001b[38;5;28mdict\u001b[39m):\n\u001b[1;32m   1580\u001b[0m     minimizer_status_dict\u001b[38;5;241m.\u001b[39mupdate(status)\n",
      "File \u001b[0;32m/data/user/liruohan/software/skyllh/skyllh/core/llhratio.py:422\u001b[0m, in \u001b[0;36mTCLLHRatio.maximize\u001b[0;34m(self, rss, tl)\u001b[0m\n\u001b[1;32m    416\u001b[0m \u001b[38;5;28;01mif\u001b[39;00m \u001b[38;5;28misinstance\u001b[39m(\u001b[38;5;28mself\u001b[39m\u001b[38;5;241m.\u001b[39m_minimizer\u001b[38;5;241m.\u001b[39mminimizer_impl, NR1dNsMinimizerImpl) \u001b[38;5;129;01mor\u001b[39;00m\\\n\u001b[1;32m    417\u001b[0m    \u001b[38;5;28misinstance\u001b[39m(\u001b[38;5;28mself\u001b[39m\u001b[38;5;241m.\u001b[39m_minimizer\u001b[38;5;241m.\u001b[39mminimizer_impl, NRNsScan2dMinimizerImpl):\n\u001b[1;32m    418\u001b[0m     \u001b[38;5;28;01mreturn\u001b[39;00m \u001b[38;5;28mself\u001b[39m\u001b[38;5;241m.\u001b[39mmaximize_with_1d_newton_rapson_minimizer(\n\u001b[1;32m    419\u001b[0m         rss\u001b[38;5;241m=\u001b[39mrss,\n\u001b[1;32m    420\u001b[0m         tl\u001b[38;5;241m=\u001b[39mtl)\n\u001b[0;32m--> 422\u001b[0m \u001b[38;5;28;01mreturn\u001b[39;00m \u001b[38;5;28;43msuper\u001b[39;49m\u001b[43m(\u001b[49m\u001b[43m)\u001b[49m\u001b[38;5;241;43m.\u001b[39;49m\u001b[43mmaximize\u001b[49m\u001b[43m(\u001b[49m\n\u001b[1;32m    423\u001b[0m \u001b[43m    \u001b[49m\u001b[43mrss\u001b[49m\u001b[38;5;241;43m=\u001b[39;49m\u001b[43mrss\u001b[49m\u001b[43m,\u001b[49m\n\u001b[1;32m    424\u001b[0m \u001b[43m    \u001b[49m\u001b[43mtl\u001b[49m\u001b[38;5;241;43m=\u001b[39;49m\u001b[43mtl\u001b[49m\u001b[43m)\u001b[49m\n",
      "File \u001b[0;32m/data/user/liruohan/software/skyllh/skyllh/core/llhratio.py:216\u001b[0m, in \u001b[0;36mLLHRatio.maximize\u001b[0;34m(self, rss, tl)\u001b[0m\n\u001b[1;32m    212\u001b[0m func_stats \u001b[38;5;241m=\u001b[39m {\n\u001b[1;32m    213\u001b[0m     \u001b[38;5;124m'\u001b[39m\u001b[38;5;124mn_calls\u001b[39m\u001b[38;5;124m'\u001b[39m: \u001b[38;5;241m0\u001b[39m\n\u001b[1;32m    214\u001b[0m }\n\u001b[1;32m    215\u001b[0m \u001b[38;5;28;01mwith\u001b[39;00m TaskTimer(tl, \u001b[38;5;124m'\u001b[39m\u001b[38;5;124mMinimize -llhratio function.\u001b[39m\u001b[38;5;124m'\u001b[39m):\n\u001b[0;32m--> 216\u001b[0m     (fitparam_values, fmin, status) \u001b[38;5;241m=\u001b[39m \u001b[38;5;28;43mself\u001b[39;49m\u001b[38;5;241;43m.\u001b[39;49m\u001b[43m_minimizer\u001b[49m\u001b[38;5;241;43m.\u001b[39;49m\u001b[43mminimize\u001b[49m\u001b[43m(\u001b[49m\n\u001b[1;32m    217\u001b[0m \u001b[43m        \u001b[49m\u001b[43mrss\u001b[49m\u001b[38;5;241;43m=\u001b[39;49m\u001b[43mrss\u001b[49m\u001b[43m,\u001b[49m\n\u001b[1;32m    218\u001b[0m \u001b[43m        \u001b[49m\u001b[43mparamset\u001b[49m\u001b[38;5;241;43m=\u001b[39;49m\u001b[38;5;28;43mself\u001b[39;49m\u001b[38;5;241;43m.\u001b[39;49m\u001b[43m_pmm\u001b[49m\u001b[38;5;241;43m.\u001b[39;49m\u001b[43mglobal_paramset\u001b[49m\u001b[43m,\u001b[49m\n\u001b[1;32m    219\u001b[0m \u001b[43m        \u001b[49m\u001b[43mfunc\u001b[49m\u001b[38;5;241;43m=\u001b[39;49m\u001b[43mnegative_llhratio_func\u001b[49m\u001b[43m,\u001b[49m\n\u001b[1;32m    220\u001b[0m \u001b[43m        \u001b[49m\u001b[43margs\u001b[49m\u001b[38;5;241;43m=\u001b[39;49m\u001b[43m(\u001b[49m\u001b[43mfunc_stats\u001b[49m\u001b[43m,\u001b[49m\u001b[43m \u001b[49m\u001b[43mtl\u001b[49m\u001b[43m)\u001b[49m\u001b[43m,\u001b[49m\n\u001b[1;32m    221\u001b[0m \u001b[43m        \u001b[49m\u001b[43mkwargs\u001b[49m\u001b[38;5;241;43m=\u001b[39;49m\u001b[43mminimize_kwargs\u001b[49m\u001b[43m)\u001b[49m\n\u001b[1;32m    222\u001b[0m log_lambda_max \u001b[38;5;241m=\u001b[39m \u001b[38;5;241m-\u001b[39mfmin\n\u001b[1;32m    223\u001b[0m status[\u001b[38;5;124m'\u001b[39m\u001b[38;5;124mn_llhratio_func_calls\u001b[39m\u001b[38;5;124m'\u001b[39m] \u001b[38;5;241m=\u001b[39m func_stats[\u001b[38;5;124m'\u001b[39m\u001b[38;5;124mn_calls\u001b[39m\u001b[38;5;124m'\u001b[39m]\n",
      "File \u001b[0;32m/data/user/liruohan/software/skyllh/skyllh/core/minimizer.py:1014\u001b[0m, in \u001b[0;36mMinimizer.minimize\u001b[0;34m(self, rss, paramset, func, args, kwargs)\u001b[0m\n\u001b[1;32m   1011\u001b[0m initials \u001b[38;5;241m=\u001b[39m paramset\u001b[38;5;241m.\u001b[39mfloating_param_initials\n\u001b[1;32m   1012\u001b[0m logger\u001b[38;5;241m.\u001b[39mdebug(\u001b[38;5;124mf\u001b[39m\u001b[38;5;124m'\u001b[39m\u001b[38;5;124mDoing function minimization: initials: \u001b[39m\u001b[38;5;132;01m{\u001b[39;00minitials\u001b[38;5;132;01m}\u001b[39;00m\u001b[38;5;124m.\u001b[39m\u001b[38;5;124m'\u001b[39m)\n\u001b[0;32m-> 1014\u001b[0m (xmin, fmin, status) \u001b[38;5;241m=\u001b[39m \u001b[38;5;28;43mself\u001b[39;49m\u001b[38;5;241;43m.\u001b[39;49m\u001b[43m_minimizer_impl\u001b[49m\u001b[38;5;241;43m.\u001b[39;49m\u001b[43mminimize\u001b[49m\u001b[43m(\u001b[49m\n\u001b[1;32m   1015\u001b[0m \u001b[43m    \u001b[49m\u001b[43minitials\u001b[49m\u001b[43m,\u001b[49m\u001b[43m \u001b[49m\u001b[43mbounds\u001b[49m\u001b[43m,\u001b[49m\u001b[43m \u001b[49m\u001b[43mfunc\u001b[49m\u001b[43m,\u001b[49m\u001b[43m \u001b[49m\u001b[43margs\u001b[49m\u001b[43m,\u001b[49m\u001b[43m \u001b[49m\u001b[38;5;241;43m*\u001b[39;49m\u001b[38;5;241;43m*\u001b[39;49m\u001b[43mkwargs\u001b[49m\u001b[43m)\u001b[49m\n\u001b[1;32m   1017\u001b[0m reps \u001b[38;5;241m=\u001b[39m \u001b[38;5;241m0\u001b[39m\n\u001b[1;32m   1018\u001b[0m \u001b[38;5;28;01mwhile\u001b[39;00m (\u001b[38;5;129;01mnot\u001b[39;00m \u001b[38;5;28mself\u001b[39m\u001b[38;5;241m.\u001b[39m_minimizer_impl\u001b[38;5;241m.\u001b[39mhas_converged(status)) \u001b[38;5;129;01mand\u001b[39;00m\\\n\u001b[1;32m   1019\u001b[0m       (\u001b[38;5;28mself\u001b[39m\u001b[38;5;241m.\u001b[39m_minimizer_impl\u001b[38;5;241m.\u001b[39mis_repeatable(status)) \u001b[38;5;129;01mand\u001b[39;00m\\\n\u001b[1;32m   1020\u001b[0m       (reps \u001b[38;5;241m<\u001b[39m \u001b[38;5;28mself\u001b[39m\u001b[38;5;241m.\u001b[39m_max_repetitions):\n\u001b[0;32m   (...)\u001b[0m\n\u001b[1;32m   1025\u001b[0m     \u001b[38;5;66;03m# Create a new set of random parameter initials based on the\u001b[39;00m\n\u001b[1;32m   1026\u001b[0m     \u001b[38;5;66;03m# parameter bounds.\u001b[39;00m\n",
      "File \u001b[0;32m/data/user/liruohan/software/skyllh/skyllh/core/minimizers/iminuit.py:211\u001b[0m, in \u001b[0;36mIMinuitMinimizerImpl.minimize\u001b[0;34m(self, initials, bounds, func, func_args, **kwargs)\u001b[0m\n\u001b[1;32m    203\u001b[0m \u001b[38;5;28;01mif\u001b[39;00m func_provides_grads:\n\u001b[1;32m    204\u001b[0m     \u001b[38;5;66;03m# The function func returns the function value and its gradients,\u001b[39;00m\n\u001b[1;32m    205\u001b[0m     \u001b[38;5;66;03m# so we need to use the FuncWithGradsFunctor helper class.\u001b[39;00m\n\u001b[1;32m    206\u001b[0m     functor \u001b[38;5;241m=\u001b[39m FuncWithGradsFunctor(\n\u001b[1;32m    207\u001b[0m         cfg\u001b[38;5;241m=\u001b[39m\u001b[38;5;28mself\u001b[39m\u001b[38;5;241m.\u001b[39m_cfg,\n\u001b[1;32m    208\u001b[0m         func\u001b[38;5;241m=\u001b[39mfunc,\n\u001b[1;32m    209\u001b[0m         func_args\u001b[38;5;241m=\u001b[39mfunc_args)\n\u001b[0;32m--> 211\u001b[0m     res \u001b[38;5;241m=\u001b[39m \u001b[43miminuit\u001b[49m\u001b[38;5;241;43m.\u001b[39;49m\u001b[43mminimize\u001b[49m\u001b[43m(\u001b[49m\n\u001b[1;32m    212\u001b[0m \u001b[43m        \u001b[49m\u001b[43mfun\u001b[49m\u001b[38;5;241;43m=\u001b[39;49m\u001b[43mfunctor\u001b[49m\u001b[38;5;241;43m.\u001b[39;49m\u001b[43mget_f\u001b[49m\u001b[43m,\u001b[49m\n\u001b[1;32m    213\u001b[0m \u001b[43m        \u001b[49m\u001b[43mx0\u001b[49m\u001b[38;5;241;43m=\u001b[39;49m\u001b[43minitials\u001b[49m\u001b[43m,\u001b[49m\n\u001b[1;32m    214\u001b[0m \u001b[43m        \u001b[49m\u001b[43mbounds\u001b[49m\u001b[38;5;241;43m=\u001b[39;49m\u001b[43mbounds\u001b[49m\u001b[43m,\u001b[49m\n\u001b[1;32m    215\u001b[0m \u001b[43m        \u001b[49m\u001b[43mjac\u001b[49m\u001b[38;5;241;43m=\u001b[39;49m\u001b[43mfunctor\u001b[49m\u001b[38;5;241;43m.\u001b[39;49m\u001b[43mget_grads\u001b[49m\u001b[43m,\u001b[49m\n\u001b[1;32m    216\u001b[0m \u001b[43m        \u001b[49m\u001b[43mtol\u001b[49m\u001b[38;5;241;43m=\u001b[39;49m\u001b[38;5;28;43mself\u001b[39;49m\u001b[38;5;241;43m.\u001b[39;49m\u001b[43m_ftol\u001b[49m\u001b[43m,\u001b[49m\n\u001b[1;32m    217\u001b[0m \u001b[43m        \u001b[49m\u001b[38;5;241;43m*\u001b[39;49m\u001b[38;5;241;43m*\u001b[39;49m\u001b[43mkwargs\u001b[49m\n\u001b[1;32m    218\u001b[0m \u001b[43m    \u001b[49m\u001b[43m)\u001b[49m\n\u001b[1;32m    219\u001b[0m \u001b[38;5;28;01melse\u001b[39;00m:\n\u001b[1;32m    220\u001b[0m     \u001b[38;5;66;03m# The function func returns only the function value, so we can use\u001b[39;00m\n\u001b[1;32m    221\u001b[0m     \u001b[38;5;66;03m# the\u001b[39;00m\n\u001b[1;32m    222\u001b[0m     res \u001b[38;5;241m=\u001b[39m iminuit\u001b[38;5;241m.\u001b[39mminimize(\n\u001b[1;32m    223\u001b[0m         func,\n\u001b[1;32m    224\u001b[0m         initials,\n\u001b[0;32m   (...)\u001b[0m\n\u001b[1;32m    228\u001b[0m         \u001b[38;5;241m*\u001b[39m\u001b[38;5;241m*\u001b[39mkwargs\n\u001b[1;32m    229\u001b[0m     )\n",
      "File \u001b[0;32m/cvmfs/icecube.opensciencegrid.org/py3-v4.3.0/Ubuntu_22.04_x86_64/lib/python3.11/site-packages/iminuit/minimize.py:118\u001b[0m, in \u001b[0;36mminimize\u001b[0;34m(fun, x0, args, method, jac, hess, hessp, bounds, constraints, tol, callback, options)\u001b[0m\n\u001b[1;32m    115\u001b[0m     m\u001b[38;5;241m.\u001b[39mstrategy \u001b[38;5;241m=\u001b[39m options\u001b[38;5;241m.\u001b[39mget(\u001b[38;5;124m\"\u001b[39m\u001b[38;5;124mstra\u001b[39m\u001b[38;5;124m\"\u001b[39m, \u001b[38;5;241m1\u001b[39m)\n\u001b[1;32m    117\u001b[0m \u001b[38;5;28;01mif\u001b[39;00m method \u001b[38;5;241m==\u001b[39m \u001b[38;5;124m\"\u001b[39m\u001b[38;5;124mmigrad\u001b[39m\u001b[38;5;124m\"\u001b[39m:\n\u001b[0;32m--> 118\u001b[0m     \u001b[43mm\u001b[49m\u001b[38;5;241;43m.\u001b[39;49m\u001b[43mmigrad\u001b[49m\u001b[43m(\u001b[49m\u001b[43mncall\u001b[49m\u001b[38;5;241;43m=\u001b[39;49m\u001b[43mncall\u001b[49m\u001b[43m)\u001b[49m\n\u001b[1;32m    119\u001b[0m \u001b[38;5;28;01melif\u001b[39;00m method \u001b[38;5;241m==\u001b[39m \u001b[38;5;124m\"\u001b[39m\u001b[38;5;124msimplex\u001b[39m\u001b[38;5;124m\"\u001b[39m:\n\u001b[1;32m    120\u001b[0m     m\u001b[38;5;241m.\u001b[39msimplex(ncall\u001b[38;5;241m=\u001b[39mncall)\n",
      "File \u001b[0;32m/cvmfs/icecube.opensciencegrid.org/py3-v4.3.0/Ubuntu_22.04_x86_64/lib/python3.11/site-packages/iminuit/minuit.py:702\u001b[0m, in \u001b[0;36mMinuit.migrad\u001b[0;34m(self, ncall, iterate)\u001b[0m\n\u001b[1;32m    700\u001b[0m \u001b[38;5;28;01mif\u001b[39;00m \u001b[38;5;28mself\u001b[39m\u001b[38;5;241m.\u001b[39m_precision \u001b[38;5;129;01mis\u001b[39;00m \u001b[38;5;129;01mnot\u001b[39;00m \u001b[38;5;28;01mNone\u001b[39;00m:\n\u001b[1;32m    701\u001b[0m     migrad\u001b[38;5;241m.\u001b[39mprecision \u001b[38;5;241m=\u001b[39m \u001b[38;5;28mself\u001b[39m\u001b[38;5;241m.\u001b[39m_precision\n\u001b[0;32m--> 702\u001b[0m fm \u001b[38;5;241m=\u001b[39m \u001b[43mmigrad\u001b[49m\u001b[43m(\u001b[49m\u001b[43mncall\u001b[49m\u001b[43m,\u001b[49m\u001b[43m \u001b[49m\u001b[38;5;28;43mself\u001b[39;49m\u001b[38;5;241;43m.\u001b[39;49m\u001b[43m_tolerance\u001b[49m\u001b[43m)\u001b[49m\n\u001b[1;32m    703\u001b[0m \u001b[38;5;28;01mif\u001b[39;00m fm\u001b[38;5;241m.\u001b[39mis_valid \u001b[38;5;129;01mor\u001b[39;00m fm\u001b[38;5;241m.\u001b[39mhas_reached_call_limit:\n\u001b[1;32m    704\u001b[0m     \u001b[38;5;28;01mbreak\u001b[39;00m\n",
      "File \u001b[0;32m/cvmfs/icecube.opensciencegrid.org/py3-v4.3.0/Ubuntu_22.04_x86_64/lib/python3.11/site-packages/iminuit/minimize.py:74\u001b[0m, in \u001b[0;36mminimize.<locals>.wrapped.<locals>.<lambda>\u001b[0;34m(x)\u001b[0m\n\u001b[1;32m     72\u001b[0m \u001b[38;5;28;01mdef\u001b[39;00m \u001b[38;5;21mwrapped\u001b[39m(func, args, callback\u001b[38;5;241m=\u001b[39m\u001b[38;5;28;01mNone\u001b[39;00m):\n\u001b[1;32m     73\u001b[0m     \u001b[38;5;28;01mif\u001b[39;00m callback \u001b[38;5;129;01mis\u001b[39;00m \u001b[38;5;28;01mNone\u001b[39;00m:\n\u001b[0;32m---> 74\u001b[0m         \u001b[38;5;28;01mreturn\u001b[39;00m \u001b[38;5;28;01mlambda\u001b[39;00m x: \u001b[43mfunc\u001b[49m\u001b[43m(\u001b[49m\u001b[43mx\u001b[49m\u001b[43m,\u001b[49m\u001b[43m \u001b[49m\u001b[38;5;241;43m*\u001b[39;49m\u001b[43margs\u001b[49m\u001b[43m)\u001b[49m\n\u001b[1;32m     76\u001b[0m     \u001b[38;5;28;01mdef\u001b[39;00m \u001b[38;5;21mf\u001b[39m(x):\n\u001b[1;32m     77\u001b[0m         callback(x)\n",
      "File \u001b[0;32m/data/user/liruohan/software/skyllh/skyllh/core/minimizers/iminuit.py:81\u001b[0m, in \u001b[0;36mFuncWithGradsFunctor.get_f\u001b[0;34m(self, x)\u001b[0m\n\u001b[1;32m     78\u001b[0m     \u001b[38;5;28;01melse\u001b[39;00m:\n\u001b[1;32m     79\u001b[0m         np\u001b[38;5;241m.\u001b[39mcopyto(\u001b[38;5;28mself\u001b[39m\u001b[38;5;241m.\u001b[39m_cache_x, x)\n\u001b[0;32m---> 81\u001b[0m (\u001b[38;5;28mself\u001b[39m\u001b[38;5;241m.\u001b[39m_cache_f, \u001b[38;5;28mself\u001b[39m\u001b[38;5;241m.\u001b[39m_cache_grads) \u001b[38;5;241m=\u001b[39m \u001b[38;5;28;43mself\u001b[39;49m\u001b[38;5;241;43m.\u001b[39;49m\u001b[43m_func\u001b[49m\u001b[43m(\u001b[49m\n\u001b[1;32m     82\u001b[0m \u001b[43m    \u001b[49m\u001b[43mx\u001b[49m\u001b[43m,\u001b[49m\u001b[43m \u001b[49m\u001b[38;5;241;43m*\u001b[39;49m\u001b[38;5;28;43mself\u001b[39;49m\u001b[38;5;241;43m.\u001b[39;49m\u001b[43m_func_args\u001b[49m\u001b[43m)\u001b[49m\n\u001b[1;32m     84\u001b[0m \u001b[38;5;28;01mif\u001b[39;00m tracing:\n\u001b[1;32m     85\u001b[0m     logger\u001b[38;5;241m.\u001b[39mdebug(\n\u001b[1;32m     86\u001b[0m         \u001b[38;5;124mf\u001b[39m\u001b[38;5;124m'\u001b[39m\u001b[38;5;124mcall_func(x=\u001b[39m\u001b[38;5;132;01m{\u001b[39;00mx\u001b[38;5;132;01m}\u001b[39;00m\u001b[38;5;124m): Return calculated f=\u001b[39m\u001b[38;5;132;01m{\u001b[39;00m\u001b[38;5;28mself\u001b[39m\u001b[38;5;241m.\u001b[39m_cache_f\u001b[38;5;132;01m}\u001b[39;00m\u001b[38;5;124m'\u001b[39m)\n",
      "File \u001b[0;32m/data/user/liruohan/software/skyllh/skyllh/core/llhratio.py:199\u001b[0m, in \u001b[0;36mLLHRatio.maximize.<locals>.negative_llhratio_func\u001b[0;34m(fitparam_values, func_stats, tl)\u001b[0m\n\u001b[1;32m    197\u001b[0m func_stats[\u001b[38;5;124m'\u001b[39m\u001b[38;5;124mn_calls\u001b[39m\u001b[38;5;124m'\u001b[39m] \u001b[38;5;241m+\u001b[39m\u001b[38;5;241m=\u001b[39m \u001b[38;5;241m1\u001b[39m\n\u001b[1;32m    198\u001b[0m \u001b[38;5;28;01mwith\u001b[39;00m TaskTimer(tl, \u001b[38;5;124m'\u001b[39m\u001b[38;5;124mEvaluate llh-ratio function.\u001b[39m\u001b[38;5;124m'\u001b[39m):\n\u001b[0;32m--> 199\u001b[0m     (f, grads) \u001b[38;5;241m=\u001b[39m \u001b[43mself_evaluate\u001b[49m\u001b[43m(\u001b[49m\n\u001b[1;32m    200\u001b[0m \u001b[43m        \u001b[49m\u001b[43mfitparam_values\u001b[49m\u001b[38;5;241;43m=\u001b[39;49m\u001b[43mfitparam_values\u001b[49m\u001b[43m,\u001b[49m\n\u001b[1;32m    201\u001b[0m \u001b[43m        \u001b[49m\u001b[43msrc_params_recarray\u001b[49m\u001b[38;5;241;43m=\u001b[39;49m\u001b[43msrc_params_recarray\u001b[49m\u001b[43m,\u001b[49m\n\u001b[1;32m    202\u001b[0m \u001b[43m        \u001b[49m\u001b[43mtl\u001b[49m\u001b[38;5;241;43m=\u001b[39;49m\u001b[43mtl\u001b[49m\u001b[43m)\u001b[49m\n\u001b[1;32m    203\u001b[0m     \u001b[38;5;28;01mif\u001b[39;00m tracing:\n\u001b[1;32m    204\u001b[0m         logger\u001b[38;5;241m.\u001b[39mdebug(\n\u001b[1;32m    205\u001b[0m             \u001b[38;5;124mf\u001b[39m\u001b[38;5;124m'\u001b[39m\u001b[38;5;124mLLH-ratio func value f=\u001b[39m\u001b[38;5;132;01m{\u001b[39;00mf\u001b[38;5;132;01m:\u001b[39;00m\u001b[38;5;124mg\u001b[39m\u001b[38;5;132;01m}\u001b[39;00m\u001b[38;5;124m, grads=\u001b[39m\u001b[38;5;132;01m{\u001b[39;00m\u001b[38;5;28mstr\u001b[39m(grads)\u001b[38;5;132;01m}\u001b[39;00m\u001b[38;5;124m'\u001b[39m)\n",
      "File \u001b[0;32m/data/user/liruohan/software/skyllh/skyllh/core/llhratio.py:1176\u001b[0m, in \u001b[0;36mMultiDatasetTCLLHRatio.evaluate\u001b[0;34m(self, fitparam_values, src_params_recarray, tl)\u001b[0m\n\u001b[1;32m   1171\u001b[0m     logger\u001b[38;5;241m.\u001b[39mdebug(\n\u001b[1;32m   1172\u001b[0m         \u001b[38;5;124mf\u001b[39m\u001b[38;5;124m'\u001b[39m\u001b[38;5;124mnsf[j=\u001b[39m\u001b[38;5;132;01m{\u001b[39;00mj\u001b[38;5;132;01m}\u001b[39;00m\u001b[38;5;124m] = \u001b[39m\u001b[38;5;132;01m{\u001b[39;00mnsf[j]\u001b[38;5;132;01m:\u001b[39;00m\u001b[38;5;124m.3f\u001b[39m\u001b[38;5;132;01m}\u001b[39;00m\u001b[38;5;124m'\u001b[39m)\n\u001b[1;32m   1174\u001b[0m llhratio_fitparam_values[ns_pidx] \u001b[38;5;241m=\u001b[39m nsf[j]\n\u001b[0;32m-> 1176\u001b[0m (log_lambda_j, grads_j) \u001b[38;5;241m=\u001b[39m \u001b[43mllhratio\u001b[49m\u001b[38;5;241;43m.\u001b[39;49m\u001b[43mevaluate\u001b[49m\u001b[43m(\u001b[49m\n\u001b[1;32m   1177\u001b[0m \u001b[43m    \u001b[49m\u001b[43mfitparam_values\u001b[49m\u001b[38;5;241;43m=\u001b[39;49m\u001b[43mllhratio_fitparam_values\u001b[49m\u001b[43m,\u001b[49m\n\u001b[1;32m   1178\u001b[0m \u001b[43m    \u001b[49m\u001b[43msrc_params_recarray\u001b[49m\u001b[38;5;241;43m=\u001b[39;49m\u001b[43msrc_params_recarray\u001b[49m\u001b[43m,\u001b[49m\n\u001b[1;32m   1179\u001b[0m \u001b[43m    \u001b[49m\u001b[43mtl\u001b[49m\u001b[38;5;241;43m=\u001b[39;49m\u001b[43mtl\u001b[49m\u001b[43m)\u001b[49m\n\u001b[1;32m   1180\u001b[0m log_lambda \u001b[38;5;241m+\u001b[39m\u001b[38;5;241m=\u001b[39m log_lambda_j\n\u001b[1;32m   1182\u001b[0m \u001b[38;5;66;03m# Gradient for ns.\u001b[39;00m\n",
      "File \u001b[0;32m/data/user/liruohan/software/skyllh/skyllh/core/llhratio.py:859\u001b[0m, in \u001b[0;36mZeroSigH0SingleDatasetTCLLHRatio.evaluate\u001b[0;34m(self, fitparam_values, src_params_recarray, tl)\u001b[0m\n\u001b[1;32m    857\u001b[0m \u001b[38;5;66;03m# Calculate the PDF ratio values for each selected event.\u001b[39;00m\n\u001b[1;32m    858\u001b[0m \u001b[38;5;28;01mwith\u001b[39;00m TaskTimer(tl, \u001b[38;5;124m'\u001b[39m\u001b[38;5;124mCalc pdfratio value Ri\u001b[39m\u001b[38;5;124m'\u001b[39m):\n\u001b[0;32m--> 859\u001b[0m     Ri \u001b[38;5;241m=\u001b[39m \u001b[38;5;28;43mself\u001b[39;49m\u001b[38;5;241;43m.\u001b[39;49m\u001b[43m_pdfratio\u001b[49m\u001b[38;5;241;43m.\u001b[39;49m\u001b[43mget_ratio\u001b[49m\u001b[43m(\u001b[49m\n\u001b[1;32m    860\u001b[0m \u001b[43m        \u001b[49m\u001b[43mtdm\u001b[49m\u001b[38;5;241;43m=\u001b[39;49m\u001b[43mtdm\u001b[49m\u001b[43m,\u001b[49m\n\u001b[1;32m    861\u001b[0m \u001b[43m        \u001b[49m\u001b[43msrc_params_recarray\u001b[49m\u001b[38;5;241;43m=\u001b[39;49m\u001b[43msrc_params_recarray\u001b[49m\u001b[43m,\u001b[49m\n\u001b[1;32m    862\u001b[0m \u001b[43m        \u001b[49m\u001b[43mtl\u001b[49m\u001b[38;5;241;43m=\u001b[39;49m\u001b[43mtl\u001b[49m\u001b[43m)\u001b[49m\n\u001b[1;32m    864\u001b[0m \u001b[38;5;66;03m# Calculate Xi for each selected event.\u001b[39;00m\n\u001b[1;32m    865\u001b[0m Xi \u001b[38;5;241m=\u001b[39m (Ri \u001b[38;5;241m-\u001b[39m \u001b[38;5;241m1.\u001b[39m) \u001b[38;5;241m/\u001b[39m N\n",
      "File \u001b[0;32m/data/user/liruohan/software/skyllh/skyllh/core/pdfratio.py:590\u001b[0m, in \u001b[0;36mSourceWeightedPDFRatio.get_ratio\u001b[0;34m(self, tdm, src_params_recarray, tl)\u001b[0m\n\u001b[1;32m    588\u001b[0m \u001b[38;5;28;01mfor\u001b[39;00m k \u001b[38;5;129;01min\u001b[39;00m \u001b[38;5;28mrange\u001b[39m(n_sources):\n\u001b[1;32m    589\u001b[0m     src_mask \u001b[38;5;241m=\u001b[39m src_idxs \u001b[38;5;241m==\u001b[39m k\n\u001b[0;32m--> 590\u001b[0m     R_i[evt_idxs[src_mask]] \u001b[38;5;241m+\u001b[39m\u001b[38;5;241m=\u001b[39m R_ik[src_mask] \u001b[38;5;241m*\u001b[39m a_k[k]\n\u001b[1;32m    591\u001b[0m R_i \u001b[38;5;241m/\u001b[39m\u001b[38;5;241m=\u001b[39m A\n\u001b[1;32m    593\u001b[0m \u001b[38;5;28mself\u001b[39m\u001b[38;5;241m.\u001b[39m_cache_R_ik \u001b[38;5;241m=\u001b[39m R_ik\n",
      "\u001b[0;31mKeyboardInterrupt\u001b[0m: "
     ]
    }
   ],
   "source": [
    "# Generate signal trials\n",
    "rss = RandomStateService(rss_seed)\n",
    "res_trad_sig = ana_stacking_dm.do_trials(rss, n=1, mean_n_sig=2)\n",
    "res_trad_sig"
   ]
  },
  {
   "cell_type": "code",
   "execution_count": null,
   "id": "1de61147",
   "metadata": {},
   "outputs": [],
   "source": [
    "#print(ana_trad.tdm_list[0].get_n_values)"
   ]
  },
  {
   "cell_type": "code",
   "execution_count": 17,
   "id": "1a6c71a3",
   "metadata": {
    "scrolled": true
   },
   "outputs": [
    {
     "name": "stdout",
     "output_type": "stream",
     "text": [
      "In llhratio.py log_lambda nan grads [nan nan]\n",
      "In llhratio.py log_lambda nan grads [nan nan]\n",
      "In llhratio.py log_lambda nan grads [nan nan]\n",
      "In llhratio.py log_lambda nan grads [nan nan]\n",
      "In llhratio.py log_lambda nan grads [nan nan]\n",
      "In llhratio.py log_lambda nan grads [nan nan]\n",
      "In llhratio.py log_lambda nan grads [nan nan]\n",
      "In llhratio.py log_lambda nan grads [nan nan]\n",
      "In llhratio.py log_lambda nan grads [nan nan]\n",
      "In llhratio.py log_lambda nan grads [nan nan]\n",
      "In llhratio.py log_lambda nan grads [nan nan]\n",
      "In llhratio.py log_lambda nan grads [nan nan]\n",
      "In llhratio.py log_lambda nan grads [nan nan]\n",
      "In llhratio.py log_lambda nan grads [nan nan]\n",
      "In llhratio.py log_lambda nan grads [nan nan]\n",
      "In llhratio.py log_lambda nan grads [nan nan]\n",
      "In llhratio.py log_lambda nan grads [nan nan]\n",
      "In llhratio.py log_lambda nan grads [nan nan]\n",
      "In llhratio.py log_lambda nan grads [nan nan]\n",
      "In llhratio.py log_lambda nan grads [nan nan]\n",
      "In llhratio.py log_lambda nan grads [nan nan]\n",
      "In llhratio.py log_lambda nan grads [nan nan]\n",
      "In llhratio.py log_lambda nan grads [nan nan]\n",
      "In llhratio.py log_lambda nan grads [nan nan]\n",
      "In llhratio.py log_lambda nan grads [nan nan]\n",
      "In llhratio.py log_lambda nan grads [nan nan]\n",
      "In llhratio.py log_lambda nan grads [nan nan]\n",
      "In llhratio.py log_lambda nan grads [nan nan]\n",
      "In llhratio.py log_lambda nan grads [nan nan]\n",
      "In llhratio.py log_lambda nan grads [nan nan]\n",
      "In llhratio.py log_lambda nan grads [nan nan]\n",
      "In llhratio.py log_lambda nan grads [nan nan]\n",
      "In llhratio.py log_lambda nan grads [nan nan]\n",
      "In llhratio.py log_lambda nan grads [nan nan]\n",
      "In llhratio.py log_lambda nan grads [nan nan]\n",
      "In llhratio.py log_lambda nan grads [nan nan]\n",
      "In llhratio.py log_lambda nan grads [nan nan]\n",
      "In llhratio.py log_lambda nan grads [nan nan]\n",
      "In llhratio.py log_lambda nan grads [nan nan]\n",
      "In llhratio.py log_lambda nan grads [nan nan]\n",
      "In llhratio.py log_lambda nan grads [nan nan]\n",
      "In llhratio.py log_lambda nan grads [nan nan]\n",
      "In llhratio.py log_lambda nan grads [nan nan]\n",
      "In llhratio.py log_lambda nan grads [nan nan]\n",
      "In llhratio.py log_lambda nan grads [nan nan]\n",
      "In llhratio.py log_lambda nan grads [nan nan]\n",
      "In llhratio.py log_lambda nan grads [nan nan]\n",
      "In llhratio.py log_lambda nan grads [nan nan]\n",
      "In llhratio.py log_lambda nan grads [nan nan]\n",
      "In llhratio.py log_lambda nan grads [nan nan]\n",
      "Unexpected exception formatting exception. Falling back to standard exception\n"
     ]
    },
    {
     "name": "stderr",
     "output_type": "stream",
     "text": [
      "Traceback (most recent call last):\n",
      "  File \"/cvmfs/icecube.opensciencegrid.org/py3-v4.3.0/Ubuntu_22.04_x86_64/lib/python3.11/site-packages/IPython/core/interactiveshell.py\", line 3508, in run_code\n",
      "    exec(code_obj, self.user_global_ns, self.user_ns)\n",
      "  File \"/tmp/ipykernel_6693/3277087923.py\", line 2, in <module>\n",
      "    plt.plot(ns_grid, [ana_stacking_dm.llhratio.evaluate([ns, 1.0])[0] for ns in ns_grid])\n",
      "                      ^^^^^^^^^^^^^^^^^^^^^^^^^^^^^^^^^^^^^^^^^^^^^^^^^^^^^^^^^^^^^^^^^^^\n",
      "  File \"/tmp/ipykernel_6693/3277087923.py\", line 2, in <listcomp>\n",
      "    plt.plot(ns_grid, [ana_stacking_dm.llhratio.evaluate([ns, 1.0])[0] for ns in ns_grid])\n",
      "                       ^^^^^^^^^^^^^^^^^^^^^^^^^^^^^^^^^^^^^^^^^^^^\n",
      "  File \"/data/user/liruohan/software/skyllh/skyllh/core/llhratio.py\", line 1176, in evaluate\n",
      "    (log_lambda_j, grads_j) = llhratio.evaluate(\n",
      "                              ^^^^^^^^^^^^^^^^^^\n",
      "  File \"/data/user/liruohan/software/skyllh/skyllh/core/llhratio.py\", line 882, in evaluate\n",
      "    dRi = self._pdfratio.get_gradient(\n",
      "          ^^^^^^^^^^^^^^^^^^^^^^^^^^^^\n",
      "  File \"/data/user/liruohan/software/skyllh/skyllh/core/pdfratio.py\", line -1, in get_gradient\n",
      "KeyboardInterrupt\n",
      "\n",
      "During handling of the above exception, another exception occurred:\n",
      "\n",
      "Traceback (most recent call last):\n",
      "  File \"/cvmfs/icecube.opensciencegrid.org/py3-v4.3.0/Ubuntu_22.04_x86_64/lib/python3.11/site-packages/IPython/core/interactiveshell.py\", line 2105, in showtraceback\n",
      "    stb = self.InteractiveTB.structured_traceback(\n",
      "          ^^^^^^^^^^^^^^^^^^^^^^^^^^^^^^^^^^^^^^^^\n",
      "  File \"/cvmfs/icecube.opensciencegrid.org/py3-v4.3.0/Ubuntu_22.04_x86_64/lib/python3.11/site-packages/IPython/core/ultratb.py\", line 1396, in structured_traceback\n",
      "    return FormattedTB.structured_traceback(\n",
      "           ^^^^^^^^^^^^^^^^^^^^^^^^^^^^^^^^^\n",
      "  File \"/cvmfs/icecube.opensciencegrid.org/py3-v4.3.0/Ubuntu_22.04_x86_64/lib/python3.11/site-packages/IPython/core/ultratb.py\", line 1287, in structured_traceback\n",
      "    return VerboseTB.structured_traceback(\n",
      "           ^^^^^^^^^^^^^^^^^^^^^^^^^^^^^^^\n",
      "  File \"/cvmfs/icecube.opensciencegrid.org/py3-v4.3.0/Ubuntu_22.04_x86_64/lib/python3.11/site-packages/IPython/core/ultratb.py\", line 1140, in structured_traceback\n",
      "    formatted_exception = self.format_exception_as_a_whole(etype, evalue, etb, number_of_lines_of_context,\n",
      "                          ^^^^^^^^^^^^^^^^^^^^^^^^^^^^^^^^^^^^^^^^^^^^^^^^^^^^^^^^^^^^^^^^^^^^^^^^^^^^^^^^\n",
      "  File \"/cvmfs/icecube.opensciencegrid.org/py3-v4.3.0/Ubuntu_22.04_x86_64/lib/python3.11/site-packages/IPython/core/ultratb.py\", line 1055, in format_exception_as_a_whole\n",
      "    frames.append(self.format_record(record))\n",
      "                  ^^^^^^^^^^^^^^^^^^^^^^^^^^\n",
      "  File \"/cvmfs/icecube.opensciencegrid.org/py3-v4.3.0/Ubuntu_22.04_x86_64/lib/python3.11/site-packages/IPython/core/ultratb.py\", line 955, in format_record\n",
      "    frame_info.lines, Colors, self.has_colors, lvals\n",
      "    ^^^^^^^^^^^^^^^^\n",
      "  File \"/cvmfs/icecube.opensciencegrid.org/py3-v4.3.0/Ubuntu_22.04_x86_64/lib/python3.11/site-packages/IPython/core/ultratb.py\", line 778, in lines\n",
      "    return self._sd.lines\n",
      "           ^^^^^^^^^^^^^^\n",
      "  File \"/cvmfs/icecube.opensciencegrid.org/py3-v4.3.0/Ubuntu_22.04_x86_64/lib/python3.11/site-packages/stack_data/utils.py\", line 144, in cached_property_wrapper\n",
      "    value = obj.__dict__[self.func.__name__] = self.func(obj)\n",
      "                                               ^^^^^^^^^^^^^^\n",
      "  File \"/cvmfs/icecube.opensciencegrid.org/py3-v4.3.0/Ubuntu_22.04_x86_64/lib/python3.11/site-packages/stack_data/core.py\", line 734, in lines\n",
      "    pieces = self.included_pieces\n",
      "             ^^^^^^^^^^^^^^^^^^^^\n",
      "  File \"/cvmfs/icecube.opensciencegrid.org/py3-v4.3.0/Ubuntu_22.04_x86_64/lib/python3.11/site-packages/stack_data/utils.py\", line 144, in cached_property_wrapper\n",
      "    value = obj.__dict__[self.func.__name__] = self.func(obj)\n",
      "                                               ^^^^^^^^^^^^^^\n",
      "  File \"/cvmfs/icecube.opensciencegrid.org/py3-v4.3.0/Ubuntu_22.04_x86_64/lib/python3.11/site-packages/stack_data/core.py\", line 681, in included_pieces\n",
      "    pos = scope_pieces.index(self.executing_piece)\n",
      "                             ^^^^^^^^^^^^^^^^^^^^\n",
      "  File \"/cvmfs/icecube.opensciencegrid.org/py3-v4.3.0/Ubuntu_22.04_x86_64/lib/python3.11/site-packages/stack_data/utils.py\", line 144, in cached_property_wrapper\n",
      "    value = obj.__dict__[self.func.__name__] = self.func(obj)\n",
      "                                               ^^^^^^^^^^^^^^\n",
      "  File \"/cvmfs/icecube.opensciencegrid.org/py3-v4.3.0/Ubuntu_22.04_x86_64/lib/python3.11/site-packages/stack_data/core.py\", line 660, in executing_piece\n",
      "    return only(\n",
      "           ^^^^^\n",
      "  File \"/cvmfs/icecube.opensciencegrid.org/py3-v4.3.0/Ubuntu_22.04_x86_64/lib/python3.11/site-packages/executing/executing.py\", line 190, in only\n",
      "    raise NotOneValueFound('Expected one value, found 0')\n",
      "executing.executing.NotOneValueFound: Expected one value, found 0\n"
     ]
    }
   ],
   "source": [
    "ns_grid=np.linspace(0,100,100)\n",
    "plt.plot(ns_grid, [ana_stacking_dm.llhratio.evaluate([ns, 1.0])[0] for ns in ns_grid])"
   ]
  },
  {
   "cell_type": "code",
   "execution_count": null,
   "id": "47cde7d4",
   "metadata": {},
   "outputs": [],
   "source": [
    "break"
   ]
  },
  {
   "cell_type": "code",
   "execution_count": null,
   "id": "cebc44de",
   "metadata": {},
   "outputs": [],
   "source": [
    "import os\n",
    "import scipy.optimize\n",
    "import scipy.stats as st\n",
    "from matplotlib.colors import LinearSegmentedColormap\n",
    "ts_cmap = LinearSegmentedColormap.from_list('mycmap', ['white', 'red', '#800000'])\n",
    "import math\n",
    "import matplotlib as mpl"
   ]
  },
  {
   "cell_type": "code",
   "execution_count": null,
   "id": "824c8b40",
   "metadata": {},
   "outputs": [],
   "source": [
    "x_all = ana_trad.data_list[0].mc\n",
    "x= x_all[x_all['dec']<0]"
   ]
  },
  {
   "cell_type": "code",
   "execution_count": null,
   "id": "b7e687f3",
   "metadata": {},
   "outputs": [],
   "source": [
    "print(ana_trad.data_list[0].mc)"
   ]
  },
  {
   "cell_type": "code",
   "execution_count": null,
   "id": "1201f15f",
   "metadata": {},
   "outputs": [],
   "source": [
    "min(x_all['dec']),min(x['dec'])"
   ]
  },
  {
   "cell_type": "code",
   "execution_count": null,
   "id": "a34180af",
   "metadata": {},
   "outputs": [],
   "source": [
    "print(np.min(x['log_energy']),np.max(x['log_energy']))"
   ]
  },
  {
   "cell_type": "code",
   "execution_count": null,
   "id": "c3f0db66",
   "metadata": {},
   "outputs": [],
   "source": [
    "tot_weight = x['mcweight']*1.*1e-18*(x['true_energy']/1e5)**(-2.)"
   ]
  },
  {
   "cell_type": "code",
   "execution_count": null,
   "id": "e07232e8",
   "metadata": {},
   "outputs": [],
   "source": [
    "len(x['run']),len(np.unique(x['run']))"
   ]
  },
  {
   "cell_type": "code",
   "execution_count": null,
   "id": "04b0bc65",
   "metadata": {},
   "outputs": [],
   "source": [
    "run_id = np.array([str(int(i)) for i in x['run']])\n",
    "ev_id = np.array([str(int(i)) for i in x['time']])\n",
    "unique_id = [run_id[i] + ev_id[i] for i in range(len(ev_id))]\n",
    "\n",
    "bins_Ex = np.linspace(2,8, 100)\n",
    "bins_Ey = np.linspace(2,8, 100)"
   ]
  },
  {
   "cell_type": "code",
   "execution_count": null,
   "id": "9f5e3c60",
   "metadata": {},
   "outputs": [],
   "source": [
    "def get_quantiles(truth, predictions, bins, weight, quantiles=[0.1, 0.5, 0.9]):\n",
    "    ret_dict = {}\n",
    "    for i in quantiles:\n",
    "        ret_dict[i]=[]\n",
    "    for j in quantiles:\n",
    "        for i in range(len(bins_Ex)-1):\n",
    "            mask = (bins[i]<truth) & (bins[i+1]>truth) & (np.isfinite(predictions))\n",
    "            wq = weighted_quantile(predictions[mask], j, sample_weight=weight[mask])\n",
    "            ret_dict[j].append(wq)\n",
    "    return ret_dict\n",
    "\n",
    "def weighted_quantile(values, quantiles, sample_weight=None, \n",
    "                      values_sorted=False, old_style=False):\n",
    "    \"\"\" Very close to numpy.percentile, but supports weights.\n",
    "    NOTE: quantiles should be in [0, 1]!\n",
    "    :param values: numpy.array with data\n",
    "    :param quantiles: array-like with many quantiles needed\n",
    "    :param sample_weight: array-like of the same length as `array`\n",
    "    :param values_sorted: bool, if True, then will avoid sorting of\n",
    "        initial array\n",
    "    :param old_style: if True, will correct output to be consistent\n",
    "        with numpy.percentile.\n",
    "    :return: numpy.array with computed quantiles.\n",
    "    \"\"\"\n",
    "    values = np.array(values)\n",
    "    quantiles = np.array(quantiles)\n",
    "    if sample_weight is None:\n",
    "        sample_weight = np.ones(len(values))\n",
    "    sample_weight = np.array(sample_weight)\n",
    "    assert np.all(quantiles >= 0) and np.all(quantiles <= 1), \\\n",
    "        'quantiles should be in [0, 1]'\n",
    "\n",
    "    if not values_sorted:\n",
    "        sorter = np.argsort(values)\n",
    "        values = values[sorter]\n",
    "        sample_weight = sample_weight[sorter]\n",
    "\n",
    "    weighted_quantiles = np.cumsum(sample_weight) - 0.5 * sample_weight\n",
    "    if old_style:\n",
    "        # To be convenient with numpy.percentile\n",
    "        weighted_quantiles -= weighted_quantiles[0]\n",
    "        weighted_quantiles /= weighted_quantiles[-1]\n",
    "    else:\n",
    "        weighted_quantiles /= np.sum(sample_weight)\n",
    "    return np.interp(quantiles, weighted_quantiles, values)"
   ]
  },
  {
   "cell_type": "code",
   "execution_count": null,
   "id": "383f5a2e",
   "metadata": {},
   "outputs": [],
   "source": [
    "def make_energy_2d_plot(prediction, truth, tot_weight, bins_Ex, bins_Ey, savepath):\n",
    "    quantiles_dnn = get_quantiles(truth, prediction, bins_Ey, tot_weight, quantiles=[0.05, 0.5, 0.95])\n",
    "    fig = plt.figure(figsize=(8, 7))\n",
    "    ax = fig.add_subplot(111)\n",
    "\n",
    "    H = np.histogram2d(truth, prediction, bins = [bins_Ey, bins_Ex], weights=tot_weight)\n",
    "    H1 = np.histogram(truth, bins = bins_Ex, weights=tot_weight)\n",
    "    H_plot = H[0]/H1[0][:, np.newaxis]\n",
    "    save_dict = dict()\n",
    "    save_dict['bins_true_E'] = bins_Ex\n",
    "    save_dict['bins_reco_E'] = bins_Ey\n",
    "    save_dict['bin_vals'] = H_plot\n",
    "    np.save('reco_energy.npy', save_dict)\n",
    "    print(np.max(H_plot))\n",
    "    cbar = ax.pcolormesh(bins_Ey, bins_Ex, H_plot.T, cmap=ts_cmap, norm=mpl.colors.LogNorm(vmin=1e-5, vmax=0.5))\n",
    "    plt.colorbar(cbar, label=r'$P(E_{reco} | E_{\\mu})$')\n",
    "    ax.plot([1,8], [1,8], linestyle='-', color = 'k')\n",
    "    ax.plot(bins_Ex[:-1], quantiles_dnn[0.05], color='white',lw=1.5, ls='--')\n",
    "    ax.plot(bins_Ex[:-1], quantiles_dnn[0.5], color='white', lw=1.5)\n",
    "    ax.plot(bins_Ex[:-1], quantiles_dnn[0.95], color='white', lw=1.5, ls='--')\n",
    "    \n",
    "    bins_Ex_greco = np.linspace(1.,3.5, 50)\n",
    "    bins_Ey_greco = np.linspace(1.,3.5, 50)\n",
    "#     energy_greco=np.load('reco_energy_greco.npy',allow_pickle=True)\n",
    "#     cbar2 = ax.pcolormesh(bins_Ey_greco, bins_Ex_greco, (energy_greco.item()['bin_vals']).T,\n",
    "#                           cmap=ts_cmap, norm=mpl.colors.LogNorm(vmin=1e-5, vmax=0.5))\n",
    "#     plt.colorbar(cbar2)\n",
    "    \n",
    "    quantile_greco=np.load('quantile_dnn_greco.npy', allow_pickle=True)\n",
    "    ax.plot(bins_Ex_greco[:-1], quantile_greco.item()[0.05], color='black',lw=1.5, ls='--')\n",
    "    ax.plot(bins_Ex_greco[:-1], quantile_greco.item()[0.5], color='black', lw=1.5)\n",
    "    ax.plot(bins_Ex_greco[:-1], quantile_greco.item()[0.95], color='black', lw=1.5, ls='--')\n",
    "    \n",
    "    ax.set_ylim(1.,8)\n",
    "    ax.set_xlim(1.,8)\n",
    "    ax.set_xlabel(r'$\\log_{10}(E_{\\mu}/GeV)$')\n",
    "    ax.set_ylabel(r'$\\log_{10}(E_{reco}/GeV)$')\n",
    "    plt.grid(True)\n",
    "    fig.savefig(savepath, dpi=300, bbox_inches='tight')\n",
    "    fig.show()"
   ]
  },
  {
   "cell_type": "code",
   "execution_count": null,
   "id": "012abc66",
   "metadata": {},
   "outputs": [],
   "source": [
    "energy.item()"
   ]
  },
  {
   "cell_type": "code",
   "execution_count": null,
   "id": "c1583388",
   "metadata": {},
   "outputs": [],
   "source": [
    "truth = np.log10(x['true_energy'])\n",
    "prediction = x['log_energy']\n",
    "\n",
    "make_energy_2d_plot(prediction, truth, tot_weight, bins_Ex, bins_Ey, 'dnn.png')"
   ]
  },
  {
   "cell_type": "code",
   "execution_count": null,
   "id": "e889ce7f",
   "metadata": {},
   "outputs": [],
   "source": [
    "events_list = [data.mc for data in ana_trad.data_list]\n",
    "ana_trad.initialize_trial(events_list)"
   ]
  },
  {
   "cell_type": "code",
   "execution_count": null,
   "id": "eca69139",
   "metadata": {},
   "outputs": [],
   "source": [
    "rss = RandomStateService(seed=1)"
   ]
  },
  {
   "cell_type": "code",
   "execution_count": null,
   "id": "7404bdb7",
   "metadata": {},
   "outputs": [],
   "source": [
    "(log_lambda_max, fitparam_values, status) = ana_trad.llhratio.maximize(rss)"
   ]
  },
  {
   "cell_type": "code",
   "execution_count": null,
   "id": "3becec9f",
   "metadata": {},
   "outputs": [],
   "source": [
    "print(f'log_lambda_max = {log_lambda_max}')\n",
    "print(f'fitparam_values = {fitparam_values}')\n",
    "print(f'status = {status}')"
   ]
  },
  {
   "cell_type": "code",
   "execution_count": null,
   "id": "1075b9ce",
   "metadata": {},
   "outputs": [],
   "source": [
    "TS = ana_trad.calculate_test_statistic(log_lambda_max, fitparam_values)\n",
    "print(f'TS = {TS:.3f}')"
   ]
  },
  {
   "cell_type": "code",
   "execution_count": null,
   "id": "0be58e27",
   "metadata": {},
   "outputs": [],
   "source": [
    "(ts, x, status) = ana_kde.unblind(rss=rss)\n",
    "print(f'TS = {ts:.3f}')\n",
    "print(f'ns = {x[\"ns\"]:.2f}')\n",
    "print(f'gamma = {x[\"gamma\"]:.2f}')"
   ]
  },
  {
   "cell_type": "code",
   "execution_count": null,
   "id": "b5963696",
   "metadata": {},
   "outputs": [],
   "source": [
    "scaling_factor = ana_kde.calculate_fluxmodel_scaling_factors(x['ns'], [x['ns'], x['gamma']])\n",
    "print(f'Flux scaling factor = {scaling_factor[0]:.3e}')\n",
    "print(f'{scaling_factor[0]:.3e}'' (E/1000 GeV)^{-'f'{x[\"gamma\"]:.2f}'+'} 1/(GeV s cm^2 sr)')"
   ]
  },
  {
   "cell_type": "code",
   "execution_count": null,
   "id": "0b8b6317",
   "metadata": {},
   "outputs": [],
   "source": [
    "(llhratio_value, (grad_ns, grad_gamma)) = ana_kde.llhratio.evaluate([14.62, 2.59])\n",
    "print(f'llhratio_value = {llhratio_value:.3f}')\n",
    "print(f'grad_ns = {grad_ns:.3f}')\n",
    "print(f'grad_gamma = {grad_gamma:.3f}')"
   ]
  },
  {
   "cell_type": "code",
   "execution_count": null,
   "id": "5dd817a8",
   "metadata": {},
   "outputs": [],
   "source": [
    "ana_kde.sig_generator.mu2flux(14.62)"
   ]
  },
  {
   "cell_type": "code",
   "execution_count": null,
   "id": "c7a42e96",
   "metadata": {},
   "outputs": [],
   "source": [
    "from tqdm import tqdm"
   ]
  },
  {
   "cell_type": "code",
   "execution_count": null,
   "id": "a3c289f2",
   "metadata": {},
   "outputs": [],
   "source": [
    "(ns_min, ns_max, ns_step) = (0, 80, 0.5)\n",
    "(gamma_min, gamma_max, gamma_step) = (1.5, 4.0, 0.1)\n",
    "\n",
    "ns_edges = np.linspace(ns_min, ns_max, int((ns_max-ns_min)/ns_step)+1)\n",
    "ns_vals = 0.5*(ns_edges[1:] + ns_edges[:-1])\n",
    "\n",
    "gamma_edges = np.linspace(gamma_min, gamma_max, int((gamma_max-gamma_min)/gamma_step+1))\n",
    "gamma_vals = 0.5*(gamma_edges[1:] + gamma_edges[:-1])\n",
    "\n",
    "delta_ts = np.empty((len(ns_vals), len(gamma_vals)), dtype=np.double)\n",
    "for (ns_i, ns) in tqdm(enumerate(ns_vals)):\n",
    "    for (gamma_i, gamma) in enumerate(gamma_vals):\n",
    "\n",
    "        delta_ts[ns_i, gamma_i] = (\n",
    "            ana_kde.calculate_test_statistic(llhratio_value, [14.58, 2.17]) -\n",
    "            ana_kde.calculate_test_statistic(ana_kde.llhratio.evaluate([ns, gamma])[0], [ns, gamma])\n",
    "        )\n",
    "\n",
    "# Determine the best fit ns and gamma values from the scan.\n",
    "index_max = np.argmin(delta_ts)\n",
    "ns_i_max = int(index_max / len(gamma_vals))\n",
    "gamma_i_max = index_max % len(gamma_vals)\n",
    "ns_best = ns_vals[ns_i_max]\n",
    "gamma_best = gamma_vals[gamma_i_max]"
   ]
  },
  {
   "cell_type": "code",
   "execution_count": null,
   "id": "39918bb5",
   "metadata": {},
   "outputs": [],
   "source": [
    "# Determine the delta lambda value for the 95% quantile assuming a chi-sqaure\n",
    "# distribution with 2 degrees of freedom (i.e. assuming Wilks theorem).\n",
    "chi2_68_quantile = scipy.stats.chi2.ppf(0.68, df=2)\n",
    "chi2_90_quantile = scipy.stats.chi2.ppf(0.90, df=2)\n",
    "chi2_95_quantile = scipy.stats.chi2.ppf(0.95, df=2)"
   ]
  },
  {
   "cell_type": "code",
   "execution_count": null,
   "id": "b03681e5",
   "metadata": {},
   "outputs": [],
   "source": [
    "from matplotlib.colors import LogNorm\n",
    "plt.figure(figsize=(8,6))\n",
    "plt.pcolormesh(gamma_edges, ns_edges, delta_ts, cmap='nipy_spectral')\n",
    "cbar = plt.colorbar()\n",
    "cbar.set_label(r'$\\Delta$TS')\n",
    "plt.contour(gamma_vals, ns_vals, delta_ts, [chi2_68_quantile], colors='#FFFFFF')\n",
    "plt.contour(gamma_vals, ns_vals, delta_ts, [chi2_90_quantile], colors='#AAAAAA')\n",
    "plt.contour(gamma_vals, ns_vals, delta_ts, [chi2_95_quantile], colors='#444444')\n",
    "plt.plot(gamma_best, ns_best, marker='x', color='white', ms=10)\n",
    "plt.xlabel(r'$\\gamma$')\n",
    "plt.ylabel(r'$n_{\\mathrm{s}}$')\n",
    "plt.ylim(ns_min, ns_max)\n",
    "plt.xlim(gamma_min, gamma_max)"
   ]
  },
  {
   "cell_type": "markdown",
   "id": "672b83b4",
   "metadata": {},
   "source": [
    "## Some utility functions"
   ]
  },
  {
   "cell_type": "code",
   "execution_count": null,
   "id": "f9f6f9b2",
   "metadata": {},
   "outputs": [],
   "source": [
    "from skyllh.core.utils.analysis import (estimate_sensitivity,\n",
    "    estimate_discovery_potential,\n",
    "    create_trial_data_file,\n",
    "    estimate_sen_dep_from_trials\n",
    ")"
   ]
  },
  {
   "cell_type": "code",
   "execution_count": null,
   "id": "3aa096b3",
   "metadata": {},
   "outputs": [],
   "source": [
    "help(create_trial_data_file)"
   ]
  },
  {
   "cell_type": "code",
   "execution_count": null,
   "id": "61da5a3d",
   "metadata": {},
   "outputs": [],
   "source": [
    "help(estimate_sensitivity)"
   ]
  },
  {
   "cell_type": "code",
   "execution_count": null,
   "id": "5c55ea92",
   "metadata": {},
   "outputs": [],
   "source": [
    "sensitivity_results=estimate_sensitivity(ana_trad,rss,mu_range=(10,20),pathfilename='/home/liruohan/cluster_run/dm_test_sensitivity_1src_800GeV.npy')"
   ]
  },
  {
   "cell_type": "code",
   "execution_count": null,
   "id": "fb57bd16",
   "metadata": {},
   "outputs": [],
   "source": [
    "print(sensitivity_results)"
   ]
  },
  {
   "cell_type": "code",
   "execution_count": null,
   "id": "3cd5a752",
   "metadata": {},
   "outputs": [],
   "source": [
    "with open('/home/liruohan/single_source/sensitivity_results.txt', 'a+') as f:\n",
    "    f.write(source_name +\" DM 800GeV:\"+str(sensitivity_results)+\"\\n\")\n",
    "    f.close()"
   ]
  },
  {
   "cell_type": "code",
   "execution_count": null,
   "id": "5c2986d3",
   "metadata": {
    "scrolled": true
   },
   "outputs": [],
   "source": [
    "n_trials = 2500\n",
    "pathfilename = 'combined_trails.npy'\n",
    "_ = create_trial_data_file(ana_kde, rss, n_trials, mean_n_sig=0, mean_n_sig_null=0, pathfilename=pathfilename)"
   ]
  },
  {
   "cell_type": "code",
   "execution_count": null,
   "id": "6c1b7d0a",
   "metadata": {},
   "outputs": [],
   "source": [
    "trials = np.load(pathfilename)\n",
    "print(trials)\n",
    "print(trials.dtype)"
   ]
  },
  {
   "cell_type": "markdown",
   "id": "b39f20dd",
   "metadata": {},
   "source": [
    "## Pseudo data example"
   ]
  },
  {
   "cell_type": "code",
   "execution_count": null,
   "id": "ef3957df",
   "metadata": {},
   "outputs": [],
   "source": [
    "# Generate background events.\n",
    "(bg_n_events_list, bg_events_list) = ana_kde.generate_background_events(\n",
    "    rss=rss,\n",
    ")\n",
    "\n",
    "# Generate signal events.\n",
    "(n_sig, sig_n_events_list, sig_events_list) = ana_kde.generate_signal_events(\n",
    "    rss=rss,\n",
    "    mean_n_sig=10\n",
    ")"
   ]
  },
  {
   "cell_type": "code",
   "execution_count": null,
   "id": "d5c60a9c",
   "metadata": {},
   "outputs": [],
   "source": [
    "print(sig_events_list[0])"
   ]
  },
  {
   "cell_type": "code",
   "execution_count": null,
   "id": "87d236a7",
   "metadata": {},
   "outputs": [],
   "source": [
    "delta_angle = 3.0\n",
    "\n",
    "plt.figure(figsize=(8, 8))\n",
    "\n",
    "# Scatter background and signal events.\n",
    "plt.scatter(np.rad2deg(bg_events_list[0]['ra']), np.rad2deg(bg_events_list[0]['dec']), label='bg', alpha=0.3, edgecolors='none')\n",
    "plt.scatter(np.rad2deg(sig_events_list[0]['ra']), np.rad2deg(sig_events_list[0]['dec']), label='sig')\n",
    "plt.scatter(np.rad2deg(new_source.ra), np.rad2deg(new_source.dec), marker='*', label='source', s=150)\n",
    "\n",
    "plt.xlabel('ra, deg')\n",
    "plt.ylabel('dec, deg')\n",
    "plt.xlim(np.rad2deg(new_source.ra) - delta_angle, np.rad2deg(new_source.ra) + delta_angle)\n",
    "plt.ylim(np.rad2deg(new_source.dec) - delta_angle, np.rad2deg(new_source.dec) + delta_angle)\n",
    "plt.legend()"
   ]
  }
 ],
 "metadata": {
  "kernelspec": {
   "display_name": "py3-v4.3.0: v1.9.1",
   "language": "shell",
   "name": "py3-v4.3.0_v1.9.1"
  },
  "language_info": {
   "codemirror_mode": {
    "name": "ipython",
    "version": 3
   },
   "file_extension": ".py",
   "mimetype": "text/x-python",
   "name": "python",
   "nbconvert_exporter": "python",
   "pygments_lexer": "ipython3",
   "version": "3.11.3"
  }
 },
 "nbformat": 4,
 "nbformat_minor": 5
}
