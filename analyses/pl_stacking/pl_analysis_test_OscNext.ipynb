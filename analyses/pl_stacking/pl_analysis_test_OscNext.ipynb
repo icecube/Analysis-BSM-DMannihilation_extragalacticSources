{
 "cells": [
  {
   "cell_type": "markdown",
   "id": "768844ab",
   "metadata": {},
   "source": [
    "# Introduction\n",
    "\n",
    "SkyLLH is a Python based framework to develop and to perform general maximum likelihood ratio hypothesis testing.\n",
    "\n",
    "The idea of SkyLLH is to provide a framework with a class structure that is tied to the mathematical objects of the likelihood functions, rather than to entire abstract likelihood models\n",
    "\n",
    "## Installation\n",
    "\n",
    "### Prerequisites\n",
    "\n",
    "cvmfs py3 environment contains all necessary packages:\n",
    "```bash\n",
    "eval `/cvmfs/icecube.opensciencegrid.org/py3-v4.1.1/setup.sh`\n",
    "```\n",
    "\n",
    "[requirements.txt](https://github.com/icecube/skyllh/blob/master/requirements.txt):\n",
    "```\n",
    "astropy\n",
    "numpy\n",
    "scipy\n",
    "iminuit\n",
    "matplotlib\n",
    "```\n",
    "\n",
    "## Setup\n",
    "\n",
    "The framework is split into two packages:\n",
    "1. [skyllh](https://github.com/icecube/skyllh)\n",
    "    - open source code with classes defining detector independent likelihood framework\n",
    "2. [i3skyllh](https://github.com/icecube/i3skyllh)\n",
    "    - collection of pre-defined SkyLLH IceCube analyses\n",
    "    - collection of pre-defined IceCube datasets\n",
    "\n",
    "To set it up clone git repositories and add them to the `PYTHONPATH`:\n",
    "```bash\n",
    "git clone git@github.com:icecube/skyllh.git\n",
    "git clone git@github.com:icecube/i3skyllh.git\n",
    "export PYTHONPATH=$PYTHONPATH:/path/to/skyllh\n",
    "export PYTHONPATH=$PYTHONPATH:/path/to/i3skyllh\n",
    "```"
   ]
  },
  {
   "cell_type": "code",
   "execution_count": 1,
   "id": "1289dc26",
   "metadata": {},
   "outputs": [
    {
     "name": "stdout",
     "output_type": "stream",
     "text": [
      "Python 3.7.5\n"
     ]
    }
   ],
   "source": [
    "%%bash\n",
    "python --version"
   ]
  },
  {
   "cell_type": "code",
   "execution_count": 2,
   "id": "15915426",
   "metadata": {},
   "outputs": [],
   "source": [
    "#%load_ext scalene"
   ]
  },
  {
   "cell_type": "markdown",
   "id": "67a337dc",
   "metadata": {},
   "source": [
    "# Time-integrated point source search analysis example"
   ]
  },
  {
   "cell_type": "code",
   "execution_count": 3,
   "id": "b5e523e8",
   "metadata": {},
   "outputs": [
    {
     "data": {
      "text/plain": [
       "'/mnt/ceph1-npx/user/liruohan/dm_model_stacking'"
      ]
     },
     "execution_count": 3,
     "metadata": {},
     "output_type": "execute_result"
    }
   ],
   "source": [
    "import os\n",
    "os.getcwd()"
   ]
  },
  {
   "cell_type": "markdown",
   "id": "a574c173",
   "metadata": {},
   "source": [
    "## Software setup"
   ]
  },
  {
   "cell_type": "code",
   "execution_count": 4,
   "id": "f7317af9",
   "metadata": {},
   "outputs": [],
   "source": [
    "import sys\n",
    "\n",
    "# Add skyllh and i3skyllh projects to the PYTHONPATH\n",
    "sys.path.insert(0, '/data/user/liruohan/software/skyllh')\n",
    "sys.path.insert(0, '/data/user/liruohan/software/i3skyllh')\n",
    "#sys.path.insert(0, '/home/liruohan/.local/lib/python3.7/site-packages')\n",
    "\n",
    "# Add missing python packages from cvmfs\n",
    "#sys.path.insert(0, '/cvmfs/icecube.opensciencegrid.org/py3-v4.1.1/RHEL_7_x86_64/lib/python3.7/site-packages')"
   ]
  },
  {
   "cell_type": "code",
   "execution_count": 5,
   "id": "830a9302",
   "metadata": {},
   "outputs": [],
   "source": [
    "# import skyllh\n",
    "# skyllh.__version__"
   ]
  },
  {
   "cell_type": "markdown",
   "id": "95029387",
   "metadata": {},
   "source": [
    "## Create `datasets` object"
   ]
  },
  {
   "cell_type": "code",
   "execution_count": 6,
   "id": "96f2512a",
   "metadata": {},
   "outputs": [],
   "source": [
    "import numpy as np\n",
    "import matplotlib.pyplot as plt\n",
    "import pandas as pd\n",
    "from tqdm import tqdm\n",
    "\n",
    "from skyllh.core.config import Config\n",
    "from skyllh.core.random import RandomStateService\n",
    "from skyllh.core.timing import TimeLord\n",
    "from skyllh.core.source_model import PointLikeSource\n",
    "\n",
    "# Pre-defined datasets\n",
    "from i3skyllh.datasets import data_samples\n",
    "\n",
    "#Pre-defined analysis\n",
    "from i3skyllh.analyses.trad_single_ps import analysis as trad_single_analysis\n",
    "from i3skyllh.analyses.trad_single_ps import analysis_dm as trad_single_analysis_spline\n",
    "from i3skyllh.analyses.trad_stacked_ps import analysis_dm as trad_stacking_analysis_spline\n",
    "#from i3skyllh.analyses.trad_single_ps import analysis as trad_single_analysis_powerlaw"
   ]
  },
  {
   "cell_type": "code",
   "execution_count": 7,
   "id": "a8d2009e",
   "metadata": {},
   "outputs": [],
   "source": [
    "import matplotlib as mpl\n",
    "\n",
    "mpl.rcParams['figure.figsize'] = (6,4)\n",
    "mpl.rcParams['figure.dpi'] = 300"
   ]
  },
  {
   "cell_type": "code",
   "execution_count": 8,
   "id": "9f8d364f",
   "metadata": {},
   "outputs": [],
   "source": [
    "# Update global settings to use 2 cpu cores\n",
    "#Config['multiproc']['ncpu'] = 2\n",
    "cfg=Config()\n",
    "cfg.set_ncpu(2)\n",
    "\n",
    "from skyllh.core.datafields import (\n",
    "    DataFieldStages as DFS,\n",
    ")\n",
    "\n",
    "# cfg['datafields']['astro'] = DFS.ANALYSIS_MC\n",
    "# cfg['datafields']['conv'] = DFS.ANALYSIS_MC"
   ]
  },
  {
   "cell_type": "code",
   "execution_count": 9,
   "id": "81d1b6e7",
   "metadata": {},
   "outputs": [],
   "source": [
    "# Specify base path for datasets\n",
    "data_base_path = '/data/ana/analyses'\n",
    "\n",
    "# Load specific dataset collection\n",
    "dsc = data_samples['PointSourceTracks_v004p00'].create_dataset_collection(\n",
    "            base_path=data_base_path,cfg=cfg)\n",
    "\n",
    "# Pick a dataset or create a list of datasets from the dataset collection\n",
    "datasets = dsc.get_datasets('IC86, 2011-2019')"
   ]
  },
  {
   "cell_type": "code",
   "execution_count": 10,
   "id": "8b475c96",
   "metadata": {},
   "outputs": [],
   "source": [
    "from skyllh.core.minimizers.iminuit import IMinuitMinimizerImpl"
   ]
  },
  {
   "cell_type": "code",
   "execution_count": 11,
   "id": "26bcb315",
   "metadata": {},
   "outputs": [],
   "source": [
    "# Define some common analysis parameters\n",
    "refplflux_gamma = 0.5\n",
    "minimizer_impl = IMinuitMinimizerImpl(cfg=cfg)\n",
    "#minimizer_impl = None\n",
    "optimize_delta_angle = 10.0\n",
    "rss_seed = 1\n",
    "rss = RandomStateService(rss_seed)"
   ]
  },
  {
   "cell_type": "code",
   "execution_count": 12,
   "id": "fc380d05",
   "metadata": {},
   "outputs": [],
   "source": [
    "ra_arr=np.array([224.755625  , 154.802375  ,   2.02341667, 278.76416667,\n",
    "        280.5375    , 351.8415    , 299.9994    , 205.2964    ,\n",
    "        120.68079167, 232.82541667, 104.90875   , 141.321     ,\n",
    "        234.15958333, 218.71854167, 210.07675   , 141.162     ,\n",
    "        169.74041667, 141.30375   , 352.6552    , 198.8155    ,\n",
    "        126.292625  , 118.85541667, 286.35791667,  90.54042   ,\n",
    "        174.80791667, 174.80791667, 184.47916667, 233.96791667,\n",
    "        239.79      , 208.26416667, 184.02954167, 219.09208333,\n",
    "         68.29625   , 195.9975    , 166.1138    ,  73.01958   ,\n",
    "         34.11292   ,   1.58125   , 139.60833333, 226.005     ,\n",
    "        171.40083333, 144.55108333, 253.4676    , 196.587375  ,\n",
    "        323.9766    , 121.41108333, 197.2733    , 259.81041667,\n",
    "        194.9531    ,  88.72333333,  77.68958333,  70.94537   ,\n",
    "        115.63666667, 321.164     , 224.27833333, 345.815     ,\n",
    "         49.95067   ,  37.06079   ,  38.575     , 214.49791667,\n",
    "        184.61041667, 103.05083333,  12.19642   ,  42.67417   ,\n",
    "        321.9373    , 304.6606    ,  93.90129   , 307.1462    ,\n",
    "          6.38092   , 176.31666667, 166.69791667, 186.4455    ,\n",
    "        183.2627    , 155.8775    , 205.53458333, 180.79      ,\n",
    "        182.63583333, 182.3745    , 198.365     , 186.45333333,\n",
    "        184.7397    ])\n",
    "dec_arr=np.array([61.23152778, 63.96741667, 14.83983333, 32.69638889, 79.77138889,\n",
    "        15.41036111, 65.14851   , 30.37811   , 31.06758333,  7.45777778,\n",
    "        54.19666667, 69.488     , 54.55916667, 48.66186111,  5.04505556,\n",
    "        56.12969444, 58.05666667, 52.28638889, 71.37911   , 44.4075    ,\n",
    "        37.98880556, 39.18611111, 42.46111111, 28.47139   , 33.93083333,\n",
    "        33.93083333, 58.65972222, 57.9025    , 35.02972222, 69.30833333,\n",
    "        50.825     , 58.79416667,  5.35444444, 53.79172   , 38.20883   ,\n",
    "        49.54583   , 51.42375   , 20.20277778, 16.30527778, 10.43782   ,\n",
    "        54.3825    ,  7.72777778, 39.76017   , 53.30641667, 47.47453   ,\n",
    "        26.16816667, 11.63414   , 48.98027778, 27.9807    , 46.43944444,\n",
    "        16.49888889, 28.97194   , 49.80972222, 50.97329   , 49.669     ,\n",
    "         8.87388889, 41.5117    , 31.31094   , 32.48333   , 25.13666667,\n",
    "        29.81277778, 74.42694444, 31.95697   , 54.70419   , 56.94436   ,\n",
    "        40.68344   , 71.03748   , 25.73361   , 68.36147   , 79.68138889,\n",
    "        72.56861111, 12.66203   ,  7.03881   , 19.865     , 35.65416667,\n",
    "        44.53138889, 39.40583333, 43.685     , 36.59358   , 33.54694444,\n",
    "        47.30397   ])\n",
    "weight_arr=np.array([0.00040521, 0.00040846, 0.00040989, 0.00041909, 0.00044537,\n",
    "       0.00045612, 0.00046153, 0.00046779, 0.00047393, 0.00048039,\n",
    "       0.00048195, 0.00048958, 0.00049103, 0.00049265, 0.00049313,\n",
    "       0.00051222, 0.00052136, 0.00052444, 0.0005435 , 0.00055509,\n",
    "       0.0006125 , 0.00065439, 0.00065587, 0.00068172, 0.00069196,\n",
    "       0.00069196, 0.00069241, 0.00073913, 0.00075588, 0.00076813,\n",
    "       0.0007818 , 0.00079068, 0.00079232, 0.00081294, 0.00082382,\n",
    "       0.0008812 , 0.00089339, 0.00092314, 0.00094126, 0.0009752 ,\n",
    "       0.00097793, 0.00098586, 0.00114846, 0.00116211, 0.00116522,\n",
    "       0.00117926, 0.00118397, 0.00126644, 0.00138562, 0.00154348,\n",
    "       0.00155108, 0.00156935, 0.0016089 , 0.00184623, 0.00189567,\n",
    "       0.00195989, 0.00238219, 0.00264506, 0.00281039, 0.00281405,\n",
    "       0.00285993, 0.00299   , 0.00323358, 0.00327643, 0.00355436,\n",
    "       0.00355478, 0.00404473, 0.00435971, 0.00511612, 0.00598944,\n",
    "       0.00884075, 0.01042823, 0.01501309, 0.02927102, 0.03276768,\n",
    "       0.04740906, 0.06161564, 0.08164006, 0.08736569, 0.17287162,\n",
    "       0.34521955])\n",
    "\n",
    "# most_significant_src={'NGC4258':[184.739700,47.303970,1],'NGC4395':[186.453333,33.546944,1],'NGC5033':[198.365000,36.593580,1],\n",
    "#                   'NGC4138':[182.374500,43.685000,1],'NGC4151':[182.635833,39.4058331,1],'NGC4051':[180.790000,44.531389,1]}"
   ]
  },
  {
   "cell_type": "code",
   "execution_count": 13,
   "id": "fdefabe2",
   "metadata": {},
   "outputs": [],
   "source": [
    "#Define initial source object\n",
    "sources = [PointLikeSource(ra=src_ra, dec=src_dec, weight=src_weight)\n",
    "           for (src_ra, src_dec, src_weight) in zip(np.deg2rad(ra_arr), np.deg2rad(dec_arr), weight_arr)]"
   ]
  },
  {
   "cell_type": "code",
   "execution_count": 14,
   "id": "5cafae64",
   "metadata": {},
   "outputs": [],
   "source": [
    "# # #source\n",
    "# single_src=most_significant_src['NGC4258']\n",
    "#source = PointLikeSource(ra=np.deg2rad(40.75),dec=np.deg2rad(-0.05))\n",
    "\n",
    "#source_fluxes = DMFlux(channel='W',dm_mass=1000)"
   ]
  },
  {
   "cell_type": "code",
   "execution_count": 15,
   "id": "15aa510b",
   "metadata": {},
   "outputs": [],
   "source": [
    "# mass_test_list = (200,300,400,500,600,700,800,1000,1200,1500,2000,3000)\n",
    "# for mass in tqdm(mass_test_list):\n",
    "#     ana_trad = trad_single_analysis.create_analysis(\n",
    "#     cfg=cfg,\n",
    "#     datasets=datasets,\n",
    "#     source=source,\n",
    "#     channel='\\[Nu]\\[Mu]',\n",
    "#     mass=mass,\n",
    "#     ns_seed=100.0,\n",
    "#     compress_data=True,\n",
    "#     optimize_delta_angle_deg=10,\n",
    "#     #energy_range=(1e4,2e4),\n",
    "#     minimizer_impl=minimizer_impl)\n",
    "    \n",
    "#     events_list = [ data.mc for data in ana_trad.data_list ]\n",
    "#     ana_trad.initialize_trial(events_list)\n",
    "    \n",
    "#     ns_grid=np.linspace(0,200,201)\n",
    "#     plt.plot(ns_grid, [ana_trad.llhratio.evaluate([ns, 2.5])[0] for ns in ns_grid],\n",
    "#              label='mass={}'.format(str(mass)))\n",
    "#     plt.xlabel(r'$(E[GeV]$')\n",
    "#     plt.ylabel(r'$-LLHratio$')"
   ]
  },
  {
   "cell_type": "code",
   "execution_count": 16,
   "id": "b6d7c07e",
   "metadata": {},
   "outputs": [],
   "source": [
    "# #%%scalene\n",
    "# ana_trad_powerlaw = trad_single_analysis_powerlaw.create_analysis(\n",
    "#     cfg=cfg,\n",
    "#     datasets=datasets,\n",
    "#     source=source,\n",
    "# #    bkg_event_rate_field_names=['astro', 'conv'],\n",
    "#     compress_data=True,\n",
    "#     optimize_delta_angle_deg=10,\n",
    "# #    energy_range=(1e4,2e5),\n",
    "#     ns_seed=100,\n",
    "#     ns_max=1e4,\n",
    "#     minimizer_impl=minimizer_impl\n",
    "# )"
   ]
  },
  {
   "cell_type": "code",
   "execution_count": 17,
   "id": "cc0a26b3",
   "metadata": {},
   "outputs": [],
   "source": [
    "# #%%scalene\n",
    "# ana_single_dm = trad_single_analysis_spline.create_analysis(\n",
    "#     cfg=cfg,\n",
    "#     datasets=datasets,\n",
    "#     source=source,\n",
    "#     channel='WW',\n",
    "#     mass=1000,\n",
    "# #    bkg_event_rate_field_names=['astro', 'conv'],\n",
    "#     compress_data=True,\n",
    "#     optimize_delta_angle_deg=10,\n",
    "#     #energy_range=(1e4,2e4),\n",
    "#     ns_seed=100,\n",
    "#     ns_max=1e4,\n",
    "#     minimizer_impl=minimizer_impl\n",
    "# )"
   ]
  },
  {
   "cell_type": "code",
   "execution_count": 18,
   "id": "2b9eac5c",
   "metadata": {
    "scrolled": true
   },
   "outputs": [
    {
     "name": "stderr",
     "output_type": "stream",
     "text": [
      " 44%|████▍     | 4/9 [00:46<00:08,  1.71s/it]"
     ]
    },
    {
     "name": "stdout",
     "output_type": "stream",
     "text": [
      "\n"
     ]
    },
    {
     "name": "stderr",
     "output_type": "stream",
     "text": [
      "100%|██████████| 9/9 [00:46<00:00,  5.13s/it]\n",
      "100%|██████████| 5/5 [00:07<00:00,  1.42s/it]\n"
     ]
    }
   ],
   "source": [
    "#%%scalene\n",
    "ana_stacking_dm = trad_stacking_analysis_spline.create_analysis(\n",
    "    cfg=cfg,\n",
    "    datasets=datasets,\n",
    "    sources=sources,\n",
    "    channel='WW',\n",
    "    mass=1000,\n",
    "#    bkg_event_rate_field_names=['astro', 'conv'],\n",
    "    compress_data=True,\n",
    "    optimize_delta_angle_deg=10,\n",
    "    #energy_range=(1e4,2e4),\n",
    "    ns_seed=100,\n",
    "    ns_max=1e4,\n",
    "    minimizer_impl=minimizer_impl\n",
    ")"
   ]
  },
  {
   "cell_type": "code",
   "execution_count": 19,
   "id": "902f20ba",
   "metadata": {},
   "outputs": [
    {
     "ename": "SyntaxError",
     "evalue": "'break' outside loop (<ipython-input-19-6aaf1f276005>, line 4)",
     "output_type": "error",
     "traceback": [
      "\u001b[0;36m  File \u001b[0;32m\"<ipython-input-19-6aaf1f276005>\"\u001b[0;36m, line \u001b[0;32m4\u001b[0m\n\u001b[0;31mSyntaxError\u001b[0m\u001b[0;31m:\u001b[0m 'break' outside loop\n"
     ]
    }
   ],
   "source": [
    "break"
   ]
  },
  {
   "cell_type": "code",
   "execution_count": null,
   "id": "8e3886be",
   "metadata": {},
   "outputs": [],
   "source": [
    "(ana_stacking_dm.sig_generator.mu2flux(10.6)) * 9.31257e-06 *1e5"
   ]
  },
  {
   "cell_type": "code",
   "execution_count": null,
   "id": "671076a3",
   "metadata": {},
   "outputs": [],
   "source": [
    "rss_seed_gen=1\n",
    "rss_seed_fit=10\n",
    "rss_gen = RandomStateService(rss_seed_gen)\n",
    "rss_fit = RandomStateService(rss_seed_fit)"
   ]
  },
  {
   "cell_type": "code",
   "execution_count": null,
   "id": "392ba9d2",
   "metadata": {},
   "outputs": [],
   "source": [
    "n_trials=10\n",
    "for k in range(n_trials):\n",
    "    # draw random dataset from MC\n",
    "    (n_sig, n_events_list, events_list) = ana_trad_powerlaw.generate_pseudo_data(rss=rss_gen, mean_n_sig=0)\n",
    "\n",
    "    # perform analysis on random dataset\n",
    "#     r_pl = ana_trad_powerlaw.do_trial_with_given_pseudo_data(seed=rss_seed_gen,\n",
    "#                                                     mean_n_sig=0,\n",
    "#                                                     n_sig=n_sig,\n",
    "#                                                     n_events_list=n_events_list,\n",
    "#                                                     events_list=events_list,\n",
    "#                                                     minimizer_rss=rss_gen)\n",
    "    r_sf = ana_trad_dm.do_trial_with_given_pseudo_data(seed=rss_seed_fit,\n",
    "                                                  mean_n_sig=0,\n",
    "                                                  n_sig=n_sig,\n",
    "                                                  n_events_list=n_events_list,\n",
    "                                                  events_list=events_list,\n",
    "                                                  minimizer_rss=rss_fit)\n",
    "    # combine results\n",
    "#     names = [f'{nn}_sf' for nn in r_sf.dtype.names]\n",
    "#     vals = [r_sf[nn] for nn in r_sf.dtype.names]\n",
    "#     r = np.lib.recfunctions.append_fields(r_pl, names, vals, usemask=False, asrecarray=False)\n",
    "#     results.append(r)"
   ]
  },
  {
   "cell_type": "code",
   "execution_count": null,
   "id": "b5c028d1",
   "metadata": {},
   "outputs": [],
   "source": [
    "res = np.lib.recfunctions.stack_arrays(results, asrecarray=False, usemask=False)\n",
    "print(res)\n",
    "trials_outfile = os.path.join(args.outdir, args.outfile)\n",
    "np.save(trials_outfile, res)"
   ]
  },
  {
   "cell_type": "markdown",
   "id": "93788886",
   "metadata": {},
   "source": [
    "### Test signal injection ###"
   ]
  },
  {
   "cell_type": "code",
   "execution_count": null,
   "id": "484082cf",
   "metadata": {},
   "outputs": [],
   "source": [
    "# mc_pstracks=np.load('/data/ana/analyses/ps_tracks/version-004-p01/IC86_2019_exp.npy')\n",
    "# mc_pstracks"
   ]
  },
  {
   "cell_type": "code",
   "execution_count": null,
   "id": "dfe91c9e",
   "metadata": {},
   "outputs": [],
   "source": [
    "background_events = ana_stacking_dm.generate_background_events(rss)\n",
    "signal_events = ana_stacking_dm.generate_signal_events(rss, 100000)"
   ]
  },
  {
   "cell_type": "code",
   "execution_count": null,
   "id": "1a06432b",
   "metadata": {},
   "outputs": [],
   "source": [
    "print(background_events[1][0])"
   ]
  },
  {
   "cell_type": "code",
   "execution_count": null,
   "id": "ac496f6d",
   "metadata": {},
   "outputs": [],
   "source": [
    "print(signal_events[2][0])"
   ]
  },
  {
   "cell_type": "code",
   "execution_count": null,
   "id": "8b3be773",
   "metadata": {},
   "outputs": [],
   "source": [
    "dm_mass=10000\n",
    "bins=np.linspace(0,dm_mass,100)\n",
    "bkg_hist=plt.hist(10**(background_events[1][0]['log_energy']),bins=bins,histtype=\"step\",density=True,label='bkg pdf')\n",
    "sig_hist=plt.hist(10**(signal_events[2][0]['log_energy']),bins=bins,histtype=\"step\",density=True,label='sig pdf')\n",
    "plt.xlim([0,dm_mass])\n",
    "plt.legend()"
   ]
  },
  {
   "cell_type": "code",
   "execution_count": null,
   "id": "aa48b252",
   "metadata": {},
   "outputs": [],
   "source": [
    "DM_model = ana_single_dm.shg_mgr.shg_list[0].fluxmodel\n",
    "DM_model(dm_mass)"
   ]
  },
  {
   "cell_type": "code",
   "execution_count": null,
   "id": "bd3640b5",
   "metadata": {},
   "outputs": [],
   "source": [
    "DM_model.mass"
   ]
  },
  {
   "cell_type": "code",
   "execution_count": null,
   "id": "8dfa2c26",
   "metadata": {},
   "outputs": [],
   "source": [
    "E=np.linspace(0,dm_mass,1000)\n",
    "plt.plot(E,E**2*DM_model(E),label=\"spectrum from model\")"
   ]
  },
  {
   "cell_type": "code",
   "execution_count": null,
   "id": "eabdc7dc",
   "metadata": {
    "scrolled": false
   },
   "outputs": [],
   "source": [
    "plt.figure()\n",
    "bins = np.linspace(0,dm_mass,100)\n",
    "plt.hist(bins, weights=DM_model(bins),bins=bins,density=True,alpha=0.2,label=\"spectrum form model\")\n",
    "bkg_hist=plt.hist(10**(background_events[1][0]['log_energy']),bins=bins,alpha=0.2,density=True,label='bkg pdf')\n",
    "\n",
    "\n",
    "plt.hist(signal_events[2][0]['true_energy'], bins=bins,histtype=\"step\", label=\"mc sig true engy\", density=True)\n",
    "plt.hist(ana_single_dm.data_list[0].mc['true_energy'], bins=bins, weights=ana_single_dm.data_list[0].mc['mcweight']*DM_model(ana_single_dm.data_list[0].mc['true_energy']), histtype='step', label='mc sig true engy(re-weighted)', density=True)\n",
    "\n",
    "plt.hist(10**(signal_events[2][0]['log_energy']), bins=bins,histtype=\"step\", label=\"mc sig reco engy\", density=True)\n",
    "plt.hist(10**ana_single_dm.data_list[0].mc['log_energy'],bins=bins, weights=ana_single_dm.data_list[0].mc['mcweight']*DM_model(ana_single_dm.data_list[0].mc['true_energy']), histtype='step', label='mc sig reco engy(re-weighted)', density=True)\n",
    "plt.xlim([0,dm_mass])\n",
    "plt.legend()"
   ]
  },
  {
   "cell_type": "code",
   "execution_count": null,
   "id": "d2985ee9",
   "metadata": {},
   "outputs": [],
   "source": [
    "break"
   ]
  },
  {
   "cell_type": "markdown",
   "id": "b6a3deb3",
   "metadata": {},
   "source": [
    "### play with fit and trials ###"
   ]
  },
  {
   "cell_type": "code",
   "execution_count": null,
   "id": "a3edfa3f",
   "metadata": {
    "scrolled": true
   },
   "outputs": [],
   "source": [
    "# Generate signal trials\n",
    "rss = RandomStateService(rss_seed)\n",
    "res_trad_sig = ana_stacking_dm.do_trials(rss, n=1, mean_n_sig=10)\n",
    "res_trad_sig"
   ]
  },
  {
   "cell_type": "code",
   "execution_count": null,
   "id": "f8e271fd",
   "metadata": {},
   "outputs": [],
   "source": [
    "#print(ana_trad.tdm_list[0].get_n_values)"
   ]
  },
  {
   "cell_type": "code",
   "execution_count": null,
   "id": "2df8a02a",
   "metadata": {
    "scrolled": true
   },
   "outputs": [],
   "source": [
    "ns_grid=np.linspace(0,100,100)\n",
    "plt.plot(ns_grid, [ana_stacking_dm.llhratio.evaluate([ns, 2.5])[0] for ns in ns_grid])"
   ]
  },
  {
   "cell_type": "code",
   "execution_count": null,
   "id": "8e0ea843",
   "metadata": {},
   "outputs": [],
   "source": [
    "break"
   ]
  },
  {
   "cell_type": "code",
   "execution_count": null,
   "id": "6233a356",
   "metadata": {},
   "outputs": [],
   "source": [
    "import os\n",
    "import scipy.optimize\n",
    "import scipy.stats as st\n",
    "from matplotlib.colors import LinearSegmentedColormap\n",
    "ts_cmap = LinearSegmentedColormap.from_list('mycmap', ['white', 'red', '#800000'])\n",
    "import math\n",
    "import matplotlib as mpl"
   ]
  },
  {
   "cell_type": "code",
   "execution_count": null,
   "id": "24e9acda",
   "metadata": {},
   "outputs": [],
   "source": [
    "x_all = ana_trad.data_list[0].mc\n",
    "x= x_all[x_all['dec']<0]"
   ]
  },
  {
   "cell_type": "code",
   "execution_count": null,
   "id": "71274140",
   "metadata": {},
   "outputs": [],
   "source": [
    "print(ana_trad.data_list[0].mc)"
   ]
  },
  {
   "cell_type": "code",
   "execution_count": null,
   "id": "d29198fa",
   "metadata": {},
   "outputs": [],
   "source": [
    "min(x_all['dec']),min(x['dec'])"
   ]
  },
  {
   "cell_type": "code",
   "execution_count": null,
   "id": "a3177328",
   "metadata": {},
   "outputs": [],
   "source": [
    "print(np.min(x['log_energy']),np.max(x['log_energy']))"
   ]
  },
  {
   "cell_type": "code",
   "execution_count": null,
   "id": "54195197",
   "metadata": {},
   "outputs": [],
   "source": [
    "tot_weight = x['mcweight']*1.*1e-18*(x['true_energy']/1e5)**(-2.)"
   ]
  },
  {
   "cell_type": "code",
   "execution_count": null,
   "id": "017b1d5c",
   "metadata": {},
   "outputs": [],
   "source": [
    "len(x['run']),len(np.unique(x['run']))"
   ]
  },
  {
   "cell_type": "code",
   "execution_count": null,
   "id": "cbf0c807",
   "metadata": {},
   "outputs": [],
   "source": [
    "run_id = np.array([str(int(i)) for i in x['run']])\n",
    "ev_id = np.array([str(int(i)) for i in x['time']])\n",
    "unique_id = [run_id[i] + ev_id[i] for i in range(len(ev_id))]\n",
    "\n",
    "bins_Ex = np.linspace(2,8, 100)\n",
    "bins_Ey = np.linspace(2,8, 100)"
   ]
  },
  {
   "cell_type": "code",
   "execution_count": null,
   "id": "976f8678",
   "metadata": {},
   "outputs": [],
   "source": [
    "def get_quantiles(truth, predictions, bins, weight, quantiles=[0.1, 0.5, 0.9]):\n",
    "    ret_dict = {}\n",
    "    for i in quantiles:\n",
    "        ret_dict[i]=[]\n",
    "    for j in quantiles:\n",
    "        for i in range(len(bins_Ex)-1):\n",
    "            mask = (bins[i]<truth) & (bins[i+1]>truth) & (np.isfinite(predictions))\n",
    "            wq = weighted_quantile(predictions[mask], j, sample_weight=weight[mask])\n",
    "            ret_dict[j].append(wq)\n",
    "    return ret_dict\n",
    "\n",
    "def weighted_quantile(values, quantiles, sample_weight=None, \n",
    "                      values_sorted=False, old_style=False):\n",
    "    \"\"\" Very close to numpy.percentile, but supports weights.\n",
    "    NOTE: quantiles should be in [0, 1]!\n",
    "    :param values: numpy.array with data\n",
    "    :param quantiles: array-like with many quantiles needed\n",
    "    :param sample_weight: array-like of the same length as `array`\n",
    "    :param values_sorted: bool, if True, then will avoid sorting of\n",
    "        initial array\n",
    "    :param old_style: if True, will correct output to be consistent\n",
    "        with numpy.percentile.\n",
    "    :return: numpy.array with computed quantiles.\n",
    "    \"\"\"\n",
    "    values = np.array(values)\n",
    "    quantiles = np.array(quantiles)\n",
    "    if sample_weight is None:\n",
    "        sample_weight = np.ones(len(values))\n",
    "    sample_weight = np.array(sample_weight)\n",
    "    assert np.all(quantiles >= 0) and np.all(quantiles <= 1), \\\n",
    "        'quantiles should be in [0, 1]'\n",
    "\n",
    "    if not values_sorted:\n",
    "        sorter = np.argsort(values)\n",
    "        values = values[sorter]\n",
    "        sample_weight = sample_weight[sorter]\n",
    "\n",
    "    weighted_quantiles = np.cumsum(sample_weight) - 0.5 * sample_weight\n",
    "    if old_style:\n",
    "        # To be convenient with numpy.percentile\n",
    "        weighted_quantiles -= weighted_quantiles[0]\n",
    "        weighted_quantiles /= weighted_quantiles[-1]\n",
    "    else:\n",
    "        weighted_quantiles /= np.sum(sample_weight)\n",
    "    return np.interp(quantiles, weighted_quantiles, values)"
   ]
  },
  {
   "cell_type": "code",
   "execution_count": null,
   "id": "17258299",
   "metadata": {},
   "outputs": [],
   "source": [
    "def make_energy_2d_plot(prediction, truth, tot_weight, bins_Ex, bins_Ey, savepath):\n",
    "    quantiles_dnn = get_quantiles(truth, prediction, bins_Ey, tot_weight, quantiles=[0.05, 0.5, 0.95])\n",
    "    fig = plt.figure(figsize=(8, 7))\n",
    "    ax = fig.add_subplot(111)\n",
    "\n",
    "    H = np.histogram2d(truth, prediction, bins = [bins_Ey, bins_Ex], weights=tot_weight)\n",
    "    H1 = np.histogram(truth, bins = bins_Ex, weights=tot_weight)\n",
    "    H_plot = H[0]/H1[0][:, np.newaxis]\n",
    "    save_dict = dict()\n",
    "    save_dict['bins_true_E'] = bins_Ex\n",
    "    save_dict['bins_reco_E'] = bins_Ey\n",
    "    save_dict['bin_vals'] = H_plot\n",
    "    np.save('reco_energy.npy', save_dict)\n",
    "    print(np.max(H_plot))\n",
    "    cbar = ax.pcolormesh(bins_Ey, bins_Ex, H_plot.T, cmap=ts_cmap, norm=mpl.colors.LogNorm(vmin=1e-5, vmax=0.5))\n",
    "    plt.colorbar(cbar, label=r'$P(E_{reco} | E_{\\mu})$')\n",
    "    ax.plot([1,8], [1,8], linestyle='-', color = 'k')\n",
    "    ax.plot(bins_Ex[:-1], quantiles_dnn[0.05], color='white',lw=1.5, ls='--')\n",
    "    ax.plot(bins_Ex[:-1], quantiles_dnn[0.5], color='white', lw=1.5)\n",
    "    ax.plot(bins_Ex[:-1], quantiles_dnn[0.95], color='white', lw=1.5, ls='--')\n",
    "    \n",
    "    bins_Ex_greco = np.linspace(1.,3.5, 50)\n",
    "    bins_Ey_greco = np.linspace(1.,3.5, 50)\n",
    "#     energy_greco=np.load('reco_energy_greco.npy',allow_pickle=True)\n",
    "#     cbar2 = ax.pcolormesh(bins_Ey_greco, bins_Ex_greco, (energy_greco.item()['bin_vals']).T,\n",
    "#                           cmap=ts_cmap, norm=mpl.colors.LogNorm(vmin=1e-5, vmax=0.5))\n",
    "#     plt.colorbar(cbar2)\n",
    "    \n",
    "    quantile_greco=np.load('quantile_dnn_greco.npy', allow_pickle=True)\n",
    "    ax.plot(bins_Ex_greco[:-1], quantile_greco.item()[0.05], color='black',lw=1.5, ls='--')\n",
    "    ax.plot(bins_Ex_greco[:-1], quantile_greco.item()[0.5], color='black', lw=1.5)\n",
    "    ax.plot(bins_Ex_greco[:-1], quantile_greco.item()[0.95], color='black', lw=1.5, ls='--')\n",
    "    \n",
    "    ax.set_ylim(1.,8)\n",
    "    ax.set_xlim(1.,8)\n",
    "    ax.set_xlabel(r'$\\log_{10}(E_{\\mu}/GeV)$')\n",
    "    ax.set_ylabel(r'$\\log_{10}(E_{reco}/GeV)$')\n",
    "    plt.grid(True)\n",
    "    fig.savefig(savepath, dpi=300, bbox_inches='tight')\n",
    "    fig.show()"
   ]
  },
  {
   "cell_type": "code",
   "execution_count": null,
   "id": "e7c43779",
   "metadata": {},
   "outputs": [],
   "source": [
    "energy.item()"
   ]
  },
  {
   "cell_type": "code",
   "execution_count": null,
   "id": "a39607ba",
   "metadata": {},
   "outputs": [],
   "source": [
    "truth = np.log10(x['true_energy'])\n",
    "prediction = x['log_energy']\n",
    "\n",
    "make_energy_2d_plot(prediction, truth, tot_weight, bins_Ex, bins_Ey, 'dnn.png')"
   ]
  },
  {
   "cell_type": "code",
   "execution_count": null,
   "id": "eaecb71e",
   "metadata": {},
   "outputs": [],
   "source": [
    "events_list = [data.mc for data in ana_trad.data_list]\n",
    "ana_trad.initialize_trial(events_list)"
   ]
  },
  {
   "cell_type": "code",
   "execution_count": null,
   "id": "8fe1808c",
   "metadata": {},
   "outputs": [],
   "source": [
    "rss = RandomStateService(seed=1)"
   ]
  },
  {
   "cell_type": "code",
   "execution_count": null,
   "id": "f371fd15",
   "metadata": {},
   "outputs": [],
   "source": [
    "(log_lambda_max, fitparam_values, status) = ana_trad.llhratio.maximize(rss)"
   ]
  },
  {
   "cell_type": "code",
   "execution_count": null,
   "id": "0feb134f",
   "metadata": {},
   "outputs": [],
   "source": [
    "print(f'log_lambda_max = {log_lambda_max}')\n",
    "print(f'fitparam_values = {fitparam_values}')\n",
    "print(f'status = {status}')"
   ]
  },
  {
   "cell_type": "code",
   "execution_count": null,
   "id": "fcd4cfda",
   "metadata": {},
   "outputs": [],
   "source": [
    "TS = ana_trad.calculate_test_statistic(log_lambda_max, fitparam_values)\n",
    "print(f'TS = {TS:.3f}')"
   ]
  },
  {
   "cell_type": "code",
   "execution_count": null,
   "id": "024cbcf6",
   "metadata": {},
   "outputs": [],
   "source": [
    "(ts, x, status) = ana_kde.unblind(rss=rss)\n",
    "print(f'TS = {ts:.3f}')\n",
    "print(f'ns = {x[\"ns\"]:.2f}')\n",
    "print(f'gamma = {x[\"gamma\"]:.2f}')"
   ]
  },
  {
   "cell_type": "code",
   "execution_count": null,
   "id": "9cf88f2c",
   "metadata": {},
   "outputs": [],
   "source": [
    "scaling_factor = ana_kde.calculate_fluxmodel_scaling_factors(x['ns'], [x['ns'], x['gamma']])\n",
    "print(f'Flux scaling factor = {scaling_factor[0]:.3e}')\n",
    "print(f'{scaling_factor[0]:.3e}'' (E/1000 GeV)^{-'f'{x[\"gamma\"]:.2f}'+'} 1/(GeV s cm^2 sr)')"
   ]
  },
  {
   "cell_type": "code",
   "execution_count": null,
   "id": "216471fe",
   "metadata": {},
   "outputs": [],
   "source": [
    "(llhratio_value, (grad_ns, grad_gamma)) = ana_kde.llhratio.evaluate([14.62, 2.59])\n",
    "print(f'llhratio_value = {llhratio_value:.3f}')\n",
    "print(f'grad_ns = {grad_ns:.3f}')\n",
    "print(f'grad_gamma = {grad_gamma:.3f}')"
   ]
  },
  {
   "cell_type": "code",
   "execution_count": null,
   "id": "f728f93e",
   "metadata": {},
   "outputs": [],
   "source": [
    "ana_kde.sig_generator.mu2flux(14.62)"
   ]
  },
  {
   "cell_type": "code",
   "execution_count": null,
   "id": "f79f81f0",
   "metadata": {},
   "outputs": [],
   "source": [
    "from tqdm import tqdm"
   ]
  },
  {
   "cell_type": "code",
   "execution_count": null,
   "id": "0f8fcabf",
   "metadata": {},
   "outputs": [],
   "source": [
    "(ns_min, ns_max, ns_step) = (0, 80, 0.5)\n",
    "(gamma_min, gamma_max, gamma_step) = (1.5, 4.0, 0.1)\n",
    "\n",
    "ns_edges = np.linspace(ns_min, ns_max, int((ns_max-ns_min)/ns_step)+1)\n",
    "ns_vals = 0.5*(ns_edges[1:] + ns_edges[:-1])\n",
    "\n",
    "gamma_edges = np.linspace(gamma_min, gamma_max, int((gamma_max-gamma_min)/gamma_step+1))\n",
    "gamma_vals = 0.5*(gamma_edges[1:] + gamma_edges[:-1])\n",
    "\n",
    "delta_ts = np.empty((len(ns_vals), len(gamma_vals)), dtype=np.double)\n",
    "for (ns_i, ns) in tqdm(enumerate(ns_vals)):\n",
    "    for (gamma_i, gamma) in enumerate(gamma_vals):\n",
    "\n",
    "        delta_ts[ns_i, gamma_i] = (\n",
    "            ana_kde.calculate_test_statistic(llhratio_value, [14.58, 2.17]) -\n",
    "            ana_kde.calculate_test_statistic(ana_kde.llhratio.evaluate([ns, gamma])[0], [ns, gamma])\n",
    "        )\n",
    "\n",
    "# Determine the best fit ns and gamma values from the scan.\n",
    "index_max = np.argmin(delta_ts)\n",
    "ns_i_max = int(index_max / len(gamma_vals))\n",
    "gamma_i_max = index_max % len(gamma_vals)\n",
    "ns_best = ns_vals[ns_i_max]\n",
    "gamma_best = gamma_vals[gamma_i_max]"
   ]
  },
  {
   "cell_type": "code",
   "execution_count": null,
   "id": "1e3c19f5",
   "metadata": {},
   "outputs": [],
   "source": [
    "# Determine the delta lambda value for the 95% quantile assuming a chi-sqaure\n",
    "# distribution with 2 degrees of freedom (i.e. assuming Wilks theorem).\n",
    "chi2_68_quantile = scipy.stats.chi2.ppf(0.68, df=2)\n",
    "chi2_90_quantile = scipy.stats.chi2.ppf(0.90, df=2)\n",
    "chi2_95_quantile = scipy.stats.chi2.ppf(0.95, df=2)"
   ]
  },
  {
   "cell_type": "code",
   "execution_count": null,
   "id": "d9506011",
   "metadata": {},
   "outputs": [],
   "source": [
    "from matplotlib.colors import LogNorm\n",
    "plt.figure(figsize=(8,6))\n",
    "plt.pcolormesh(gamma_edges, ns_edges, delta_ts, cmap='nipy_spectral')\n",
    "cbar = plt.colorbar()\n",
    "cbar.set_label(r'$\\Delta$TS')\n",
    "plt.contour(gamma_vals, ns_vals, delta_ts, [chi2_68_quantile], colors='#FFFFFF')\n",
    "plt.contour(gamma_vals, ns_vals, delta_ts, [chi2_90_quantile], colors='#AAAAAA')\n",
    "plt.contour(gamma_vals, ns_vals, delta_ts, [chi2_95_quantile], colors='#444444')\n",
    "plt.plot(gamma_best, ns_best, marker='x', color='white', ms=10)\n",
    "plt.xlabel(r'$\\gamma$')\n",
    "plt.ylabel(r'$n_{\\mathrm{s}}$')\n",
    "plt.ylim(ns_min, ns_max)\n",
    "plt.xlim(gamma_min, gamma_max)"
   ]
  },
  {
   "cell_type": "markdown",
   "id": "001fd739",
   "metadata": {},
   "source": [
    "## Some utility functions"
   ]
  },
  {
   "cell_type": "code",
   "execution_count": null,
   "id": "487df6bf",
   "metadata": {},
   "outputs": [],
   "source": [
    "from skyllh.core.utils.analysis import (estimate_sensitivity,\n",
    "    estimate_discovery_potential,\n",
    "    create_trial_data_file,\n",
    "    estimate_sen_dep_from_trials\n",
    ")"
   ]
  },
  {
   "cell_type": "code",
   "execution_count": null,
   "id": "5c2b8819",
   "metadata": {},
   "outputs": [],
   "source": [
    "help(create_trial_data_file)"
   ]
  },
  {
   "cell_type": "code",
   "execution_count": null,
   "id": "28b9f962",
   "metadata": {},
   "outputs": [],
   "source": [
    "help(estimate_sensitivity)"
   ]
  },
  {
   "cell_type": "code",
   "execution_count": null,
   "id": "7e8d3a83",
   "metadata": {},
   "outputs": [],
   "source": [
    "sensitivity_results=estimate_sensitivity(ana_trad,rss,mu_range=(10,20),pathfilename='/home/liruohan/cluster_run/dm_test_sensitivity_1src_800GeV.npy')"
   ]
  },
  {
   "cell_type": "code",
   "execution_count": null,
   "id": "7cd91116",
   "metadata": {},
   "outputs": [],
   "source": [
    "print(sensitivity_results)"
   ]
  },
  {
   "cell_type": "code",
   "execution_count": null,
   "id": "35e2aa20",
   "metadata": {},
   "outputs": [],
   "source": [
    "with open('/home/liruohan/single_source/sensitivity_results.txt', 'a+') as f:\n",
    "    f.write(source_name +\" DM 800GeV:\"+str(sensitivity_results)+\"\\n\")\n",
    "    f.close()"
   ]
  },
  {
   "cell_type": "code",
   "execution_count": null,
   "id": "a0f604d8",
   "metadata": {
    "scrolled": true
   },
   "outputs": [],
   "source": [
    "n_trials = 2500\n",
    "pathfilename = 'combined_trails.npy'\n",
    "_ = create_trial_data_file(ana_kde, rss, n_trials, mean_n_sig=0, mean_n_sig_null=0, pathfilename=pathfilename)"
   ]
  },
  {
   "cell_type": "code",
   "execution_count": null,
   "id": "df01d2d3",
   "metadata": {},
   "outputs": [],
   "source": [
    "trials = np.load(pathfilename)\n",
    "print(trials)\n",
    "print(trials.dtype)"
   ]
  },
  {
   "cell_type": "markdown",
   "id": "65fc795c",
   "metadata": {},
   "source": [
    "## Pseudo data example"
   ]
  },
  {
   "cell_type": "code",
   "execution_count": null,
   "id": "1253597e",
   "metadata": {},
   "outputs": [],
   "source": [
    "# Generate background events.\n",
    "(bg_n_events_list, bg_events_list) = ana_kde.generate_background_events(\n",
    "    rss=rss,\n",
    ")\n",
    "\n",
    "# Generate signal events.\n",
    "(n_sig, sig_n_events_list, sig_events_list) = ana_kde.generate_signal_events(\n",
    "    rss=rss,\n",
    "    mean_n_sig=10\n",
    ")"
   ]
  },
  {
   "cell_type": "code",
   "execution_count": null,
   "id": "452389a7",
   "metadata": {},
   "outputs": [],
   "source": [
    "print(sig_events_list[0])"
   ]
  },
  {
   "cell_type": "code",
   "execution_count": null,
   "id": "685953cb",
   "metadata": {},
   "outputs": [],
   "source": [
    "delta_angle = 3.0\n",
    "\n",
    "plt.figure(figsize=(8, 8))\n",
    "\n",
    "# Scatter background and signal events.\n",
    "plt.scatter(np.rad2deg(bg_events_list[0]['ra']), np.rad2deg(bg_events_list[0]['dec']), label='bg', alpha=0.3, edgecolors='none')\n",
    "plt.scatter(np.rad2deg(sig_events_list[0]['ra']), np.rad2deg(sig_events_list[0]['dec']), label='sig')\n",
    "plt.scatter(np.rad2deg(new_source.ra), np.rad2deg(new_source.dec), marker='*', label='source', s=150)\n",
    "\n",
    "plt.xlabel('ra, deg')\n",
    "plt.ylabel('dec, deg')\n",
    "plt.xlim(np.rad2deg(new_source.ra) - delta_angle, np.rad2deg(new_source.ra) + delta_angle)\n",
    "plt.ylim(np.rad2deg(new_source.dec) - delta_angle, np.rad2deg(new_source.dec) + delta_angle)\n",
    "plt.legend()"
   ]
  }
 ],
 "metadata": {
  "kernelspec": {
   "display_name": "Python 3 cvmfs",
   "language": "python",
   "name": "python37"
  },
  "language_info": {
   "codemirror_mode": {
    "name": "ipython",
    "version": 3
   },
   "file_extension": ".py",
   "mimetype": "text/x-python",
   "name": "python",
   "nbconvert_exporter": "python",
   "pygments_lexer": "ipython3",
   "version": "3.7.5"
  }
 },
 "nbformat": 4,
 "nbformat_minor": 5
}
