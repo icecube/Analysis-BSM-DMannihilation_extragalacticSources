{
 "cells": [
  {
   "cell_type": "markdown",
   "id": "06323e87",
   "metadata": {},
   "source": [
    "# Time-integrated point source search analysis example"
   ]
  },
  {
   "cell_type": "code",
   "execution_count": null,
   "id": "9918333b",
   "metadata": {},
   "outputs": [],
   "source": [
    "#import os\n",
    "#os.getcwd()"
   ]
  },
  {
   "cell_type": "markdown",
   "id": "6619a6d7",
   "metadata": {},
   "source": [
    "## Software setup"
   ]
  },
  {
   "cell_type": "code",
   "execution_count": null,
   "id": "cffb8bf2",
   "metadata": {},
   "outputs": [],
   "source": [
    "import sys\n",
    "import glob\n",
    "import os\n",
    "\n",
    "# Add skyllh and i3skyllh projects to the PYTHONPATH\n",
    "sys.path.insert(0, '/data/user/liruohan/software/skyllh')\n",
    "sys.path.insert(0, '/data/user/liruohan/software/i3skyllh')\n",
    "#sys.path.insert(0, '/home/liruohan/.local/lib/python3.7/site-packages')\n",
    "#sys.path.insert(0, '/home/cbellenghi/.pyenv/versions/3.8.1/lib/python3.8/site-packages')\n",
    "\n",
    "# Add missing python packages from cvmfs\n",
    "#sys.path.insert(0, '/cvmfs/icecube.opensciencegrid.org/py3-v4.1.1/RHEL_7_x86_64/lib/python3.7/site-packages')\n",
    "extra_path = \"/cvmfs/icecube.opensciencegrid.org/users/tkontrimas/software/pip/python3.11/site-packages\" # whatever individual directory it is\n",
    "if extra_path not in sys.path:\n",
    "    sys.path.append(extra_path)"
   ]
  },
  {
   "cell_type": "markdown",
   "id": "2a191ec4",
   "metadata": {},
   "source": [
    "## Create `datasets` object"
   ]
  },
  {
   "cell_type": "code",
   "execution_count": null,
   "id": "73c9638f",
   "metadata": {},
   "outputs": [],
   "source": [
    "import numpy as np\n",
    "import matplotlib.pyplot as plt\n",
    "import pandas as pd\n",
    "from tqdm import tqdm\n",
    "\n",
    "from skyllh.core.config import Config\n",
    "from skyllh.core.random import RandomStateService\n",
    "from skyllh.core.timing import TimeLord\n",
    "from skyllh.core.source_model import PointLikeSource\n",
    "\n",
    "# Pre-defined datasets\n",
    "from i3skyllh.datasets import data_samples\n",
    "\n",
    "#Pre-defined analysis\n",
    "from i3skyllh.analyses.trad_single_ps import analysis as trad_single_analysis #powerlaw catalog\n",
    "from i3skyllh.analyses.trad_stacked_ps import analysis as trad_stacking_analysis #powerlaw stacking\n",
    "from i3skyllh.analyses.trad_single_ps import analysis_dm as trad_single_analysis_dm #dm catalog\n",
    "from i3skyllh.analyses.trad_stacked_ps import analysis_dm as trad_stacking_analysis_dm #dm stacking\n",
    "\n",
    "# import matplotlib as mpl\n",
    "\n",
    "# mpl.rcParams['figure.figsize'] = (6,4)\n",
    "# mpl.rcParams['figure.dpi'] = 300"
   ]
  },
  {
   "cell_type": "code",
   "execution_count": null,
   "id": "51c051c9",
   "metadata": {},
   "outputs": [],
   "source": [
    "# Update global settings to use 2 cpu cores\n",
    "#Config['multiproc']['ncpu'] = 2\n",
    "cfg=Config()\n",
    "cfg.set_ncpu(2)\n",
    "\n",
    "from skyllh.core.datafields import (\n",
    "    DataFieldStages as DFS,\n",
    ")\n",
    "# use no MC\n",
    "# cfg['datafields']['astro'] = DFS.ANALYSIS_MC\n",
    "# cfg['datafields']['conv'] = DFS.ANALYSIS_MC"
   ]
  },
  {
   "cell_type": "code",
   "execution_count": null,
   "id": "cf712a3f",
   "metadata": {},
   "outputs": [],
   "source": [
    "# Specify base path for datasets\n",
    "data_base_path = '/data/ana/analyses'\n",
    "\n",
    "# Load specific dataset collection\n",
    "dsc = data_samples['OscNext_v002p04'].create_dataset_collection(\n",
    "            base_path=data_base_path,cfg=cfg) #or NorthernTracks_v005p01 or OscNext_v002p04\n",
    "\n",
    "# Pick a dataset or create a list of datasets from the dataset collection\n",
    "datasets = dsc.get_datasets('IC86_2011_2021')"
   ]
  },
  {
   "cell_type": "code",
   "execution_count": null,
   "id": "01a8a2e3",
   "metadata": {},
   "outputs": [],
   "source": [
    "from skyllh.core.minimizers.iminuit import IMinuitMinimizerImpl"
   ]
  },
  {
   "cell_type": "code",
   "execution_count": null,
   "id": "96e8e0f0",
   "metadata": {},
   "outputs": [],
   "source": [
    "# Define some common analysis parameters\n",
    "#refplflux_gamma = 0.5\n",
    "minimizer_impl = IMinuitMinimizerImpl(cfg=cfg)\n",
    "#minimizer_impl = None\n",
    "#optimize_delta_angle = 10.0\n",
    "rss_seed = 1\n",
    "rss = RandomStateService(rss_seed)"
   ]
  },
  {
   "cell_type": "code",
   "execution_count": null,
   "id": "8e5d1743-56ff-4d56-8ff9-485e36b443e2",
   "metadata": {},
   "outputs": [],
   "source": [
    "#if you want to test single source, use this cell\n",
    "#single_src= most_significant_src['NGC4258']\n",
    "source = PointLikeSource(ra=np.deg2rad(40.75),dec=np.deg2rad(-0.05))"
   ]
  },
  {
   "cell_type": "code",
   "execution_count": null,
   "id": "452f23d3",
   "metadata": {},
   "outputs": [],
   "source": [
    "# # apply source selection power law\n",
    "# df_srcs = pd.read_pickle('/data/user/liruohan/powerlaw_stacking/sources.pkl')\n",
    "# idx = df_srcs.index\n",
    "# sources = []\n",
    "\n",
    "# for i, (idx, row) in enumerate(df_srcs.iterrows()):\n",
    "#     # Create external seyfert flux object + splinetable.\n",
    "#     src_name = df_srcs.index.values\n",
    "#     #print(src_name)\n",
    "#     ra_arr = df_srcs['ra'].values\n",
    "#     dec_arr = df_srcs['dec'].values\n",
    "#     weight_arr = df_srcs['weight'].values\n",
    "#     #print(\"source coords (ra,dec):\", ra_arr, dec_arr,weight_arr)\n",
    "\n",
    "#     # Generate skyllh inputs.\n",
    "#     sources=[PointLikeSource(ra=src_ra, dec=src_dec, weight=src_weight)\n",
    "#            for (src_ra, src_dec, src_weight) in zip(np.deg2rad(ra_arr), np.deg2rad(dec_arr), weight_arr)]\n",
    "#     #print(sources)"
   ]
  },
  {
   "cell_type": "code",
   "execution_count": null,
   "id": "5fff8c79-a28e-4d77-ae77-dbfce920f7c6",
   "metadata": {},
   "outputs": [],
   "source": [
    "# apply source selection dark matter \n",
    "df_srcs = pd.read_pickle('/data/user/liruohan/dm_model_stacking/sources.pkl')\n",
    "idx = df_srcs.index\n",
    "sources = []\n",
    "\n",
    "for i, (idx, row) in enumerate(df_srcs.iterrows()):\n",
    "    # Create external seyfert flux object + splinetable.\n",
    "    src_name = df_srcs.index.values\n",
    "    #print(src_name)\n",
    "    ra_arr = df_srcs['ra'].values\n",
    "    dec_arr = df_srcs['dec'].values\n",
    "    weight_arr = df_srcs['weight'].values\n",
    "    #print(\"source coords (ra,dec):\", ra_arr, dec_arr,weight_arr)\n",
    "\n",
    "    # Generate skyllh inputs.\n",
    "    sources=[PointLikeSource(ra=src_ra, dec=src_dec, weight=src_weight)\n",
    "           for (src_ra, src_dec, src_weight) in zip(np.deg2rad(ra_arr), np.deg2rad(dec_arr), weight_arr)]\n",
    "    #print(sources)"
   ]
  },
  {
   "cell_type": "markdown",
   "id": "69b52114-6c87-4790-8cd5-c5bb640ae1f1",
   "metadata": {},
   "source": [
    "## following 4 cells are 4 analysis objects example ##"
   ]
  },
  {
   "cell_type": "code",
   "execution_count": null,
   "id": "71f58cb1",
   "metadata": {},
   "outputs": [],
   "source": [
    "# #%%scalene\n",
    "# ana_trad_stacked_pl = trad_stacking_analysis.create_analysis(\n",
    "#     cfg=cfg,\n",
    "#     datasets=datasets,\n",
    "#     sources=sources,\n",
    "# #    bkg_event_rate_field_names=['astro', 'conv'],\n",
    "#     compress_data=True,\n",
    "#     refplflux_E0=1e3,    \n",
    "#     optimize_delta_angle_deg=10,\n",
    "#     energy_range=(30,200),\n",
    "#     ns_seed=100,\n",
    "#     ns_max=1e4,\n",
    "#     gamma_seed=2.5,\n",
    "#     gamma_min=2.0,\n",
    "#     gamma_max=4.0,\n",
    "#     fit_gamma=True,\n",
    "#     minimizer_impl=minimizer_impl\n",
    "# )"
   ]
  },
  {
   "cell_type": "code",
   "execution_count": null,
   "id": "8cb99096-7879-46dd-a3c7-1d59cb2cb2f6",
   "metadata": {},
   "outputs": [],
   "source": [
    "# %%scalene\n",
    "# ana_trad_single_pl = trad_single_analysis.create_analysis(\n",
    "#     cfg=cfg,\n",
    "#     datasets=datasets,\n",
    "#     source=source,\n",
    "#     compress_data=True,\n",
    "#     optimize_delta_angle_deg=10,\n",
    "#     ns_seed=100,\n",
    "#     ns_max=1e4,\n",
    "#     minimizer_impl=minimizer_impl\n",
    "# )"
   ]
  },
  {
   "cell_type": "code",
   "execution_count": null,
   "id": "42c373e9",
   "metadata": {},
   "outputs": [],
   "source": [
    "#%%scalene\n",
    "# ana_single_dm = trad_single_analysis_dm.create_analysis(\n",
    "#     cfg=cfg,\n",
    "#     datasets=datasets,\n",
    "#     source=source,\n",
    "#     channel='WW',\n",
    "#     mass=10000,\n",
    "#     compress_data=True,\n",
    "#     optimize_delta_angle_deg=10,\n",
    "#     ns_seed=100,\n",
    "#     ns_max=1e4,\n",
    "#     minimizer_impl=minimizer_impl\n",
    "# )"
   ]
  },
  {
   "cell_type": "code",
   "execution_count": null,
   "id": "652629fa",
   "metadata": {},
   "outputs": [],
   "source": [
    "#%%scalene\n",
    "ana_stacking_dm = trad_stacking_analysis_dm.create_analysis(\n",
    "    cfg=cfg,\n",
    "    datasets=datasets,\n",
    "    sources=sources,\n",
    "    channel='WW',\n",
    "    mass=10000,\n",
    "    refplflux_E0=1e4,    \n",
    "#    energy_range=(0,200),\n",
    "    compress_data=True,\n",
    "    optimize_delta_angle_deg=10,\n",
    "    ns_seed=100,\n",
    "    ns_max=1e4,\n",
    "    minimizer_impl=minimizer_impl\n",
    ")"
   ]
  },
  {
   "cell_type": "code",
   "execution_count": null,
   "id": "1c89ce88",
   "metadata": {},
   "outputs": [],
   "source": [
    "# this is how to convert event number to flux, with icecube default unit\n",
    "ana_stacking_dm.sig_generator.mu2flux(33.3) #[array([ 9.1, 15.4, 31.7])"
   ]
  },
  {
   "cell_type": "code",
   "execution_count": null,
   "id": "bd93d754-aebf-43c2-b41c-29ae8e5fba74",
   "metadata": {},
   "outputs": [],
   "source": [
    "break"
   ]
  },
  {
   "cell_type": "markdown",
   "id": "63955250",
   "metadata": {},
   "source": [
    "### you can play with fit and trials ###"
   ]
  },
  {
   "cell_type": "code",
   "execution_count": null,
   "id": "4dbfe590",
   "metadata": {
    "scrolled": true
   },
   "outputs": [],
   "source": [
    "# Generate signal trials, try recovery mu=10 injected events\n",
    "rss = RandomStateService(rss_seed)\n",
    "res_trad_sig = ana_stacking_dm.do_trials(rss, n=1, mean_n_sig=3000)\n",
    "res_trad_sig"
   ]
  },
  {
   "cell_type": "code",
   "execution_count": null,
   "id": "1a6c71a3",
   "metadata": {},
   "outputs": [],
   "source": [
    "ns_grid=np.linspace(0,4000,100)\n",
    "plt.plot(ns_grid, [ana_stacking_dm.llhratio.evaluate([ns, 4.0])[0] for ns in ns_grid]) #show fit at 10"
   ]
  },
  {
   "cell_type": "code",
   "execution_count": null,
   "id": "c333bc59-44bd-4218-a2a4-4717adacdff5",
   "metadata": {},
   "outputs": [],
   "source": [
    "#this cell only work for floating power law case, dm case has no best fit gamma\n",
    "(log_lambda_max, fitparam_values, status) = ana_stacking_dm.llhratio.maximize(rss)\n",
    "print(f'log_lambda_max = {log_lambda_max}')\n",
    "print(f'fitparam_values = {fitparam_values}')\n",
    "print(f'status = {status}')"
   ]
  },
  {
   "cell_type": "code",
   "execution_count": null,
   "id": "f827ea61-0f8b-49b4-b05e-da4186e194b4",
   "metadata": {},
   "outputs": [],
   "source": []
  }
 ],
 "metadata": {
  "kernelspec": {
   "display_name": "py3-v4.3.0: v1.9.1",
   "language": "shell",
   "name": "py3-v4.3.0_v1.9.1"
  },
  "language_info": {
   "codemirror_mode": {
    "name": "ipython",
    "version": 3
   },
   "file_extension": ".py",
   "mimetype": "text/x-python",
   "name": "python",
   "nbconvert_exporter": "python",
   "pygments_lexer": "ipython3",
   "version": "3.11.3"
  }
 },
 "nbformat": 4,
 "nbformat_minor": 5
}
