{
 "cells": [
  {
   "cell_type": "code",
   "execution_count": 1,
   "id": "82ff4d55",
   "metadata": {},
   "outputs": [],
   "source": [
    "import sys\n",
    "import os\n",
    "import numpy as np\n",
    "import pandas as pd\n",
    "from numpy.lib import recfunctions as rfn\n",
    "\n",
    "import math\n",
    "import tables\n",
    "import pickle as pkl\n",
    "\n",
    "\n",
    "import matplotlib as mpl\n",
    "#Graphical options\n",
    "import itertools\n",
    "import matplotlib.pyplot as plt\n",
    "from matplotlib import colors\n",
    "%matplotlib inline\n",
    "mpl.rc(\"savefig\", dpi=300)\n",
    "\n",
    "from icecube import dataio, dataclasses, astro\n",
    "import time\n",
    "import random\n",
    "\n",
    "sys.path.append(\"/data/user/liruohan/dataset/OscNext\")\n",
    "#import TimeConverter as TConverter\n",
    "import os.path"
   ]
  },
  {
   "cell_type": "code",
   "execution_count": null,
   "id": "20110806-7484-405d-9bea-0a9b3faf5c4a",
   "metadata": {},
   "outputs": [],
   "source": [
    "#check NT format\n",
    "NT_sim_file_path = '/data/ana/analyses/northern_tracks/version-005-p02/IC86_pass2_MC.npy'\n",
    "NT_sim_file = np.load(NT_sim_file_path)"
   ]
  },
  {
   "cell_type": "code",
   "execution_count": null,
   "id": "9e245600-9f2e-4d00-8043-0ee830fba402",
   "metadata": {},
   "outputs": [],
   "source": [
    "NT_sim_file"
   ]
  },
  {
   "cell_type": "code",
   "execution_count": null,
   "id": "14d4059d-f0d5-418b-a8fa-487731ec29e0",
   "metadata": {},
   "outputs": [],
   "source": [
    "NT_sim_file['run']"
   ]
  },
  {
   "cell_type": "code",
   "execution_count": null,
   "id": "6274026c-0b59-467e-8050-ae275100d372",
   "metadata": {},
   "outputs": [],
   "source": [
    "old_sim_file_path = '/data/user/niovine/projects/DarkMatter_OscNext/Samples/OscNext/L7/SimulationFiles/Reprocessed/OscNext_Level7_v02.00_140000_pass2_variables_NoCut.pkl'\n",
    "old_sim_file = np.load(old_sim_file_path, allow_pickle=True)"
   ]
  },
  {
   "cell_type": "code",
   "execution_count": null,
   "id": "c793cc7a-cbb4-4c0a-a2eb-3290a21bc662",
   "metadata": {},
   "outputs": [],
   "source": [
    "old_sim_file"
   ]
  },
  {
   "cell_type": "code",
   "execution_count": null,
   "id": "4d40aaf3-0c60-4ef0-bd6b-45f24ab14297",
   "metadata": {},
   "outputs": [],
   "source": [
    "np.sum(old_sim_file['140000']['L7OscNext_bool']),len(old_sim_file['140000']['L7OscNext_bool'])"
   ]
  },
  {
   "cell_type": "code",
   "execution_count": null,
   "id": "1fba7cf1-7590-4aa6-98a9-74641be2b21c",
   "metadata": {},
   "outputs": [],
   "source": [
    "plt.hist(np.rad2deg(old_sim_file['120000']['reco_TotalEnergy']),bins=np.linspace(0,500,50))\n",
    "plt.hist(np.rad2deg(old_sim_file['120000']['true_Energy']),bins=np.linspace(0,500,50))"
   ]
  },
  {
   "cell_type": "code",
   "execution_count": 2,
   "id": "0b616dae-bc10-4937-a7c6-a35de0c1c2e5",
   "metadata": {},
   "outputs": [],
   "source": [
    "sim_file_folder='/data/user/niovine/projects/DarkMatter_OscNext/Samples/OscNext/L7/SimulationFiles/Reprocessed/'\n",
    "pid_dict={'nu_e':'120000','nu_mu':'140000','nu_tau':'160000'}\n",
    "#pid_dict={'mu':'130000'}"
   ]
  },
  {
   "cell_type": "code",
   "execution_count": null,
   "id": "840e9b62-9eff-4e38-888f-e8df0b9655e7",
   "metadata": {},
   "outputs": [],
   "source": [
    "# minimal amount of exp data: run, ra, dec, ang_err, time, log energy\n",
    "# minimal amount of mc data: run, ra, dec, ang_err, time, log energy, true_ra, true_dec, true_energy, mcweight\n",
    "# datafields= {\n",
    "#         'run': ANALYSIS_EXP,\n",
    "#         'ra': ANALYSIS_EXP,\n",
    "#         'dec': ANALYSIS_EXP,\n",
    "#         'ang_err': ANALYSIS_EXP,\n",
    "#         'time': ANALYSIS_EXP,\n",
    "#         'log_energy': ANALYSIS_EXP,\n",
    "#         'true_ra': ANALYSIS_MC,\n",
    "#         'true_dec': ANALYSIS_MC,\n",
    "#         'true_energy': ANALYSIS_MC,\n",
    "#         'mcweight': ANALYSIS_MC,\n",
    "#     }"
   ]
  },
  {
   "cell_type": "code",
   "execution_count": null,
   "id": "cec7a609-0be8-4974-b61c-1a24acba1af1",
   "metadata": {},
   "outputs": [],
   "source": [
    "test_arr=np.array([1,2,3,4,5,6,7,8,9])\n",
    "test_mask = (test_arr>5)\n",
    "test_arr[test_mask]"
   ]
  },
  {
   "cell_type": "code",
   "execution_count": 4,
   "id": "5b4c6a30-534b-4a30-ba18-7b90cddd5752",
   "metadata": {},
   "outputs": [
    {
     "name": "stdout",
     "output_type": "stream",
     "text": [
      "120000\n",
      "1480682 1480682\n",
      "nu_edone\n",
      "140000\n",
      "3510004 3510004\n",
      "nu_mudone\n",
      "160000\n",
      "1597669 1597669\n",
      "nu_taudone\n"
     ]
    }
   ],
   "source": [
    "for name, pid in pid_dict.items():    \n",
    "    \n",
    "    OSC_sim_path=sim_file_folder+'OscNext_Level7_v02.00_{}_pass2_variables_NoCut.pkl'.format(pid)\n",
    "    OSC_sim = np.load(OSC_sim_path,'r', allow_pickle=True)\n",
    "    \n",
    "\n",
    "    dtype_ostnext=np.dtype([('ow', '<f8'), ('trueE', '<f8'), ('prompt', '<f8'), ('astro', '<f8'),\n",
    "                            ('zen', '<f8'), ('angErr', '<f8'), ('logE', '<f8'), ('dec', '<f8'),\n",
    "                            ('trueDec', '<f8'), ('trueRa', '<f8'), ('trueAzi', '<f8'), ('trueZen', '<f8'),\n",
    "                            ('ra', '<f8'), ('psi', '<f8'), ('run', '<i8'), ('event', '<i8'), ('subevent', '<i8'),\n",
    "                            ('time', '<f8'), ('azi', '<f8'), ('conv', '<f8')])\n",
    "    \n",
    "    #apply cut\n",
    "    #L4\n",
    "    noise_l4_mask = OSC_sim[pid]['L4noise_classifier'] > 0.95\n",
    "    #L5\n",
    "    hitdom_l5_mask = OSC_sim[pid]['L5nHit_DOMs'] > 2.5\n",
    "    #L7\n",
    "    #muon_mask\n",
    "    #muon_l7_mask = OSC_sim[pid]['L7muon_classifier_all'] > 0.4 #half_remain\n",
    "    muon_l7_mask = OSC_sim[pid]['L7muon_classifier_up'] > 0.4 #half_remain\n",
    "    #Coincident event cuts\n",
    "    ntop_l7_mask = OSC_sim[pid]['L7_ntop15'] > 2.5\n",
    "    nouter_l7_mask = OSC_sim[pid]['L7_nouter'] < 7.5\n",
    "    #Containment cuts\n",
    "    vertex_l7_mask1 = OSC_sim[pid]['L7reco_vertex_z']>-500\n",
    "    vertex_l7_mask2 = OSC_sim[pid]['L7reco_vertex_z']<-200\n",
    "    rho36_l7_mask = OSC_sim[pid]['L7reco_vertex_rho36'] < 300\t\n",
    "    #reconstructed vertex inside detector\n",
    "    recotime_l7_mask = OSC_sim[pid]['L7reco_time'] < 14500\n",
    "    #energy mask\n",
    "    energy_mask1 = ((OSC_sim[pid]['reco_TotalEnergy'])>5) #57000 remain\n",
    "    energy_mask2 = ((OSC_sim[pid]['reco_TotalEnergy'])<300)\n",
    "\n",
    "    #\n",
    "    combined_masks = ((OSC_sim[pid]['L7OscNext_bool']==1) & energy_mask1 & energy_mask2 )\n",
    "    # combined_masks = ( muon_l7_mask & hitdom_l5_mask & noise_l4_mask & ntop_l7_mask \n",
    "    #                   & vertex_l7_mask1 & vertex_l7_mask2 & nouter_l7_mask & rho36_l7_mask & recotime_l7_mask)\n",
    "\n",
    "    \n",
    "    \n",
    "    df_oscnext={}\n",
    "    print(pid)\n",
    "    # minimal amount of mc data: run, ra, dec, ang_err, time, log energy, true_ra, true_dec, true_energy, mcweight\n",
    "    df_oscnext['ow']=OSC_sim[pid]['OneWeight'][combined_masks]\n",
    "    df_oscnext['trueE']=OSC_sim[pid]['true_Energy'][combined_masks]\n",
    "    df_oscnext['angErr']= abs(OSC_sim[pid]['true_psi']-OSC_sim[pid]['reco_psi'])[combined_masks] #?\n",
    "    df_oscnext['logE']=np.log10(OSC_sim[pid]['reco_TotalEnergy'])[combined_masks]\n",
    "    df_oscnext['dec']=OSC_sim[pid]['reco_Dec'][combined_masks]\n",
    "    df_oscnext['trueDec']=OSC_sim[pid]['true_Dec'][combined_masks]\n",
    "    df_oscnext['trueRa']=OSC_sim[pid]['true_RA'][combined_masks]\n",
    "    df_oscnext['ra']=OSC_sim[pid]['reco_RA'][combined_masks]\n",
    "    df_oscnext['run']=OSC_sim[pid]['PID'][combined_masks]\n",
    "    df_oscnext['time']=OSC_sim[pid]['MJD_time'][combined_masks]\n",
    "    df_oscnext['trueAzi']=OSC_sim[pid]['true_Azimuth'][combined_masks]\n",
    "    df_oscnext['azi']=OSC_sim[pid]['reco_Azimuth'][combined_masks]\n",
    "    df_oscnext['trueZen']=OSC_sim[pid]['true_Zenith'][combined_masks]\n",
    "    df_oscnext['zen']=OSC_sim[pid]['reco_Zenith'][combined_masks]\n",
    "    df_oscnext['psi']=OSC_sim[pid]['reco_psi'][combined_masks]\n",
    "    df_oscnext['conv']=OSC_sim[pid]['AtmWeight'][combined_masks]\n",
    "    #trivial field\n",
    "    df_oscnext['prompt']=np.zeros(np.shape(OSC_sim[pid]['true_Energy']))[combined_masks]\n",
    "    df_oscnext['astro']=np.zeros(np.shape(OSC_sim[pid]['true_Energy']))[combined_masks]\n",
    "#    df_oscnext['zen']=np.zeros(np.shape(OSC_sim[pid]['true_Energy']))[combined_masks] #OSC_sim[pid]['true_Zenith']\n",
    "#    df_oscnext['trueAzi']=np.zeros(np.shape(OSC_sim[pid]['true_Energy']))[combined_masks]#OSC_sim[pid]['true_Azimuth']\n",
    "#    df_oscnext['trueZen']=np.zeros(np.shape(OSC_sim[pid]['true_Energy']))[combined_masks]#OSC_sim[pid]['true_Zenith']\n",
    "#    df_oscnext['psi']=np.zeros(np.shape(OSC_sim[pid]['true_Energy']))[combined_masks]#OSC_sim[pid]['reco_psi']\n",
    "    df_oscnext['event']=np.zeros(np.shape(OSC_sim[pid]['true_Energy']))[combined_masks]#OSC_sim[pid]['NEvents'][combined_masks] # ?\n",
    "    df_oscnext['subevent']=np.zeros(np.shape(OSC_sim[pid]['true_Energy']))[combined_masks]\n",
    "#    df_oscnext['azi']=np.zeros(np.shape(OSC_sim[pid]['true_Energy']))[combined_masks]#OSC_sim[pid]['reco_Azimuth']\n",
    "#    df_oscnext['conv']=np.zeros(np.shape(OSC_sim[pid]['true_Energy']))[combined_masks]#OSC_sim[pid]['AtmFlux_nue']+OSC_sim[pid]['AtmFlux_numu']\n",
    "\n",
    "    print(len(df_oscnext['ow']),len(df_oscnext['trueE']))\n",
    "    #file to save\n",
    "    save_file_name = \"/data/user/liruohan/dataset/OscNext/data/pass2_Level7_v02.04_{}.npy\".format(name)\n",
    "    temp_array=np.vstack((df_oscnext['ow'],df_oscnext['trueE'],df_oscnext['prompt'],df_oscnext['astro'],\n",
    "                          df_oscnext['zen'], df_oscnext['angErr'],df_oscnext['logE'],df_oscnext['dec'],\n",
    "                          df_oscnext['trueDec'], df_oscnext['trueRa'],df_oscnext['trueAzi'],df_oscnext['trueZen'],\n",
    "                          df_oscnext['ra'], df_oscnext['psi'],df_oscnext['run'],df_oscnext['event'],\n",
    "                          df_oscnext['subevent'],df_oscnext['time'],df_oscnext['azi'], df_oscnext['conv']))\n",
    "    temp_array_trans=np.transpose(temp_array)\n",
    "    temp_array_final=rfn.unstructured_to_structured(temp_array_trans, dtype_ostnext)\n",
    "    np.save(save_file_name,temp_array_final)\n",
    "    print(name+'done')"
   ]
  },
  {
   "cell_type": "code",
   "execution_count": null,
   "id": "d8962628-81aa-4331-abdc-ad45794af2ba",
   "metadata": {},
   "outputs": [],
   "source": []
  }
 ],
 "metadata": {
  "kernelspec": {
   "display_name": "py3-v4.3.0: icetray/v1.9.2",
   "language": "shell",
   "name": "py3-v4.3.0_v1.9.2"
  },
  "language_info": {
   "codemirror_mode": {
    "name": "ipython",
    "version": 3
   },
   "file_extension": ".py",
   "mimetype": "text/x-python",
   "name": "python",
   "nbconvert_exporter": "python",
   "pygments_lexer": "ipython3",
   "version": "3.11.3"
  }
 },
 "nbformat": 4,
 "nbformat_minor": 5
}
