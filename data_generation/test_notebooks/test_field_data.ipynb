{
 "cells": [
  {
   "cell_type": "code",
   "execution_count": 66,
   "id": "82ff4d55",
   "metadata": {},
   "outputs": [],
   "source": [
    "import sys\n",
    "import os\n",
    "import numpy as np\n",
    "import pandas as pd\n",
    "from numpy.lib import recfunctions as rfn\n",
    "\n",
    "import math\n",
    "import tables\n",
    "import pickle as pkl\n",
    "\n",
    "\n",
    "import matplotlib as mpl\n",
    "#Graphical options\n",
    "import itertools\n",
    "import matplotlib.pyplot as plt\n",
    "from matplotlib import colors\n",
    "%matplotlib inline\n",
    "mpl.rc(\"savefig\", dpi=300)\n",
    "\n",
    "#from icecube import dataio, dataclasses, astro\n",
    "import time\n",
    "import random\n",
    "\n",
    "sys.path.append(\"/data/user/liruohan/dataset/OscNext\")\n",
    "#import TimeConverter as TConverter\n",
    "import os.path"
   ]
  },
  {
   "cell_type": "code",
   "execution_count": 67,
   "id": "1649a541-4b45-402f-9b87-d3d0e1ed47fb",
   "metadata": {},
   "outputs": [],
   "source": [
    "#set parameters\n",
    "#years=[2012,2013,2014,2015,2016,2017,2018,2019,2020,2021] \n",
    "years=[11,12,13,14,15,16,17,18,19,20,21]"
   ]
  },
  {
   "cell_type": "code",
   "execution_count": 68,
   "id": "f040104c-8ee5-4667-8422-41ca8bceab21",
   "metadata": {},
   "outputs": [],
   "source": [
    "dtype_exp_data_ostnext=np.dtype([('angErr', '<f8'), ('logE', '<f8'), ('dec', '<f8'), ('ra', '<f8'),\n",
    "                             ('run', '<i8'), ('event', '<i8'), ('subevent', '<i8'), \n",
    "                             ('time', '<f8'), ('azi', '<f8'), ('zen', '<f8')])"
   ]
  },
  {
   "cell_type": "markdown",
   "id": "1dd06841-a40f-4334-be57-635efc9e2c15",
   "metadata": {},
   "source": [
    "### NTS ###"
   ]
  },
  {
   "cell_type": "code",
   "execution_count": 58,
   "id": "598f0503-25e1-4560-b074-9426be99e379",
   "metadata": {},
   "outputs": [],
   "source": [
    "#check NT format\n",
    "NT_data_file_path = '/data/ana/analyses/northern_tracks/version-005-p02/IC86_2012_exp.npy'\n",
    "NT_data_file = np.load(NT_data_file_path)"
   ]
  },
  {
   "cell_type": "code",
   "execution_count": 73,
   "id": "a454886e-cf58-4bfe-8847-bc40ac5ac765",
   "metadata": {},
   "outputs": [
    {
     "data": {
      "text/plain": [
       "(array([1.7670e+04, 2.3923e+04, 1.6388e+04, 6.8370e+03, 2.6220e+03,\n",
       "        7.9500e+02, 1.7600e+02, 2.9000e+01, 4.0000e+00, 2.0000e+00]),\n",
       " array([2.00002861, 2.38011584, 2.76020308, 3.14029031, 3.52037754,\n",
       "        3.90046477, 4.28055201, 4.66063924, 5.04072647, 5.4208137 ,\n",
       "        5.80090094]),\n",
       " <BarContainer object of 10 artists>)"
      ]
     },
     "execution_count": 73,
     "metadata": {},
     "output_type": "execute_result"
    },
    {
     "data": {
      "image/png": "[encoded data removed]",
      "text/plain": [
       "<Figure size 640x480 with 1 Axes>"
      ]
     },
     "metadata": {},
     "output_type": "display_data"
    }
   ],
   "source": [
    "plt.hist(NT_data_file['logE'])"
   ]
  },
  {
   "cell_type": "code",
   "execution_count": null,
   "id": "cb2a5dcc-c5ad-4c47-8b25-a8d06a9293ce",
   "metadata": {},
   "outputs": [],
   "source": [
    "len(NT_data_file['time'])"
   ]
  },
  {
   "cell_type": "markdown",
   "id": "203ab2ac-4aaa-47ae-aa7b-264b03c6fb54",
   "metadata": {},
   "source": [
    "### new test field ###"
   ]
  },
  {
   "cell_type": "code",
   "execution_count": null,
   "id": "26d8521d",
   "metadata": {},
   "outputs": [],
   "source": []
  },
  {
   "cell_type": "code",
   "execution_count": 94,
   "id": "e9e30ed8-0bfc-4915-9c89-540c4143f4b1",
   "metadata": {},
   "outputs": [],
   "source": [
    "new_data_file_path='pass2_Level7_v02.04_2014_.pkl'\n",
    "new_data_file = np.load(new_data_file_path, allow_pickle=True)"
   ]
  },
  {
   "cell_type": "code",
   "execution_count": 95,
   "id": "1f389b5a",
   "metadata": {},
   "outputs": [
    {
     "data": {
      "text/plain": [
       "dict_keys(['run', 'MJD_time', 'event', 'subevent', 'Accumulated_time', 'reco_TotalEnergy', 'angErr', 'logE', 'zen', 'azi', 'L4noise_classifier', 'L5nHit_DOMs', 'L7OscNext_bool', 'L7muon_classifier_all', 'L7muon_classifier_up', 'L7_ntop15', 'L7_nouter', 'L7reco_vertex_z', 'L7reco_vertex_rho36', 'L7reco_time'])"
      ]
     },
     "execution_count": 95,
     "metadata": {},
     "output_type": "execute_result"
    }
   ],
   "source": [
    "new_data_file.keys()"
   ]
  },
  {
   "cell_type": "code",
   "execution_count": 96,
   "id": "e94400fa",
   "metadata": {},
   "outputs": [
    {
     "data": {
      "image/png": "[encoded data removed]",
      "text/plain": [
       "<Figure size 640x480 with 1 Axes>"
      ]
     },
     "metadata": {},
     "output_type": "display_data"
    }
   ],
   "source": [
    "plt.hist(10**new_data_file['logE'],histtype='step',bins=np.linspace(0,1000,100),density=True)\n",
    "#plt.hist(new_data_file['reco_TotalEnergy'],histtype='step',bins=np.linspace(0,1000,100))\n",
    "plt.xscale('log')\n",
    "plt.yscale('log')"
   ]
  },
  {
   "cell_type": "code",
   "execution_count": 6,
   "id": "844047d1-37fe-44e7-ba2a-38517e377bff",
   "metadata": {},
   "outputs": [
    {
     "data": {
      "text/plain": [
       "(43727,\n",
       " dict_keys(['run', 'MJD_time', 'event', 'subevent', 'Accumulated_time', 'reco_TotalEnergy', 'angErr', 'logE', 'zen', 'azi', 'dec', 'ra', 'reco_psi', 'L4noise_classifier', 'L5nHit_DOMs', 'L7OscNext_bool', 'L7muon_classifier_all', 'L7muon_classifier_up', 'L7_ntop15', 'L7_nouter', 'L7reco_vertex_z', 'L7reco_vertex_rho36', 'L7reco_time']))"
      ]
     },
     "execution_count": 6,
     "metadata": {},
     "output_type": "execute_result"
    }
   ],
   "source": [
    "len(new_data_file['event']),new_data_file.keys()"
   ]
  },
  {
   "cell_type": "code",
   "execution_count": 48,
   "id": "51a2b726-62b9-4a2f-ba13-9549f9729d59",
   "metadata": {},
   "outputs": [
    {
     "data": {
      "text/plain": [
       "(array([1.4160775 , 0.89489624, 1.39753775, ..., 1.08203304, 0.62603037,\n",
       "        2.01880015]),\n",
       " array([ 26.0661869 ,   7.85048056,  24.9768548 , ...,  12.07905722,\n",
       "          4.2269817 , 104.42395782]))"
      ]
     },
     "execution_count": 48,
     "metadata": {},
     "output_type": "execute_result"
    }
   ],
   "source": [
    "new_data_file['logE'],new_data_file['reco_TotalEnergy']"
   ]
  },
  {
   "cell_type": "code",
   "execution_count": 49,
   "id": "95f3fb2f",
   "metadata": {},
   "outputs": [
    {
     "data": {
      "text/plain": [
       "(43727, 43690)"
      ]
     },
     "execution_count": 49,
     "metadata": {},
     "output_type": "execute_result"
    }
   ],
   "source": [
    "len(new_data_file['logE']),np.sum(new_data_file['logE']>0)"
   ]
  },
  {
   "cell_type": "code",
   "execution_count": 8,
   "id": "1cbc49d1-1644-4598-a514-56988165d693",
   "metadata": {},
   "outputs": [
    {
     "data": {
      "text/plain": [
       "(43673.0, 43727)"
      ]
     },
     "execution_count": 8,
     "metadata": {},
     "output_type": "execute_result"
    }
   ],
   "source": [
    "np.sum(new_data_file['L7OscNext_bool']),len(new_data_file['L7OscNext_bool'])"
   ]
  },
  {
   "cell_type": "code",
   "execution_count": 9,
   "id": "3dd87b73-c3f1-4f56-b925-6f8f2554818d",
   "metadata": {},
   "outputs": [
    {
     "data": {
      "text/plain": [
       "(51317, 53358)"
      ]
     },
     "execution_count": 9,
     "metadata": {},
     "output_type": "execute_result"
    }
   ],
   "source": [
    "np.sum(new_data_file['L4noise_classifier'] > 0.95),len(new_data_file['L4noise_classifier'] > 0.95)"
   ]
  },
  {
   "cell_type": "code",
   "execution_count": 11,
   "id": "9f4efeff-b271-424d-9917-1c2723bba213",
   "metadata": {},
   "outputs": [
    {
     "name": "stdout",
     "output_type": "stream",
     "text": [
      "11 26098869.89238267\n",
      "12 65862417.900567785\n",
      "13 107143245.1320875\n",
      "14 149644168.46794027\n",
      "15 193439158.4380176\n",
      "16 236786349.5955113\n",
      "17 285298635.97411907\n",
      "18 328412499.53802866\n",
      "19 375211903.87134886\n",
      "20 429670480.7035324\n",
      "21 465480006.32674456\n",
      "5387.500073226211\n"
     ]
    }
   ],
   "source": [
    "accum_time=0\n",
    "for yr in years:\n",
    "    pkl_file_path = 'pass2_Level7_v02.00_20{}.pkl'.format(str(yr))\n",
    "    oscnext_pkl=pd.read_pickle(pkl_file_path)\n",
    "    accum_time+=np.sum(oscnext_pkl['Accumulated_time'])\n",
    "    print(yr,accum_time)\n",
    "print(accum_time/86400)"
   ]
  },
  {
   "cell_type": "markdown",
   "id": "6b511dcd-c7ac-40db-9aa2-3529d1d92b8a",
   "metadata": {
    "jp-MarkdownHeadingCollapsed": true
   },
   "source": [
    "### old test field ###"
   ]
  },
  {
   "cell_type": "code",
   "execution_count": null,
   "id": "25077515",
   "metadata": {},
   "outputs": [],
   "source": [
    "old_data_file_path = '/data/user/tchau/DarkMatter_OscNext/Sample/Data/data_IC86.12_level7_v02.00_pass2_test.pkl'\n",
    "#old_data_file_path = '/data/user/niovine/projects/DarkMatter_OscNext/Samples/OscNext/L7/Data/OscNext_Level7_v02.00_Data_2012_pass2_variables_NoCut.pkl'\n",
    "old_data_file = np.load(old_data_file_path, allow_pickle=True)"
   ]
  },
  {
   "cell_type": "code",
   "execution_count": null,
   "id": "14d4059d-f0d5-418b-a8fa-487731ec29e0",
   "metadata": {},
   "outputs": [],
   "source": [
    "old_data_file.keys()"
   ]
  },
  {
   "cell_type": "code",
   "execution_count": null,
   "id": "c9e25388-efe4-425d-a45d-b7c5e2de39ac",
   "metadata": {},
   "outputs": [],
   "source": [
    "old_data_file['reco_TotalEnergy']"
   ]
  },
  {
   "cell_type": "code",
   "execution_count": null,
   "id": "ae4e98f2-5689-449d-a499-2b39b2b30206",
   "metadata": {},
   "outputs": [],
   "source": [
    "np.sum(old_data_file['L7_ntop15'] > 2.5),len(old_data_file['L7_ntop15'] > 2.5)"
   ]
  },
  {
   "cell_type": "markdown",
   "id": "1c0d79f7-804b-4e91-9161-42e534b984af",
   "metadata": {},
   "source": [
    "### loop ###"
   ]
  },
  {
   "cell_type": "code",
   "execution_count": 69,
   "id": "5402715b-ca0c-4499-98fa-edf8bb8240f8",
   "metadata": {},
   "outputs": [
    {
     "data": {
      "text/plain": [
       "array([7, 8, 9])"
      ]
     },
     "execution_count": 69,
     "metadata": {},
     "output_type": "execute_result"
    }
   ],
   "source": [
    "test_arr=np.asarray([1,2,3,4,5,6,7,8,9])\n",
    "test_mask_1=(test_arr>6)\n",
    "test_arr[test_mask_1] #True remain"
   ]
  },
  {
   "cell_type": "code",
   "execution_count": 70,
   "id": "53b221a8-b2cd-4173-b388-7a544b29532c",
   "metadata": {},
   "outputs": [],
   "source": [
    "applied_cut = {\"L7_nouter\": 7.5,\n",
    "               \"L7muon_classifier_up\": 0.4,\n",
    "               \"L7muon_classifier_all\": 0.4,\n",
    "               \"L4muon_classifier_all\": 0.4,\n",
    "               \"L4noise_classifier\": 0.95,\n",
    "               \"L7reco_vertex_z\": [-500.,-200.],\n",
    "               \"L7reco_vertex_rho36\": 300.,\n",
    "               \"L7_ntop15\": 2.5,\n",
    "               \"L7reco_time\": 14500.,\n",
    "               \"L5nHit_DOMs\": 2.5,\n",
    "               \"reco_Zenith\":0.3,\n",
    "             }\n",
    "cut_direction = {\"L7_nouter\": \"above\",\n",
    "                 \"L7muon_classifier_up\": \"below\",\n",
    "                 \"L7muon_classifier_all\": \"below\",\n",
    "                 \"L4muon_classifier_all\": \"below\",\n",
    "                 \"L4noise_classifier\": \"below\",\n",
    "                 \"L7reco_vertex_z\": [-500.,-200.],\n",
    "                 \"L7reco_vertex_rho36\": \"above\",\n",
    "                 \"L7_ntop15\": \"below\",\n",
    "                 \"L7reco_time\": \"above\",\n",
    "                 \"L5nHit_DOMs\": \"below\",\n",
    "                 \"reco_Zenith\": None,\n",
    "                }\n",
    "# loc = np.where((data_file[year][\"L7muon_classifier_up\"]>0.4) &\n",
    "#                (data_file[year][\"L4noise_classifier\"]>0.95) &\n",
    "#                (data_file[year][\"L7reco_vertex_z\"]>-500.) &\n",
    "#                (data_file[year][\"L7reco_vertex_z\"]<-200.) &\n",
    "#                (data_file[year][\"L7reco_vertex_rho36\"]<300.) &\n",
    "#                (data_file[year][\"L5nHit_DOMs\"]>2.5) &\n",
    "#                (data_file[year][\"L7_ntop15\"]<2.5) &\n",
    "#                (data_file[year][\"L7_nouter\"]<7.5) &\n",
    "#                (data_file[year][\"L7reco_time\"]<14500.))"
   ]
  },
  {
   "cell_type": "code",
   "execution_count": 71,
   "id": "346c936a",
   "metadata": {},
   "outputs": [],
   "source": [
    "dtype_exp_data_ostnext=np.dtype([('angErr', '<f8'), ('logE', '<f8'), ('dec', '<f8'), ('ra', '<f8'),\n",
    "                             ('run', '<i8'), ('event', '<i8'), ('subevent', '<i8'), \n",
    "                             ('time', '<f8'), ('azi', '<f8'), ('zen', '<f8')])"
   ]
  },
  {
   "cell_type": "code",
   "execution_count": 72,
   "id": "033cabf1-051a-4a63-99d5-77c933ba60de",
   "metadata": {},
   "outputs": [
    {
     "name": "stdout",
     "output_type": "stream",
     "text": [
      "21551\n",
      "done: 11\n",
      "33093\n",
      "done: 12\n",
      "34057\n",
      "done: 13\n",
      "36218\n",
      "done: 14\n",
      "36490\n",
      "done: 15\n",
      "36034\n",
      "done: 16\n",
      "41076\n",
      "done: 17\n",
      "37071\n",
      "done: 18\n",
      "31324\n",
      "done: 19\n",
      "36684\n",
      "done: 20\n",
      "24141\n",
      "done: 21\n"
     ]
    }
   ],
   "source": [
    "#start loop\n",
    "for yr in years:\n",
    "    #directory = '/data/user/tchau/DarkMatter_OscNext/Sample/Data/'\n",
    "    pkl_file_path = 'pass2_Level7_v02.00_20{}.pkl'.format(str(yr))\n",
    "    oscnext_pkl=pd.read_pickle(pkl_file_path)\n",
    "    oscnext_pkl_file= oscnext_pkl\n",
    "\n",
    "\n",
    "    #apply cut\n",
    "    #L4\n",
    "    noise_l4_mask = oscnext_pkl_file['L4noise_classifier'] > 0.95 #length inconsist problem\n",
    "    #L5\n",
    "    hitdom_l5_mask = oscnext_pkl_file['L5nHit_DOMs'] > 2.5\n",
    "    #L7\n",
    "    #muon_mask\n",
    "    #muon_l7_mask1 = oscnext_pkl_file['L7muon_classifier_all'] > 0.4 #half_remain\n",
    "    muon_l7_mask = oscnext_pkl_file['L7muon_classifier_up'] > 0.4 #half_remain\n",
    "    #Coincident event cuts\n",
    "    ntop_l7_mask = oscnext_pkl_file['L7_ntop15'] < 2.5 #too few\n",
    "    nouter_l7_mask = oscnext_pkl_file['L7_nouter'] < 7.5\n",
    "    #Containment cuts\n",
    "    vertex_l7_mask1 = oscnext_pkl_file['L7reco_vertex_z']>-500\n",
    "    vertex_l7_mask2 = oscnext_pkl_file['L7reco_vertex_z']<-200\n",
    "    rho36_l7_mask = oscnext_pkl_file['L7reco_vertex_rho36'] < 300\n",
    "    #reconstructed vertex inside detector\n",
    "    recotime_l7_mask = oscnext_pkl_file['L7reco_time'] < 14500\n",
    "    #energy mask\n",
    "    energy_mask1 = ((oscnext_pkl_file['reco_TotalEnergy'])>5) #57000 remain\n",
    "    energy_mask2 = ((oscnext_pkl_file['logE'])>0)\n",
    "    combined_masks =  (energy_mask1 & energy_mask2 & muon_l7_mask & hitdom_l5_mask & ntop_l7_mask \n",
    "                      & vertex_l7_mask1 & vertex_l7_mask2 & nouter_l7_mask & rho36_l7_mask & recotime_l7_mask)\n",
    "\n",
    "    #reco_zenith=oscnext_pkl_file['zen']\n",
    "    #reco_azimuth=oscnext_pkl_file['azi']\n",
    "    #time_mjd=oscnext_pkl_file['MJD_time']\n",
    "    #Reco\n",
    "    #reco_ra, reco_dec = astro.dir_to_equa(reco_zenith, reco_azimuth, time_mjd)\n",
    "    #Scramble in RA\n",
    "    #reco_ra = (2*math.pi)*np.random.rand(len(reco_dec))\n",
    "    #reco_psi = astro.angular_distance(reco_ra, reco_dec, np.radians(266.4167), np.radians(-29.0078))\n",
    "    \n",
    "    # minimal amount of exp data: run, ra, dec, ang_err, time, log energy\n",
    "    exp_data={}\n",
    "    exp_data['angErr'] = oscnext_pkl_file['angErr'][combined_masks]\n",
    "    exp_data['logE']= oscnext_pkl_file['logE'][combined_masks]\n",
    "    exp_data['dec'] = oscnext_pkl_file['ra'][combined_masks] #ra dec invert because original files were wrong!\n",
    "    exp_data['ra'] = oscnext_pkl_file['dec'][combined_masks]\n",
    "    exp_data['run'] = oscnext_pkl_file['run'][combined_masks]\n",
    "    exp_data['time'] = oscnext_pkl_file['MJD_time'][combined_masks]\n",
    "    #trivial field\n",
    "    #exp_data['event'] = np.zeros(np.shape(oscnext_pkl_file['event']))[combined_masks]\n",
    "    exp_data['event'] = oscnext_pkl_file['event'][combined_masks]\n",
    "    exp_data['subevent'] = oscnext_pkl_file['subevent'][combined_masks]\n",
    "    exp_data['azi'] = oscnext_pkl_file['azi'][combined_masks]\n",
    "    exp_data['zen'] = oscnext_pkl_file['zen'][combined_masks]\n",
    "    #run only once for check livetime\n",
    "#    exp_data['Accumulated_time']=oscnext_pkl_file['Accumulated_time'][combined_masks]\n",
    "\n",
    "    temp_array=np.vstack((exp_data['angErr'],exp_data['logE'],exp_data['dec'],\n",
    "                   exp_data['ra'], exp_data['run'],exp_data['event'],exp_data['subevent'],\n",
    "                   exp_data['time'], exp_data['azi'],exp_data['zen']))\n",
    "    temp_array_trans=np.transpose(temp_array)\n",
    "    temp_array_final=rfn.unstructured_to_structured(temp_array_trans, dtype_exp_data_ostnext)\n",
    "    \n",
    "    save_filename='IC86_OscNext_{}_exp.npy'.format(str(yr))\n",
    "    \n",
    "    np.save(save_filename,temp_array_final)\n",
    "    print(len(temp_array_final['logE']))\n",
    "    print('done:',yr)"
   ]
  },
  {
   "cell_type": "code",
   "execution_count": 35,
   "id": "7a040d3c",
   "metadata": {},
   "outputs": [
    {
     "name": "stdout",
     "output_type": "stream",
     "text": [
      "11 12459771.22772485\n",
      "12 31467724.70140646\n",
      "13 51114544.89482185\n",
      "14 72019918.87775832\n",
      "15 93128048.15094051\n",
      "16 113957107.95304519\n",
      "17 137617748.7565015\n",
      "18 158884294.35857\n",
      "19 176855546.6678173\n",
      "20 197970924.50108358\n",
      "21 211788988.402987\n",
      "6.715784766710648\n"
     ]
    }
   ],
   "source": [
    "accum_time=0\n",
    "for yr in years:\n",
    "    pkl_file_path = 'IC86_OscNext_{}_exp.npy'.format(str(yr))\n",
    "    oscnext_pkl=np.load(pkl_file_path)\n",
    "    accum_time+=np.sum(oscnext_pkl['Accumulated_time'])\n",
    "    print(yr,accum_time)\n",
    "print(accum_time/86400/365)"
   ]
  },
  {
   "cell_type": "code",
   "execution_count": 79,
   "id": "78d43721-891a-4692-9fb2-e620978a695d",
   "metadata": {},
   "outputs": [],
   "source": [
    "test_data_file_path='IC86_OscNext_11_exp.npy'\n",
    "test_data_file = np.load(test_data_file_path)"
   ]
  },
  {
   "cell_type": "code",
   "execution_count": 82,
   "id": "ba6350c8",
   "metadata": {},
   "outputs": [
    {
     "data": {
      "text/plain": [
       "array([(0.2927849 , 1.51399491, -0.57333188, 5.11582239, 122282,  3997265, 0, 56414.48562384, 0.74007732, 0.99757409),\n",
       "       (0.0332356 , 1.75119839, -0.67269284, 4.89591508, 122282, 13164839, 0, 56414.5252744 , 2.62823629, 0.8993305 ),\n",
       "       (0.15576315, 0.83394049,  0.62027272, 3.10666037, 122282, 13958439, 0, 56414.52870516, 2.73147893, 2.19217801),\n",
       "       ...,\n",
       "       (0.06033073, 1.91499425, -0.34644479, 2.94508745, 124701,  6411718, 0, 56783.51678332, 5.78861952, 1.22300839),\n",
       "       (0.35640145, 1.05405351, -0.85313883, 5.19632737, 124701, 11136932, 0, 56783.53727388, 1.33920658, 0.71800888),\n",
       "       (0.30424444, 1.0048146 , -0.66453235, 2.23359651, 124701, 13915077, 0, 56783.54932077, 1.21513534, 0.90634376)],\n",
       "      dtype=[('angErr', '<f8'), ('logE', '<f8'), ('dec', '<f8'), ('ra', '<f8'), ('run', '<i8'), ('event', '<i8'), ('subevent', '<i8'), ('time', '<f8'), ('azi', '<f8'), ('zen', '<f8')])"
      ]
     },
     "execution_count": 82,
     "metadata": {},
     "output_type": "execute_result"
    }
   ],
   "source": [
    "test_data_file"
   ]
  },
  {
   "cell_type": "code",
   "execution_count": 85,
   "id": "e69b575e",
   "metadata": {},
   "outputs": [
    {
     "data": {
      "text/plain": [
       "(array([3.1378e+04, 1.9830e+03, 4.5500e+02, 1.6100e+02, 4.8000e+01,\n",
       "        1.5000e+01, 8.0000e+00, 6.0000e+00, 1.0000e+00, 2.0000e+00]),\n",
       " array([  5.00043887,  58.95717751, 112.91391616, 166.8706548 ,\n",
       "        220.82739345, 274.78413209, 328.74087074, 382.69760938,\n",
       "        436.65434803, 490.61108667, 544.56782532]),\n",
       " <BarContainer object of 10 artists>)"
      ]
     },
     "execution_count": 85,
     "metadata": {},
     "output_type": "execute_result"
    },
    {
     "data": {
      "image/png": "[encoded data removed]",
      "text/plain": [
       "<Figure size 640x480 with 1 Axes>"
      ]
     },
     "metadata": {},
     "output_type": "display_data"
    }
   ],
   "source": [
    "plt.hist(10**test_data_file['logE'],bins=())"
   ]
  },
  {
   "cell_type": "code",
   "execution_count": 81,
   "id": "c595c9e3-8d02-4f20-b450-ff42a38e989f",
   "metadata": {},
   "outputs": [
    {
     "data": {
      "image/png": "[encoded data removed]",
      "text/plain": [
       "<Figure size 640x480 with 1 Axes>"
      ]
     },
     "metadata": {},
     "output_type": "display_data"
    }
   ],
   "source": [
    "plt.hist(test_data_file['angErr'],bins=np.logspace(-4,1,20))\n",
    "plt.xlim([1e-3,10])\n",
    "plt.xscale('log')"
   ]
  },
  {
   "cell_type": "code",
   "execution_count": null,
   "id": "40055e58-5277-409e-8c3f-e59fade08eb8",
   "metadata": {},
   "outputs": [],
   "source": [
    "#start loop\n",
    "for yr in years:\n",
    "    directory = '/data/user/tchau/DarkMatter_OscNext/Sample/Data/'\n",
    "    pkl_file_name = 'data_IC86.{}_level7_v02.00_pass2.pkl'.format(str(yr))\n",
    "    pkl_file_path = directory + pkl_file_name\n",
    "    angErr_path='pass2_Level7_v02.04_2012_angErr.pkl'.format(str(yr))\n",
    "    angErr_file = np.load(angErr_path, allow_pickle=True)\n",
    "    oscnext_pkl=pd.read_pickle(pkl_file_path)\n",
    "    oscnext_pkl_file= oscnext_pkl\n",
    "\n",
    "    \n",
    "\n",
    "    #apply cut\n",
    "    #L4\n",
    "    noise_l4_mask = oscnext_pkl_file['L4noise_classifier'] > 0.95\n",
    "    #L5\n",
    "    hitdom_l5_mask = oscnext_pkl_file['L5nHit_DOMs'] > 2.5\n",
    "    #L7\n",
    "    #muon_mask\n",
    "    #muon_l7_mask1 = oscnext_pkl_file['L7muon_classifier_all'] > 0.4 #half_remain\n",
    "    muon_l7_mask = oscnext_pkl_file['L7muon_classifier_up'] > 0.4 #half_remain\n",
    "    #Coincident event cuts\n",
    "    ntop_l7_mask = oscnext_pkl_file['L7_ntop15'] < 2.5\n",
    "    nouter_l7_mask = oscnext_pkl_file['L7_nouter'] < 7.5\n",
    "    #Containment cuts\n",
    "    vertex_l7_mask1 = oscnext_pkl_file['L7reco_vertex_z']>-500\n",
    "    vertex_l7_mask2 = oscnext_pkl_file['L7reco_vertex_z']<-200\n",
    "    rho36_l7_mask = oscnext_pkl_file['L7reco_vertex_rho36'] < 300\t\n",
    "    #reconstructed vertex inside detector\n",
    "    recotime_l7_mask = oscnext_pkl_file['L7reco_time'] < 14500\n",
    "    #energy mask\n",
    "    energy_mask1 = ((oscnext_pkl_file['reco_TotalEnergy'])>5) #57000 remain\n",
    "    #energy_mask2 = ((oscnext_pkl_file['reco_TotalEnergy'])<300)\n",
    "    combined_masks = (energy_mask1 & muon_l7_mask & hitdom_l5_mask & noise_l4_mask & ntop_l7_mask \n",
    "                      & vertex_l7_mask1 & vertex_l7_mask2 & nouter_l7_mask & rho36_l7_mask & recotime_l7_mask)\n",
    "    \n",
    "    #angErr_file['angErr'] = np.concatenate((angErr_file['angErr'],([1e-2,1e-2,1e-2])))\n",
    "    \n",
    "    # minimal amount of exp data: run, ra, dec, ang_err, time, log energy\n",
    "    exp_data={}\n",
    "    exp_data['angErr'] = angErr_file['angErr'][:len(oscnext_pkl_file['RunID'])][combined_masks]\n",
    "    exp_data['logE']= np.log10(oscnext_pkl_file['reco_TotalEnergy'])[combined_masks]\n",
    "    exp_data['dec'] = oscnext_pkl_file['reco_Dec'][combined_masks]\n",
    "    exp_data['ra'] = oscnext_pkl_file['reco_RA'][combined_masks]\n",
    "    exp_data['run'] = oscnext_pkl_file['RunID'][combined_masks]\n",
    "    exp_data['time'] = oscnext_pkl_file['StartTime'][combined_masks]\n",
    "    #trivial field\n",
    "    exp_data['event'] = np.zeros(np.shape(oscnext_pkl_file['RunID']))[combined_masks]\n",
    "    exp_data['subevent'] = np.zeros(np.shape(oscnext_pkl_file['RunID']))[combined_masks]\n",
    "    exp_data['azi'] = np.zeros(np.shape(oscnext_pkl_file['RunID']))[combined_masks]\n",
    "    exp_data['zen'] = np.zeros(np.shape(oscnext_pkl_file['RunID']))[combined_masks]\n",
    "\n",
    "    temp_array=np.vstack((exp_data['angErr'],exp_data['logE'],exp_data['dec'],\n",
    "                   exp_data['ra'], exp_data['run'],exp_data['event'],exp_data['subevent'],\n",
    "                   exp_data['time'], exp_data['azi'],exp_data['zen']))\n",
    "    temp_array_trans=np.transpose(temp_array)\n",
    "    temp_array_final=rfn.unstructured_to_structured(temp_array_trans, dtype_exp_data_ostnext)\n",
    "\n",
    "    save_filename='IC86_OscNext_{}_exp.npy'.format(str(yr))\n",
    "    \n",
    "    np.save(save_filename,temp_array_final)\n",
    "    print('done:',yr)"
   ]
  },
  {
   "cell_type": "markdown",
   "id": "28ed3e59-91d1-419a-978f-a5b3bf8dad68",
   "metadata": {},
   "source": [
    "### draft ###"
   ]
  },
  {
   "cell_type": "code",
   "execution_count": null,
   "id": "d17698c1-9838-4d6c-8b04-139062f7b8b7",
   "metadata": {},
   "outputs": [],
   "source": [
    "check_log10_file_path='/data/user/liruohan/dataset/OscNext/data/IC86_2012_exp_minimal.npy'\n",
    "check_log10_file=np.load(check_log10_file_path)"
   ]
  },
  {
   "cell_type": "code",
   "execution_count": null,
   "id": "e995a232-9d72-42e4-922e-c3642047c7ce",
   "metadata": {},
   "outputs": [],
   "source": [
    "min(check_log10_file['logE'])"
   ]
  },
  {
   "cell_type": "code",
   "execution_count": null,
   "id": "227f18cb-a93b-4b67-b4e7-6f28ab4bbe66",
   "metadata": {},
   "outputs": [],
   "source": [
    "energy_mask = (check_log10_file['logE'] > 0)"
   ]
  },
  {
   "cell_type": "code",
   "execution_count": null,
   "id": "ab680140-456b-48d7-8671-2e068c0218db",
   "metadata": {},
   "outputs": [],
   "source": [
    "len(check_log10_file['dec']),len(check_log10_file['dec'][energy_mask])"
   ]
  },
  {
   "cell_type": "code",
   "execution_count": null,
   "id": "b2194363-4fad-42fa-98b9-c6cc7f4fbe6d",
   "metadata": {},
   "outputs": [],
   "source": [
    "#check NT format\n",
    "NT_MC_file_path = '/data/ana/analyses/northern_tracks/version-005-p02/IC86_pass2_MC.npy'\n",
    "NT_MC_file = np.load(NT_MC_file_path)"
   ]
  },
  {
   "cell_type": "code",
   "execution_count": null,
   "id": "7ecfb448-d6b5-489a-a23c-d5f8d82fb1da",
   "metadata": {},
   "outputs": [],
   "source": [
    "NT_MC_file"
   ]
  },
  {
   "cell_type": "code",
   "execution_count": null,
   "id": "f850f9d1-fa36-4c3d-bffd-bdeb2a218d2f",
   "metadata": {},
   "outputs": [],
   "source": [
    "NT_MC_file['run']"
   ]
  },
  {
   "cell_type": "code",
   "execution_count": null,
   "id": "27e8e700-80cd-4c54-b92b-5481036ed883",
   "metadata": {},
   "outputs": [],
   "source": [
    "#check if distribution looks same, only for muon sim"
   ]
  },
  {
   "cell_type": "code",
   "execution_count": null,
   "id": "e8bde64f-5788-46ae-aaf7-689c36581d79",
   "metadata": {},
   "outputs": [],
   "source": [
    "old_sim_file_path='/data/user/liruohan/dataset/OscNext/data/IC86_OscNext_nu_mu.npy'\n",
    "old_sim = np.load(old_sim_file_path,'r')"
   ]
  },
  {
   "cell_type": "code",
   "execution_count": null,
   "id": "9e452afa-aa92-4042-85cf-89e06f363c6f",
   "metadata": {},
   "outputs": [],
   "source": [
    "old_sim"
   ]
  },
  {
   "cell_type": "code",
   "execution_count": null,
   "id": "8fa95084-2e10-45e2-aab3-5379cf5a8f59",
   "metadata": {},
   "outputs": [],
   "source": [
    "np.sum(old_sim['ow'])"
   ]
  },
  {
   "cell_type": "code",
   "execution_count": null,
   "id": "32604fc5-071e-4b41-89a7-8bad37ae7243",
   "metadata": {},
   "outputs": [],
   "source": [
    "new_sim_path = '/data/user/liruohan/dataset/OscNext/data/IC86_pass2_MC_nu_mu.npy'\n",
    "#'/data/user/niovine/projects/DarkMatter_OscNext/Samples/OscNext/L7/SimulationFiles/Reprocessed/OscNext_Level7_v02.00_140000_pass2_variables_NoCut.pkl'\n",
    "new_sim = np.load(new_sim_path,'r', allow_pickle=True)"
   ]
  },
  {
   "cell_type": "code",
   "execution_count": null,
   "id": "f0a54335-16cf-48c9-b9e3-b86a1f9fa25b",
   "metadata": {},
   "outputs": [],
   "source": [
    "np.sum(new_sim['ow'])"
   ]
  },
  {
   "cell_type": "code",
   "execution_count": null,
   "id": "46e16f8f-cf07-47f9-aa5e-3672b3452453",
   "metadata": {},
   "outputs": [],
   "source": [
    "new_sim"
   ]
  },
  {
   "cell_type": "code",
   "execution_count": null,
   "id": "71864cec-3474-452a-a847-eb28e4139be6",
   "metadata": {},
   "outputs": [],
   "source": [
    "len(np.unique(new_sim['140000']['Event_ID'])),len(np.unique(new_sim['140000'][ 'NEvents']))"
   ]
  },
  {
   "cell_type": "code",
   "execution_count": null,
   "id": "f3d869eb-36b8-476e-986c-7ea3650c5283",
   "metadata": {},
   "outputs": [],
   "source": [
    "min(new_sim['140000']['true_Energy']),max(new_sim['140000']['true_Energy']),min(old_sim['trueE']),max(old_sim['trueE'])"
   ]
  },
  {
   "cell_type": "code",
   "execution_count": null,
   "id": "94420896-8277-49a8-817e-a7711856382e",
   "metadata": {},
   "outputs": [],
   "source": [
    "dec_bins=[-1.57,1.57,100]\n",
    "ra_bins=[0,6.3,100]\n",
    "true_E_bins=np.logspace(1,5,50)\n",
    "one_weight_bins=[2,6e10,100]\n",
    "plt.hist(old_sim['trueE'],bins=true_E_bins,label='old',density=True,histtype='step')\n",
    "plt.hist(new_sim['140000']['true_Energy'],true_E_bins,label='new',density=True,alpha=0.3)\n",
    "plt.legend()\n",
    "plt.xscale('log')\n",
    "plt.xlim([1,1e5])"
   ]
  },
  {
   "cell_type": "code",
   "execution_count": null,
   "id": "0b616dae-bc10-4937-a7c6-a35de0c1c2e5",
   "metadata": {},
   "outputs": [],
   "source": [
    "dtype_MC_ostnext=np.dtype([('ow', '<f8'), ('trueE', '<f8'), ('prompt', '<f8'), ('astro', '<f8'),\n",
    "                        ('zen', '<f8'), ('angErr', '<f8'), ('logE', '<f8'), ('dec', '<f8'),\n",
    "                        ('trueDec', '<f8'), ('trueRa', '<f8'), ('trueAzi', '<f8'), ('trueZen', '<f8'),\n",
    "                        ('ra', '<f8'), ('psi', '<f8'), ('run', '<i8'), ('event', '<i8'), ('subevent', '<i8'),\n",
    "                        ('time', '<f8'), ('azi', '<f8'), ('conv', '<f8')])\n",
    "pid_dict={'nu_e':'120000','nu_mu':'140000','nu_tau':'160000'}"
   ]
  },
  {
   "cell_type": "code",
   "execution_count": null,
   "id": "5b4c6a30-534b-4a30-ba18-7b90cddd5752",
   "metadata": {},
   "outputs": [],
   "source": [
    "#start loop\n",
    "\n",
    "for name, pid in pid_dict.items():    \n",
    "    \n",
    "    sim_file_folder='/data/user/niovine/projects/DarkMatter_OscNext/Samples/OscNext/L7/SimulationFiles/Reprocessed/'\n",
    "    OSC_sim_path=sim_file_folder+'OscNext_Level7_v02.00_{}_pass2_variables_NoCut.pkl'.format(pid)\n",
    "    OSC_sim = np.load(OSC_sim_path,'r', allow_pickle=True)\n",
    "\n",
    "    #apply cut\n",
    "    energy_mask = (np.log10(OSC_sim[pid]['reco_TotalEnergy'])>0)\n",
    "    muon_l7_mask = OSC_sim[pid]['L7muon_classifier_all'] > 0.4\n",
    "    hitdom_l5_mask = OSC_sim[pid]['L5nHit_DOMs'] > 2.5\n",
    "    noise_l4_mask = OSC_sim[pid]['L4noise_classifier'] > 0.95\n",
    "    ntop_l7_mask = OSC_sim[pid]['L7_ntop15'] < 2.5\n",
    "    vertex_l7_mask1 = OSC_sim[pid]['L7reco_vertex_z']>-500\n",
    "    vertex_l7_mask2 = OSC_sim[pid]['L7reco_vertex_z']<-200\n",
    "    nouter_l7_mask = OSC_sim[pid]['L7_nouter'] < 7.5\n",
    "    rho36_l7_mask = OSC_sim[pid]['L7reco_vertex_rho36'] < 300\t\n",
    "    recotime_l7_mask = OSC_sim[pid]['L7reco_time'] < 14500\n",
    "    \n",
    "    combined_masks = (energy_mask & muon_l7_mask & hitdom_l5_mask & noise_l4_mask & ntop_l7_mask\n",
    "                      & vertex_l7_mask1 & vertex_l7_mask2 & nouter_l7_mask & rho36_l7_mask & recotime_l7_mask)\n",
    "\n",
    "    \n",
    "    # minimal amount of mc data: run, ra, dec, ang_err, time, log energy, true_ra, true_dec, true_energy, mcweight   \n",
    "    df_oscnext={}\n",
    "    print(pid)\n",
    "    df_oscnext['ow']=OSC_sim[pid]['OneWeight'][combined_masks]\n",
    "    df_oscnext['trueE']=np.log10(OSC_sim[pid]['true_Energy'])[combined_masks]\n",
    "    df_oscnext['angErr']= abs(OSC_sim[pid]['true_psi']-OSC_sim[pid]['reco_psi'])[combined_masks]\n",
    "    df_oscnext['logE']=np.log10(OSC_sim[pid]['reco_TotalEnergy'])[combined_masks]\n",
    "    df_oscnext['dec']=OSC_sim[pid]['reco_Dec'][combined_masks]\n",
    "    df_oscnext['trueDec']=OSC_sim[pid]['true_Dec'][combined_masks]\n",
    "    df_oscnext['trueRa']=OSC_sim[pid]['true_RA'][combined_masks]\n",
    "    df_oscnext['ra']=OSC_sim[pid]['reco_RA'][combined_masks]\n",
    "    df_oscnext['run']=OSC_sim[pid]['Event_ID'][combined_masks]\n",
    "    df_oscnext['time']=OSC_sim[pid]['MJD_time'][combined_masks]\n",
    "\n",
    "    #trivial field\n",
    "    df_oscnext['prompt']=np.zeros(np.shape(OSC_sim[pid]['true_Energy']))[combined_masks]\n",
    "    df_oscnext['astro']=np.zeros(np.shape(OSC_sim[pid]['true_Energy']))[combined_masks]\n",
    "    df_oscnext['zen']=np.zeros(np.shape(OSC_sim[pid]['true_Energy']))[combined_masks]\n",
    "    df_oscnext['trueAzi']=np.zeros(np.shape(OSC_sim[pid]['true_Energy']))[combined_masks]\n",
    "    df_oscnext['trueZen']=np.zeros(np.shape(OSC_sim[pid]['true_Energy']))[combined_masks]\n",
    "    df_oscnext['psi']=np.zeros(np.shape(OSC_sim[pid]['true_Energy']))[combined_masks]\n",
    "    df_oscnext['event']=np.zeros(np.shape(OSC_sim[pid]['true_Energy']))[combined_masks]\n",
    "    df_oscnext['subevent']=np.zeros(np.shape(OSC_sim[pid]['true_Energy'])) [combined_masks]\n",
    "    df_oscnext['azi']=np.zeros(np.shape(OSC_sim[pid]['true_Energy']))[combined_masks]\n",
    "    df_oscnext['conv']=np.zeros(np.shape(OSC_sim[pid]['true_Energy']))[combined_masks]\n",
    "\n",
    "    #file to save\n",
    "    save_file_name = \"/data/user/liruohan/dataset/OscNext/data/IC86_pass2_MC_{}.npy\".format(name)\n",
    "    temp_array=np.vstack((df_oscnext['ow'],df_oscnext['trueE'],df_oscnext['prompt'],df_oscnext['astro'],\n",
    "                          df_oscnext['zen'], df_oscnext['angErr'],df_oscnext['logE'],df_oscnext['dec'],\n",
    "                          df_oscnext['trueDec'], df_oscnext['trueRa'],df_oscnext['trueAzi'],df_oscnext['trueZen'],\n",
    "                          df_oscnext['ra'], df_oscnext['psi'],df_oscnext['run'],df_oscnext['event'],\n",
    "                          df_oscnext['subevent'],df_oscnext['time'],df_oscnext['azi'], df_oscnext['conv']))\n",
    "    temp_array_trans=np.transpose(temp_array)\n",
    "    temp_array_final=rfn.unstructured_to_structured(temp_array_trans, dtype_MC_ostnext)\n",
    "    np.save(save_file_name,temp_array_final)\n",
    "    print(name+'done')"
   ]
  },
  {
   "cell_type": "code",
   "execution_count": null,
   "id": "60b64d19-d62c-4f01-82f2-64ac8f643284",
   "metadata": {},
   "outputs": [],
   "source": [
    "#how NTS sim looks like?"
   ]
  },
  {
   "cell_type": "code",
   "execution_count": null,
   "id": "a1bff9e7",
   "metadata": {},
   "outputs": [],
   "source": [
    "NTS_sim_path='/data/ana/analyses/northern_tracks/version-005-p01/IC86_pass2_MC.npy'"
   ]
  },
  {
   "cell_type": "code",
   "execution_count": null,
   "id": "fd4ee607-f9e3-4a79-81ae-508cd00aafd8",
   "metadata": {},
   "outputs": [],
   "source": [
    "NTS_sim = np.load(NTS_sim_path,'r')\n",
    "NTS_sim"
   ]
  },
  {
   "cell_type": "code",
   "execution_count": null,
   "id": "a8298138-fa8f-4390-ba89-794060ab9fa6",
   "metadata": {},
   "outputs": [],
   "source": [
    "old_sim['angErr'],abs(new_sim['140000']['true_psi']-new_sim['140000']['reco_psi'])"
   ]
  }
 ],
 "metadata": {
  "kernelspec": {
   "display_name": "Python 3 cvmfs",
   "language": "python",
   "name": "python37"
  },
  "language_info": {
   "codemirror_mode": {
    "name": "ipython",
    "version": 3
   },
   "file_extension": ".py",
   "mimetype": "text/x-python",
   "name": "python",
   "nbconvert_exporter": "python",
   "pygments_lexer": "ipython3",
   "version": "3.12.8"
  }
 },
 "nbformat": 4,
 "nbformat_minor": 5
}
