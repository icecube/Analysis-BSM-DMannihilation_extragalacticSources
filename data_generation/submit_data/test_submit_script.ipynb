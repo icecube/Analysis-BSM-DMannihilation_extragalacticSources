{
 "cells": [
  {
   "cell_type": "code",
   "execution_count": null,
   "id": "431446ef-cb0b-4ce8-a8d6-f3ed4e99862f",
   "metadata": {},
   "outputs": [],
   "source": [
    "import sys\n",
    "import os\n",
    "\n",
    "import math\n",
    "import pickle as pkl\n",
    "import numpy as np\n",
    "import tables\n",
    "\n",
    "from icecube import dataio, dataclasses, astro\n",
    "import time\n",
    "import random\n",
    "\n",
    "sys.path.append(\"/data/user/liruohan/dataset/OscNext\")\n",
    "#import TimeConverter as TConverter\n",
    "import os.path\n",
    "\n",
    "\n",
    "# import argparse\n",
    "# parser=argparse.ArgumentParser()\n",
    "# parser.add_argument(\"--year\", \"-yr\", help=\"which year of data\", type=str, default=\"12\")\n",
    "# args=parser.parse_args()\n",
    "# print(args.year)\n",
    "\n",
    "\n",
    "def extract_data(year, run_num, subrun_num, data_option, file_version, outputfile):\n",
    "    \n",
    "    data_var = dict()\n",
    "\n",
    "    #dtype([('angErr', '<f8'), ('logE', '<f8'), ('dec', '<f8'), ('ra', '<f8'), \n",
    "    #('run', '<i8'), ('event', '<i8'), ('subevent', '<i8'), ('time', '<f8'),\n",
    "    #('azi', '<f8'), ('zen', '<f8')])\n",
    "    \n",
    "    #General infos\n",
    "    run_id_arr = np.array([])\n",
    "    event_arr = np.array([])\n",
    "    subevent_arr = np.array([])\n",
    "    time_mjd = np.array([])\n",
    "    accumulated_time_arr = np.array([])\n",
    "    #Cuts\n",
    "    L4noise_classifier = np.array([])\n",
    "    L5nHit_DOMs = np.array([])\n",
    "    L7osc_next_bool = np.array([])\n",
    "    L7muon_classifier_all = np.array([])\n",
    "    L7muon_classifier_up = np.array([])\n",
    "    L7_ntop15 = np.array([])\n",
    "    L7_nouter = np.array([])\n",
    "    L7reco_vertex_z = np.array([])\n",
    "    L7reco_vertex_rho36 = np.array([])\n",
    "    L7reco_time = np.array([])   \n",
    "    #Reco variables\n",
    "    reco_zenith = np.array([])\n",
    "    reco_zenith_err = np.array([])\n",
    "    reco_azimuth = np.array([])\n",
    "    reco_azimuth_err = np.array([])\n",
    "    reco_psi = np.array([])\n",
    "    reco_TotalEnergy = np.array([])\n",
    "    reco_dec = np.array([])\n",
    "    reco_ra = np.array([])\n",
    "    reco_cascade_energy = np.array([])\n",
    "    reco_track_energy = np.array([])\n",
    "\n",
    "    NFiles = 0\n",
    "    \n",
    "    #print (run_num)\n",
    "    \n",
    "    #print(run_num[year][0],run_num[year][1]+1)\n",
    "    run_range = np.arange(run_num[year][0],run_num[year][1]+1)\n",
    "    print (run_range)\n",
    "    \n",
    "    for run in run_range:\n",
    "        \n",
    "        path = \"/data/ana/LE/oscNext/pass2/data/level7_v02.00/IC86.{}/Run{}/\".format(year,str(run).zfill(8))\n",
    "        #print(path)\n",
    "        #In burnsample, only keep run ending by 0\n",
    "        if (data_option == \"burnsample\") and (str(run).endswith(\"0\")==False):\n",
    "            continue\n",
    "            \n",
    "        if os.path.isdir(path) == False:\n",
    "            print (\"Run{} does not exist\".format(str(run).zfill(8)))\n",
    "            continue\n",
    "\n",
    "        else:\n",
    "            print(\"Run{}\".format(str(run).zfill(8)))\n",
    "            for subrun in range(subrun_num):\n",
    "\n",
    "                try:\n",
    "                    #to_print = \"Nothing\"\n",
    "                    filename = \"oscNext_data_IC86.{}_level7_v02.00_pass2_Run{}_Subrun{}.hdf5\".format(year,str(run).zfill(8),str(subrun).zfill(8))\n",
    "                    #print('check name',filename)\n",
    "                    hdf = tables.open_file(path+filename,'r')\n",
    "                    #to_print = \"File opened\"\n",
    "                    \n",
    "\n",
    "                    ##Cuts##\n",
    "                    L4noise_classifier = np.append(L4noise_classifier, hdf.root.L4_NoiseClassifier_ProbNu.cols.value[:])\n",
    "                    L5nHit_DOMs = np.append(L5nHit_DOMs, hdf.root.L5_SANTA_DirectPulsesHitMultiplicity.cols.n_hit_doms[:])\n",
    "                    L7osc_next_bool = np.append(L7osc_next_bool, hdf.root.L7_oscNext_bool.cols.value[:])\n",
    "                    L7muon_classifier_all =np.append(L7muon_classifier_all, hdf.root.L7_MuonClassifier_FullSky_ProbNu.cols.value[:])\n",
    "                    L7muon_classifier_up = np.append(L7muon_classifier_up, hdf.root.L7_MuonClassifier_Upgoing_ProbNu.cols.value[:])\n",
    "                    L7_ntop15 = np.append(L7_ntop15, hdf.root.L7_CoincidentMuon_Variables.cols.n_top15[:])\n",
    "                    L7_nouter = np.append(L7_nouter, hdf.root.L7_CoincidentMuon_Variables.cols.n_outer[:])\n",
    "                    L7reco_vertex_z = np.append(L7reco_vertex_z, hdf.root.L7_reconstructed_vertex_z.cols.value[:])\n",
    "                    L7reco_vertex_rho36 = np.append(L7reco_vertex_rho36, hdf.root.L7_reconstructed_vertex_rho36.cols.value[:])\n",
    "                    L7reco_time = np.append(L7reco_time, hdf.root.L7_reconstructed_time.cols.value[:])\n",
    "                    #print('cut done',filename)\n",
    "                    ##Reconstructed Informations##\n",
    "                    reco_zenith = np.append(reco_zenith, hdf.root.retro_crs_prefit__zenith.cols.median[:])\n",
    "                    reco_zenith_err = np.append(reco_zenith_err, (hdf.root.retro_crs_prefit__zenith.cols.upper_bound[:]-hdf.root.retro_crs_prefit__zenith.cols.lower_bound[:])/2)\n",
    "                    reco_azimuth = np.append(reco_azimuth, hdf.root.retro_crs_prefit__azimuth.cols.median[:])\n",
    "                    reco_azimuth_err = np.append(reco_azimuth_err, (hdf.root.retro_crs_prefit__azimuth.cols.upper_bound[:]-hdf.root.retro_crs_prefit__azimuth.cols.lower_bound[:])/2)\n",
    "                    reco_cascade_energy = np.append(reco_cascade_energy, hdf.root.retro_crs_prefit__cascade_energy.cols.median[:])\n",
    "                    reco_track_energy = np.append(reco_track_energy, hdf.root.retro_crs_prefit__track_energy.cols.median[:])\n",
    "                    #print('reco done',filename)\n",
    "                                        ##General Informations##\n",
    "                    run_id_arr = np.append(run_id_arr, hdf.root.I3EventHeader.cols.Run[:])\n",
    "                    event_arr = np.append(event_arr, hdf.root.I3EventHeader.cols.Event[:])\n",
    "                    subevent_arr = np.append(subevent_arr,hdf.root.I3EventHeader.cols.SubEvent[:])\n",
    "                    time_mjd = np.append(time_mjd, hdf.root.I3EventHeader.cols.time_start_mjd[:])\n",
    "                    accumulated_time_arr = np.append(accumulated_time_arr, hdf.root.L4_accumulated_time.cols.value[:])\n",
    "                    #print('general info done',filename)\n",
    "                    \n",
    "                    NFiles+=1\n",
    "                    hdf.close()\n",
    "                    \n",
    "                except Exception as e:\n",
    "                    hdf.close()\n",
    "                    #print(e)\n",
    "                    continue\n",
    "                    \n",
    "    #print (NFiles)\n",
    "    #print(len(reco_zenith),len(reco_azimuth),len(time_mjd))\n",
    "    #print(reco_zenith,reco_azimuth,time_mjd)\n",
    "    #Reco\n",
    "    reco_ra, reco_dec = astro.dir_to_equa(reco_zenith, reco_azimuth, time_mjd)\n",
    "    #Scramble in RA\n",
    "    reco_ra = (2*math.pi)*np.random.rand(len(reco_dec))\n",
    "    reco_psi = astro.angular_distance(reco_ra, reco_dec, np.radians(266.4167), np.radians(-29.0078))\n",
    "    \n",
    "    #General informations\n",
    "    data_var[\"run\"] = run_id_arr               \n",
    "    data_var[\"MJD_time\"] = time_mjd\n",
    "    data_var[\"event\"] = event_arr\n",
    "    data_var[\"subevent\"] = subevent_arr\n",
    "    data_var[\"Accumulated_time\"] = accumulated_time_arr\n",
    "    \n",
    "    #Reconstructed\n",
    "    data_var[\"reco_TotalEnergy\"] = reco_cascade_energy + reco_track_energy\n",
    "    data_var[\"angErr\"]= np.sqrt(reco_zenith_err**2 + reco_azimuth_err**2)\n",
    "    data_var[\"logE\"]= np.log10(reco_cascade_energy + reco_track_energy)\n",
    "    data_var[\"zen\"] = reco_zenith\n",
    "    data_var[\"azi\"] = reco_azimuth\n",
    "    data_var[\"dec\"] = reco_ra\n",
    "    data_var[\"ra\"] = reco_dec\n",
    "    data_var[\"reco_psi\"] = reco_psi\n",
    "     \n",
    "    #Cuts\n",
    "    data_var[\"L4noise_classifier\"]=L4noise_classifier\n",
    "    data_var[\"L5nHit_DOMs\"]=L5nHit_DOMs\n",
    "    data_var[\"L7OscNext_bool\"] = L7osc_next_bool\n",
    "    data_var[\"L7muon_classifier_all\"] = L7muon_classifier_all\n",
    "    data_var[\"L7muon_classifier_up\"] = L7muon_classifier_up\n",
    "    data_var[\"L7_ntop15\"] = L7_ntop15\n",
    "    data_var[\"L7_nouter\"] = L7_nouter\n",
    "    data_var[\"L7reco_vertex_z\"] = L7reco_vertex_z\n",
    "    data_var[\"L7reco_vertex_rho36\"] = L7reco_vertex_rho36\n",
    "    data_var[\"L7reco_time\"] = L7reco_time\n",
    "\n",
    "    #print (NFiles)\n",
    "    \n",
    "    pkl.dump(data_var, open(outputfile, \"wb\"))\n",
    "    return data_var"
   ]
  },
  {
   "cell_type": "markdown",
   "id": "f4fc78da-2dd8-4788-a6b0-dbc44a3fd686",
   "metadata": {},
   "source": [
    "## only run small amount of data to check validity ##"
   ]
  },
  {
   "cell_type": "code",
   "execution_count": null,
   "id": "2e6fefa4-c842-44d1-807c-2cb8ec3c236f",
   "metadata": {},
   "outputs": [],
   "source": [
    "data_option = \"test_sample\" #\"data\" #\n",
    "file_version = \"v02.00\"\n",
    "\n",
    "years = [\"12\",\"13\",\"14\"]\n",
    "runs={\"12\":[121269,122274],\"13\":[123691,124701],\"14\":[125370,126376]}\n",
    "subruns = 380 #365\n",
    "\n",
    "\n",
    "# years = [\"11\",\"12\",\"13\",\"14\",\"15\",\"16\",\"17\",\"18\",\"19\",\"20\",\"21\"]\n",
    "# #test 100 subrun\n",
    "# runs={\"11\":[118550,118650],\"12\":[120028,120128],\"13\":[122282,122382],\"14\":[124551,124651],\n",
    "#       \"15\":[126289,126389],\"16\":[127951,128051],\"17\":[129523,129623],\"18\":[131184,131284],\n",
    "#       \"19\":[132765,132865],\"20\":[134064,134164],\"21\":[135251,135351]}\n",
    "# # runs={\"11\":[118550,119879],\"12\":[120028,122274],\"13\":[122282,124701],\"14\":[124551,126376],\n",
    "# #       \"15\":[126289,127949],\"16\":[127951,129518],\"17\":[129523,131259],\"18\":[131184,132846],\n",
    "# #       \"19\":[132765,134136],\"20\":[134064,135328],\"21\":[135251,136220]}\n",
    "# subruns = 400 #365"
   ]
  },
  {
   "cell_type": "code",
   "execution_count": null,
   "id": "37545002-f44d-4c51-a643-6073ea3b615c",
   "metadata": {
    "scrolled": true
   },
   "outputs": [],
   "source": [
    "f = open(\"log.txt\", \"a\")\n",
    "for year in years:\n",
    "    file_name = \"/data/user/liruohan/dataset/OscNext/data/pass2_Level7_v02.00_20{}_notebook_.pkl\".format(year)\n",
    "    f.write (\"-------------------------------------------\")\n",
    "    f.write (\"### 20{} ###\".format(year))\n",
    "    f.write (\"-------------------------------------------\")\n",
    "    f.write (file_name)\n",
    "    f.write('{0} {1} {2} {3} {4} {4}\\n'.format(year, runs, subruns, data_option, file_version, file_name))\n",
    "    data_dict = extract_data(year, runs, subruns, data_option, file_version, file_name)\n",
    "f.close()"
   ]
  },
  {
   "cell_type": "code",
   "execution_count": null,
   "id": "7e7fc5b4-cbe0-4d18-a0ea-61fbe168417a",
   "metadata": {},
   "outputs": [],
   "source": [
    "test_file_path ='/data/ana/LE/oscNext/pass2/data/level7_v02.04/IC86.12/Run00120157/oscNext_data_IC86.12_level7_v02.04_pass2_Run00120157_Subrun00000045.hdf5'"
   ]
  },
  {
   "cell_type": "code",
   "execution_count": null,
   "id": "63f4a4ad-ed65-4b4e-804d-441da9d03837",
   "metadata": {},
   "outputs": [],
   "source": [
    "import h5py"
   ]
  },
  {
   "cell_type": "code",
   "execution_count": null,
   "id": "1049632e-c1ad-48dc-9309-8d02cd5d443a",
   "metadata": {},
   "outputs": [],
   "source": [
    "f = tables.open_file(test_file_path)"
   ]
  },
  {
   "cell_type": "code",
   "execution_count": null,
   "id": "871c4585-01a4-4872-bf91-48c46f017828",
   "metadata": {},
   "outputs": [],
   "source": [
    "f.root"
   ]
  },
  {
   "cell_type": "code",
   "execution_count": null,
   "id": "0519daac-0028-4fdb-a8c7-1e37abea1eea",
   "metadata": {},
   "outputs": [],
   "source": [
    "f.root.I3EventHeader"
   ]
  },
  {
   "cell_type": "code",
   "execution_count": null,
   "id": "1b28b323-e0d2-4ad2-9e0d-2fe5a16ef869",
   "metadata": {},
   "outputs": [],
   "source": [
    "f.root.L7_reconstructed_zenith"
   ]
  },
  {
   "cell_type": "code",
   "execution_count": null,
   "id": "111675bc-d625-49df-ad78-feb4795f6c00",
   "metadata": {},
   "outputs": [],
   "source": [
    "f.root.L7_reconstructed_zenith.cols.value[:]"
   ]
  },
  {
   "cell_type": "code",
   "execution_count": null,
   "id": "2f153e87-e89a-49a4-b7ee-2427725411a2",
   "metadata": {},
   "outputs": [],
   "source": [
    "f.root.L7_retro_crs_prefit__zenith_sigma_tot.cols.value[:]"
   ]
  },
  {
   "cell_type": "code",
   "execution_count": null,
   "id": "efcdd1a3-a771-4826-bdc3-9d43c17046a3",
   "metadata": {},
   "outputs": [],
   "source": [
    "f.root.retro_crs_prefit__cascade_energy.cols.mean[:]"
   ]
  },
  {
   "cell_type": "code",
   "execution_count": null,
   "id": "6ce50b77-7718-45c4-b77d-2335eb073f31",
   "metadata": {},
   "outputs": [],
   "source": [
    "f.root.retro_crs_prefit__zenith.cols"
   ]
  },
  {
   "cell_type": "code",
   "execution_count": null,
   "id": "af882c34-6f48-42e2-b516-643a66a89458",
   "metadata": {},
   "outputs": [],
   "source": [
    "(f.root.retro_crs_prefit__zenith.cols.upper_bound[:]-f.root.retro_crs_prefit__zenith.cols.lower_bound[:])/2"
   ]
  }
 ],
 "metadata": {
  "kernelspec": {
   "display_name": "Python 3 cvmfs",
   "language": "python",
   "name": "python37"
  },
  "language_info": {
   "codemirror_mode": {
    "name": "ipython",
    "version": 3
   },
   "file_extension": ".py",
   "mimetype": "text/x-python",
   "name": "python",
   "nbconvert_exporter": "python",
   "pygments_lexer": "ipython3",
   "version": "3.12.8"
  }
 },
 "nbformat": 4,
 "nbformat_minor": 5
}
